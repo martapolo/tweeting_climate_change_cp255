{
 "cells": [
  {
   "cell_type": "code",
   "execution_count": 8,
   "metadata": {},
   "outputs": [],
   "source": [
    "import numpy as np\n",
    "import pandas as pd\n",
    "import matplotlib.pyplot as plt\n",
    "import matplotlib as mpl\n",
    "import json      # library for working with JSON-formatted text strings\n",
    "import pprint as pp    # library for cleanly printing Python data structures\n",
    "import seaborn as sns\n",
    "\n",
    "\n",
    "# This is a basic test for https://github.com/taspinar/twitterscraper. Using the demo data looking at all tweets re. Trump. \n",
    "\n",
    "# twitterscraper \"climate change from:metrolosangeles\" --lang en -o cc_test.JSON -l 100"
   ]
  },
  {
   "cell_type": "markdown",
   "metadata": {},
   "source": [
    "FUNCTIONS FUNCTIONS FUNCTIONS"
   ]
  },
  {
   "cell_type": "code",
   "execution_count": 9,
   "metadata": {},
   "outputs": [
    {
     "name": "stdout",
     "output_type": "stream",
     "text": [
      "twitterscraper \"resilience from:seattleopcd\" --lang en -o seattleopcd_res.json -l 400\n",
      "twitterscraper \"resilience from:cityofseattle\" --lang en -o cityofseattle_res.json -l 400\n",
      "twitterscraper \"resilience from:seattledot\" --lang en -o seattledot_res.json -l 400\n",
      "twitterscraper \"resilience from:seattleose\" --lang en -o seattleose_res.json -l 400\n",
      "twitterscraper \"resilience from:kcmetrobus\" --lang en -o kcmetrobus_res.json -l 400\n"
     ]
    }
   ],
   "source": [
    "#FUNCTION: TWITTERSCRAPER TO JSON file\n",
    "\n",
    "def twitterscraper(username, keyword, keyword_abrev):\n",
    "    string = ('twitterscraper \"'+ keyword+' from:'+username+'\" --lang en -o '+username\n",
    "                    +'_'+keyword_abrev+'.JSON -l 400')\n",
    "    return print(string.lower())\n",
    "    \n",
    "for username in [\"SeattleOPCD\", \"CityofSeattle\", \"seattledot\", \"SeattleOSE\", \"kcmetrobus\"]:\n",
    "    twitterscraper(username, \"resilience\", \"res\")\n",
    "    \n",
    "    \n",
    "# example string\n",
    "#string = \"THIS SHOULD BE LOWERCASE!\"\n",
    "#print(string.lower())"
   ]
  },
  {
   "cell_type": "code",
   "execution_count": 10,
   "metadata": {},
   "outputs": [],
   "source": [
    "#FUNCTION JSON TO DATAFRAME\n",
    "def json_to_df_tweets (csv_file):\n",
    "    with open(csv_file) as f:\n",
    "      data = json.load(f)\n",
    "    \n",
    "    d = {'username': [x['username'] for x in data],\n",
    "        'time': [x['timestamp'] for x in data],\n",
    "        'tweet': [x['text'] for x in data],\n",
    "        'likes': [x['likes'] for x in data],\n",
    "        'replies': [x['replies'] for x in data]\n",
    "        }\n",
    "    \n",
    "    df_Test = pd.DataFrame.from_dict(d)\n",
    "    \n",
    "    return df_Test"
   ]
  },
  {
   "cell_type": "code",
   "execution_count": 13,
   "metadata": {},
   "outputs": [],
   "source": [
    "#FUNCTION  COMBINE DATAFRAME\n",
    "def combine_dataframe (df1, df2, df3, df4, df5): #this function smooshes all the dataframes into one using .append()\n",
    "    d1 = df1.append(df2)\n",
    "    d2 = d1.append(df3)\n",
    "    d3 = d2.append(df4)\n",
    "    d4 = d3.append(df5)\n",
    "    return d4.drop_duplicates(subset='tweet', keep=\"first\") #the scraper picked up dups, this rectifies that"
   ]
  },
  {
   "cell_type": "code",
   "execution_count": 11,
   "metadata": {},
   "outputs": [
    {
     "ename": "NameError",
     "evalue": "name 'data1' is not defined",
     "output_type": "error",
     "traceback": [
      "\u001b[1;31m---------------------------------------------------------------------------\u001b[0m",
      "\u001b[1;31mNameError\u001b[0m                                 Traceback (most recent call last)",
      "\u001b[1;32m<ipython-input-11-506078979c0c>\u001b[0m in \u001b[0;36m<module>\u001b[1;34m\u001b[0m\n\u001b[0;32m     22\u001b[0m \u001b[1;33m\u001b[0m\u001b[0m\n\u001b[0;32m     23\u001b[0m \u001b[1;33m\u001b[0m\u001b[0m\n\u001b[1;32m---> 24\u001b[1;33m d = {'username': [x['username'] for x in data1],\n\u001b[0m\u001b[0;32m     25\u001b[0m     \u001b[1;34m'time'\u001b[0m\u001b[1;33m:\u001b[0m \u001b[1;33m[\u001b[0m\u001b[0mx\u001b[0m\u001b[1;33m[\u001b[0m\u001b[1;34m'timestamp'\u001b[0m\u001b[1;33m]\u001b[0m \u001b[1;32mfor\u001b[0m \u001b[0mx\u001b[0m \u001b[1;32min\u001b[0m \u001b[0mdata1\u001b[0m\u001b[1;33m]\u001b[0m\u001b[1;33m,\u001b[0m\u001b[1;33m\u001b[0m\u001b[1;33m\u001b[0m\u001b[0m\n\u001b[0;32m     26\u001b[0m     \u001b[1;34m'tweet'\u001b[0m\u001b[1;33m:\u001b[0m \u001b[1;33m[\u001b[0m\u001b[0mx\u001b[0m\u001b[1;33m[\u001b[0m\u001b[1;34m'text'\u001b[0m\u001b[1;33m]\u001b[0m \u001b[1;32mfor\u001b[0m \u001b[0mx\u001b[0m \u001b[1;32min\u001b[0m \u001b[0mdata1\u001b[0m\u001b[1;33m]\u001b[0m\u001b[1;33m,\u001b[0m\u001b[1;33m\u001b[0m\u001b[1;33m\u001b[0m\u001b[0m\n",
      "\u001b[1;31mNameError\u001b[0m: name 'data1' is not defined"
     ]
    }
   ],
   "source": [
    "# print(data[:500])\n",
    "\n",
    "# pp.pprint(data)\n",
    "\n",
    "# \n",
    "# \n",
    "# \n",
    "# #wordcloud\n",
    "# \n",
    "# \n",
    "# \n",
    "# \n",
    "\n",
    "# In[94]:\n",
    "\n",
    "\n",
    "#for x in data:\n",
    "  # print(x['text'])\n",
    "\n",
    "\n",
    "# In[4]:\n",
    "\n",
    "\n",
    "d = {'username': [x['username'] for x in data1],\n",
    "    'time': [x['timestamp'] for x in data1],\n",
    "    'tweet': [x['text'] for x in data1],\n",
    "    'likes': [x['likes'] for x in data1],\n",
    "    'replies': [x['replies'] for x in data1]\n",
    "    }\n",
    "\n",
    "df = pd.DataFrame.from_dict(d)\n",
    "df"
   ]
  },
  {
   "cell_type": "markdown",
   "metadata": {},
   "source": [
    "Seattle Climate Change"
   ]
  },
  {
   "cell_type": "code",
   "execution_count": null,
   "metadata": {},
   "outputs": [],
   "source": [
    "# Twitter data that states \"climate change\"; the scraper loads in requests by user\n",
    "seattle_cc = json_to_df_tweets ('seattle_cc.JSON')\n",
    "kingmetro_cc = json_to_df_tweets ('kingmetro_cc.json')\n",
    "seattledot_cc = json_to_df_tweets('seattledot_cc.json')\n",
    "seattleose_cc = json_to_df_tweets('seattleose_cc.json')\n",
    "seattleplan_cc = json_to_df_tweets('seattleplan_cc.json')"
   ]
  },
  {
   "cell_type": "code",
   "execution_count": null,
   "metadata": {},
   "outputs": [],
   "source": [
    "def combine_dataframe (df1, df2, df3, df4, df5): #this function smooshes all the dataframes into one using .append()\n",
    "    d1 = df1.append(df2)\n",
    "    d2 = d1.append(df3)\n",
    "    d3 = d2.append(df4)\n",
    "    d4 = d3.append(df5)\n",
    "    return d4.drop_duplicates(subset='tweet', keep=\"first\") #the scraper picked up dups, this rectifies that"
   ]
  },
  {
   "cell_type": "code",
   "execution_count": 8,
   "metadata": {},
   "outputs": [
    {
     "data": {
      "text/html": [
       "<div>\n",
       "<style scoped>\n",
       "    .dataframe tbody tr th:only-of-type {\n",
       "        vertical-align: middle;\n",
       "    }\n",
       "\n",
       "    .dataframe tbody tr th {\n",
       "        vertical-align: top;\n",
       "    }\n",
       "\n",
       "    .dataframe thead th {\n",
       "        text-align: right;\n",
       "    }\n",
       "</style>\n",
       "<table border=\"1\" class=\"dataframe\">\n",
       "  <thead>\n",
       "    <tr style=\"text-align: right;\">\n",
       "      <th></th>\n",
       "      <th>username</th>\n",
       "      <th>time</th>\n",
       "      <th>tweet</th>\n",
       "      <th>likes</th>\n",
       "      <th>replies</th>\n",
       "    </tr>\n",
       "  </thead>\n",
       "  <tbody>\n",
       "    <tr>\n",
       "      <td>0</td>\n",
       "      <td>City of Seattle</td>\n",
       "      <td>2017-06-14T16:16:47</td>\n",
       "      <td>Denial is not a solution. Explore @EPA climate...</td>\n",
       "      <td>8</td>\n",
       "      <td>3</td>\n",
       "    </tr>\n",
       "    <tr>\n",
       "      <td>2</td>\n",
       "      <td>City of Seattle</td>\n",
       "      <td>2013-02-11T20:26:18</td>\n",
       "      <td>Climate Change Open House: Help the City prior...</td>\n",
       "      <td>1</td>\n",
       "      <td>0</td>\n",
       "    </tr>\n",
       "    <tr>\n",
       "      <td>0</td>\n",
       "      <td>King County Metro 🚏 🚌🚎⛴🚐</td>\n",
       "      <td>2015-04-01T02:08:44</td>\n",
       "      <td>We have a mandate because of climate change..T...</td>\n",
       "      <td>1</td>\n",
       "      <td>1</td>\n",
       "    </tr>\n",
       "    <tr>\n",
       "      <td>2</td>\n",
       "      <td>King County Metro 🚏 🚌🚎⛴🚐</td>\n",
       "      <td>2017-10-24T00:20:57</td>\n",
       "      <td>To address climate change and improve air qual...</td>\n",
       "      <td>8</td>\n",
       "      <td>0</td>\n",
       "    </tr>\n",
       "    <tr>\n",
       "      <td>3</td>\n",
       "      <td>King County Metro 🚏 🚌🚎⛴🚐</td>\n",
       "      <td>2017-09-26T20:29:12</td>\n",
       "      <td>A modern electric bus fleet is safe, clean, qu...</td>\n",
       "      <td>29</td>\n",
       "      <td>2</td>\n",
       "    </tr>\n",
       "    <tr>\n",
       "      <td>...</td>\n",
       "      <td>...</td>\n",
       "      <td>...</td>\n",
       "      <td>...</td>\n",
       "      <td>...</td>\n",
       "      <td>...</td>\n",
       "    </tr>\n",
       "    <tr>\n",
       "      <td>24</td>\n",
       "      <td>Seattle Office of Planning &amp; Community Develop...</td>\n",
       "      <td>2018-08-22T14:30:05</td>\n",
       "      <td>As climate change worsens, we will likely see ...</td>\n",
       "      <td>0</td>\n",
       "      <td>0</td>\n",
       "    </tr>\n",
       "    <tr>\n",
       "      <td>25</td>\n",
       "      <td>Seattle Office of Planning &amp; Community Develop...</td>\n",
       "      <td>2018-07-06T16:30:07</td>\n",
       "      <td>\"When it comes to climate change, women leader...</td>\n",
       "      <td>1</td>\n",
       "      <td>0</td>\n",
       "    </tr>\n",
       "    <tr>\n",
       "      <td>26</td>\n",
       "      <td>Seattle Office of Planning &amp; Community Develop...</td>\n",
       "      <td>2018-04-13T18:02:01</td>\n",
       "      <td>Climate change is making resilience a more urg...</td>\n",
       "      <td>0</td>\n",
       "      <td>0</td>\n",
       "    </tr>\n",
       "    <tr>\n",
       "      <td>27</td>\n",
       "      <td>Seattle Office of Planning &amp; Community Develop...</td>\n",
       "      <td>2018-03-13T18:45:12</td>\n",
       "      <td>\"The bubonic plague spread, in part, because o...</td>\n",
       "      <td>0</td>\n",
       "      <td>0</td>\n",
       "    </tr>\n",
       "    <tr>\n",
       "      <td>28</td>\n",
       "      <td>Seattle Office of Planning &amp; Community Develop...</td>\n",
       "      <td>2018-03-02T16:30:38</td>\n",
       "      <td>'Cities aren't going to wait': Mayors (@MayorJ...</td>\n",
       "      <td>1</td>\n",
       "      <td>0</td>\n",
       "    </tr>\n",
       "  </tbody>\n",
       "</table>\n",
       "<p>113 rows × 5 columns</p>\n",
       "</div>"
      ],
      "text/plain": [
       "                                             username                 time  \\\n",
       "0                                     City of Seattle  2017-06-14T16:16:47   \n",
       "2                                     City of Seattle  2013-02-11T20:26:18   \n",
       "0                            King County Metro 🚏 🚌🚎⛴🚐  2015-04-01T02:08:44   \n",
       "2                            King County Metro 🚏 🚌🚎⛴🚐  2017-10-24T00:20:57   \n",
       "3                            King County Metro 🚏 🚌🚎⛴🚐  2017-09-26T20:29:12   \n",
       "..                                                ...                  ...   \n",
       "24  Seattle Office of Planning & Community Develop...  2018-08-22T14:30:05   \n",
       "25  Seattle Office of Planning & Community Develop...  2018-07-06T16:30:07   \n",
       "26  Seattle Office of Planning & Community Develop...  2018-04-13T18:02:01   \n",
       "27  Seattle Office of Planning & Community Develop...  2018-03-13T18:45:12   \n",
       "28  Seattle Office of Planning & Community Develop...  2018-03-02T16:30:38   \n",
       "\n",
       "                                                tweet  likes  replies  \n",
       "0   Denial is not a solution. Explore @EPA climate...      8        3  \n",
       "2   Climate Change Open House: Help the City prior...      1        0  \n",
       "0   We have a mandate because of climate change..T...      1        1  \n",
       "2   To address climate change and improve air qual...      8        0  \n",
       "3   A modern electric bus fleet is safe, clean, qu...     29        2  \n",
       "..                                                ...    ...      ...  \n",
       "24  As climate change worsens, we will likely see ...      0        0  \n",
       "25  \"When it comes to climate change, women leader...      1        0  \n",
       "26  Climate change is making resilience a more urg...      0        0  \n",
       "27  \"The bubonic plague spread, in part, because o...      0        0  \n",
       "28  'Cities aren't going to wait': Mayors (@MayorJ...      1        0  \n",
       "\n",
       "[113 rows x 5 columns]"
      ]
     },
     "execution_count": 8,
     "metadata": {},
     "output_type": "execute_result"
    }
   ],
   "source": [
    "seattle_cc_tweets = combine_dataframe(seattle_cc, kingmetro_cc, seattledot_cc, seattleose_cc, seattleplan_cc)\n",
    "seattle_cc_tweets"
   ]
  },
  {
   "cell_type": "code",
   "execution_count": 12,
   "metadata": {},
   "outputs": [
    {
     "data": {
      "image/png": "[encoded data removed]",
      "text/plain": [
       "<Figure size 432x288 with 1 Axes>"
      ]
     },
     "metadata": {
      "needs_background": "light"
     },
     "output_type": "display_data"
    }
   ],
   "source": [
    "ax = sns.countplot(x='username', data=seattle_cc_tweets)\n",
    "ax.set_xticklabels(labels=['City of Seattle', 'King County Metro', 'Seattle DOT', 'Seattle Sustainability & Environment', 'Seattle Planning', 'Port'],\n",
    "                   rotation=90)\n",
    "plt.show()"
   ]
  },
  {
   "cell_type": "code",
   "execution_count": 93,
   "metadata": {},
   "outputs": [
    {
     "name": "stdout",
     "output_type": "stream",
     "text": [
      "                                                    count      mean  \\\n",
      "username                                                              \n",
      "City of Seattle                                       2.0  4.500000   \n",
      "King County Metro 🚏 🚌🚎⛴🚐                              5.0  7.600000   \n",
      "Seattle OSE                                          84.0  1.261905   \n",
      "Seattle Office of Planning & Community Development   17.0  1.117647   \n",
      "seattledot                                            5.0  5.400000   \n",
      "\n",
      "                                                          std  min   25%  50%  \\\n",
      "username                                                                        \n",
      "City of Seattle                                      4.949747  1.0  2.75  4.5   \n",
      "King County Metro 🚏 🚌🚎⛴🚐                            12.421755  0.0  0.00  1.0   \n",
      "Seattle OSE                                          3.322501  0.0  0.00  0.0   \n",
      "Seattle Office of Planning & Community Development   1.452685  0.0  0.00  1.0   \n",
      "seattledot                                           3.577709  1.0  3.00  5.0   \n",
      "\n",
      "                                                     75%   max  \n",
      "username                                                        \n",
      "City of Seattle                                     6.25   8.0  \n",
      "King County Metro 🚏 🚌🚎⛴🚐                            8.00  29.0  \n",
      "Seattle OSE                                         1.00  27.0  \n",
      "Seattle Office of Planning & Community Development  1.00   4.0  \n",
      "seattledot                                          9.00   9.0  \n"
     ]
    },
    {
     "data": {
      "image/png": "[encoded data removed]",
      "text/plain": [
       "<Figure size 432x288 with 1 Axes>"
      ]
     },
     "metadata": {
      "needs_background": "light"
     },
     "output_type": "display_data"
    },
    {
     "data": {
      "image/png": "[encoded data removed]",
      "text/plain": [
       "<Figure size 360x360 with 1 Axes>"
      ]
     },
     "metadata": {
      "needs_background": "light"
     },
     "output_type": "display_data"
    }
   ],
   "source": [
    "likes_per = seattle_cc_tweets.groupby(\"username\").likes.describe()\n",
    "print(likes_per)\n",
    "\n",
    "likes_per.plot.scatter('count', 'mean')\n",
    "sns.relplot(x=\"count\", y=\"mean\", data=likes_per);"
   ]
  },
  {
   "cell_type": "markdown",
   "metadata": {},
   "source": [
    "Seattle \"Resilience\""
   ]
  },
  {
   "cell_type": "code",
   "execution_count": null,
   "metadata": {},
   "outputs": [],
   "source": [
    "seattleose_res = json_to_df_tweets('seattleose_res.json')\n",
    "seattleopcd_res = json_to_df_tweets('seattleopcd_res.json')"
   ]
  },
  {
   "cell_type": "code",
   "execution_count": 18,
   "metadata": {},
   "outputs": [
    {
     "data": {
      "text/html": [
       "<div>\n",
       "<style scoped>\n",
       "    .dataframe tbody tr th:only-of-type {\n",
       "        vertical-align: middle;\n",
       "    }\n",
       "\n",
       "    .dataframe tbody tr th {\n",
       "        vertical-align: top;\n",
       "    }\n",
       "\n",
       "    .dataframe thead th {\n",
       "        text-align: right;\n",
       "    }\n",
       "</style>\n",
       "<table border=\"1\" class=\"dataframe\">\n",
       "  <thead>\n",
       "    <tr style=\"text-align: right;\">\n",
       "      <th></th>\n",
       "      <th>username</th>\n",
       "      <th>time</th>\n",
       "      <th>tweet</th>\n",
       "      <th>likes</th>\n",
       "      <th>replies</th>\n",
       "    </tr>\n",
       "  </thead>\n",
       "  <tbody>\n",
       "    <tr>\n",
       "      <td>0</td>\n",
       "      <td>Seattle OSE</td>\n",
       "      <td>2018-02-09T16:04:27</td>\n",
       "      <td>\"Enhancing urban resilience to climate change ...</td>\n",
       "      <td>3</td>\n",
       "      <td>1</td>\n",
       "    </tr>\n",
       "    <tr>\n",
       "      <td>1</td>\n",
       "      <td>Seattle OSE</td>\n",
       "      <td>2018-02-03T00:26:32</td>\n",
       "      <td>@MayorJenny spent the week highlighting Seattl...</td>\n",
       "      <td>2</td>\n",
       "      <td>0</td>\n",
       "    </tr>\n",
       "    <tr>\n",
       "      <td>4</td>\n",
       "      <td>Seattle OSE</td>\n",
       "      <td>2018-01-22T15:58:09</td>\n",
       "      <td>Just one of the many reasons why we are priori...</td>\n",
       "      <td>3</td>\n",
       "      <td>1</td>\n",
       "    </tr>\n",
       "    <tr>\n",
       "      <td>6</td>\n",
       "      <td>Seattle OSE</td>\n",
       "      <td>2020-01-31T17:01:26</td>\n",
       "      <td>More and more meteorologists are sharing clima...</td>\n",
       "      <td>6</td>\n",
       "      <td>0</td>\n",
       "    </tr>\n",
       "    <tr>\n",
       "      <td>0</td>\n",
       "      <td>Seattle Office of Planning &amp; Community Develop...</td>\n",
       "      <td>2017-02-10T19:30:01</td>\n",
       "      <td>Viewpoint: City of Atlanta continues its effor...</td>\n",
       "      <td>1</td>\n",
       "      <td>0</td>\n",
       "    </tr>\n",
       "    <tr>\n",
       "      <td>2</td>\n",
       "      <td>Seattle Office of Planning &amp; Community Develop...</td>\n",
       "      <td>2017-09-19T21:06:02</td>\n",
       "      <td>Tonight's panel addresses how homeowners, new ...</td>\n",
       "      <td>2</td>\n",
       "      <td>2</td>\n",
       "    </tr>\n",
       "    <tr>\n",
       "      <td>3</td>\n",
       "      <td>Seattle Office of Planning &amp; Community Develop...</td>\n",
       "      <td>2017-09-05T19:27:53</td>\n",
       "      <td>We're proud to announce our next #UrbanInnovat...</td>\n",
       "      <td>1</td>\n",
       "      <td>0</td>\n",
       "    </tr>\n",
       "    <tr>\n",
       "      <td>6</td>\n",
       "      <td>Seattle Office of Planning &amp; Community Develop...</td>\n",
       "      <td>2018-04-25T16:00:24</td>\n",
       "      <td>Gina Ford is a guest lecturer tonight at the U...</td>\n",
       "      <td>3</td>\n",
       "      <td>0</td>\n",
       "    </tr>\n",
       "    <tr>\n",
       "      <td>7</td>\n",
       "      <td>Seattle Office of Planning &amp; Community Develop...</td>\n",
       "      <td>2018-04-13T18:02:01</td>\n",
       "      <td>Climate change is making resilience a more urg...</td>\n",
       "      <td>0</td>\n",
       "      <td>0</td>\n",
       "    </tr>\n",
       "    <tr>\n",
       "      <td>10</td>\n",
       "      <td>Seattle Office of Planning &amp; Community Develop...</td>\n",
       "      <td>2019-09-30T17:45:02</td>\n",
       "      <td>A Duwamish Valley Community Resilience Worksho...</td>\n",
       "      <td>0</td>\n",
       "      <td>0</td>\n",
       "    </tr>\n",
       "  </tbody>\n",
       "</table>\n",
       "</div>"
      ],
      "text/plain": [
       "                                             username                 time  \\\n",
       "0                                         Seattle OSE  2018-02-09T16:04:27   \n",
       "1                                         Seattle OSE  2018-02-03T00:26:32   \n",
       "4                                         Seattle OSE  2018-01-22T15:58:09   \n",
       "6                                         Seattle OSE  2020-01-31T17:01:26   \n",
       "0   Seattle Office of Planning & Community Develop...  2017-02-10T19:30:01   \n",
       "2   Seattle Office of Planning & Community Develop...  2017-09-19T21:06:02   \n",
       "3   Seattle Office of Planning & Community Develop...  2017-09-05T19:27:53   \n",
       "6   Seattle Office of Planning & Community Develop...  2018-04-25T16:00:24   \n",
       "7   Seattle Office of Planning & Community Develop...  2018-04-13T18:02:01   \n",
       "10  Seattle Office of Planning & Community Develop...  2019-09-30T17:45:02   \n",
       "\n",
       "                                                tweet  likes  replies  \n",
       "0   \"Enhancing urban resilience to climate change ...      3        1  \n",
       "1   @MayorJenny spent the week highlighting Seattl...      2        0  \n",
       "4   Just one of the many reasons why we are priori...      3        1  \n",
       "6   More and more meteorologists are sharing clima...      6        0  \n",
       "0   Viewpoint: City of Atlanta continues its effor...      1        0  \n",
       "2   Tonight's panel addresses how homeowners, new ...      2        2  \n",
       "3   We're proud to announce our next #UrbanInnovat...      1        0  \n",
       "6   Gina Ford is a guest lecturer tonight at the U...      3        0  \n",
       "7   Climate change is making resilience a more urg...      0        0  \n",
       "10  A Duwamish Valley Community Resilience Worksho...      0        0  "
      ]
     },
     "execution_count": 18,
     "metadata": {},
     "output_type": "execute_result"
    }
   ],
   "source": [
    "def combine_dataframe (df1, df2): #this function smooshes all the dataframes into one using .append()\n",
    "    d1 = df1.append(df2)\n",
    "    return d1.drop_duplicates(subset='tweet', keep=\"first\") #the scraper picked up dups, this rectifies that\n",
    "\n",
    "seattle_res_tweets = combine_dataframe(seattleose_res, seattleopcd_res)\n",
    "seattle_res_tweets"
   ]
  },
  {
   "cell_type": "code",
   "execution_count": null,
   "metadata": {},
   "outputs": [],
   "source": [
    "!twitterscraper \"resilience from:seattledot\" --lang en -o seattledot_res.json -l 400"
   ]
  },
  {
   "cell_type": "code",
   "execution_count": 25,
   "metadata": {},
   "outputs": [
    {
     "data": {
      "text/plain": [
       "'#SEATTLE STUFF FOR LATER\\n\\nseattle_cc, kingmetro_cc, seattledot_cc, seattleose_cc, seattleplan_cc \\n\\nseattle_cc_tweets[\"likes_per_tweet\"] = seattle_cc_tweets[\"likes\"]/seattle_cc_tweets[\"username\"].str.contains(\"City of Seattle\")\\nseattle_cc_tweets[\"likes_per_tweet\"]\\n\\n#OTHER NOTEBOOK STUFF TO REFERENCE \\n\\nrents[\\'region\\'].str.contains(\\'CA\\'))\\n\\n\\nbuildings.loc[buildings.stories<7].groupby(\\'stories\\').residential_units.describe()\\n\\n\\n\\ndf[\\'pct_change\\'] = 100*(df[\\'2019-12\\']-df[\\'2014-12\\'])/df[\\'2014-12\\']\\ndf[\\'region\\'] = df[\\'RegionName\\']\\nrent_change = df[[\\'region\\',\\'pct_change\\']].copy()\\nrent_change.head()\\n\\n\\n\\n\\n[\"likes_per_tweet\"] = seattle_cc_tweets[\"likes\"]/seattle_cc_tweets[\"username\"].str.contains(\"City of Seattle\")\\nseattle_cc_tweets[\"likes_per_tweet\"]\\n\\nbuildings.loc[buildings.stories<7].groupby(\\'stories\\').residential_units.describe()\\n\\n\\n\\n# Let\\'s adjust the bins and remove the kernel density esimate (kde):\\n\\ndata = trips.loc[(trips[\\'mode\\'] == 2) & \\n                 (trips.trip_distance_miles <= 5)]\\n\\nax = sns.distplot(a = data.trip_distance_miles,\\n                  bins = 20,\\n                  color = \\'orange\\',\\n                  kde = False)\\n\\nax.set_title(\\'Distance of bicycle trips in California\\')\\nplt.show()\\n'"
      ]
     },
     "execution_count": 25,
     "metadata": {},
     "output_type": "execute_result"
    }
   ],
   "source": [
    "\"\"\"#SEATTLE STUFF FOR LATER\n",
    "\n",
    "seattle_cc, kingmetro_cc, seattledot_cc, seattleose_cc, seattleplan_cc \n",
    "\n",
    "seattle_cc_tweets[\"likes_per_tweet\"] = seattle_cc_tweets[\"likes\"]/seattle_cc_tweets[\"username\"].str.contains(\"City of Seattle\")\n",
    "seattle_cc_tweets[\"likes_per_tweet\"]\n",
    "\n",
    "#OTHER NOTEBOOK STUFF TO REFERENCE \n",
    "\n",
    "rents['region'].str.contains('CA'))\n",
    "\n",
    "\n",
    "buildings.loc[buildings.stories<7].groupby('stories').residential_units.describe()\n",
    "\n",
    "\n",
    "\n",
    "df['pct_change'] = 100*(df['2019-12']-df['2014-12'])/df['2014-12']\n",
    "df['region'] = df['RegionName']\n",
    "rent_change = df[['region','pct_change']].copy()\n",
    "rent_change.head()\n",
    "\n",
    "\n",
    "\n",
    "\n",
    "[\"likes_per_tweet\"] = seattle_cc_tweets[\"likes\"]/seattle_cc_tweets[\"username\"].str.contains(\"City of Seattle\")\n",
    "seattle_cc_tweets[\"likes_per_tweet\"]\n",
    "\n",
    "buildings.loc[buildings.stories<7].groupby('stories').residential_units.describe()\n",
    "\n",
    "\n",
    "\n",
    "# Let's adjust the bins and remove the kernel density esimate (kde):\n",
    "\n",
    "data = trips.loc[(trips['mode'] == 2) & \n",
    "                 (trips.trip_distance_miles <= 5)]\n",
    "\n",
    "ax = sns.distplot(a = data.trip_distance_miles,\n",
    "                  bins = 20,\n",
    "                  color = 'orange',\n",
    "                  kde = False)\n",
    "\n",
    "ax.set_title('Distance of bicycle trips in California')\n",
    "plt.show()\n",
    "\"\"\""
   ]
  }
 ],
 "metadata": {
  "kernelspec": {
   "display_name": "Python 3",
   "language": "python",
   "name": "python3"
  },
  "language_info": {
   "codemirror_mode": {
    "name": "ipython",
    "version": 3
   },
   "file_extension": ".py",
   "mimetype": "text/x-python",
   "name": "python",
   "nbconvert_exporter": "python",
   "pygments_lexer": "ipython3",
   "version": "3.7.4"
  }
 },
 "nbformat": 4,
 "nbformat_minor": 2
}
