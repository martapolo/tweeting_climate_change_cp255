{
 "cells": [
  {
   "cell_type": "code",
   "execution_count": 11,
   "metadata": {},
   "outputs": [],
   "source": [
    "import numpy as np\n",
    "import pandas as pd\n",
    "import matplotlib.pyplot as plt\n",
    "import matplotlib as mpl\n",
    "import json      # library for working with JSON-formatted text strings\n",
    "import pprint as pp    # library for cleanly printing Python data structures\n",
    "import seaborn as sns\n",
    "from datetime import datetime"
   ]
  },
  {
   "cell_type": "markdown",
   "metadata": {},
   "source": [
    "This notebook loads in the Los Angeles Twitter Data from twitterscraper. We searched only for \"climate change.\" The selected Twitter accounts are below; however one account did not have any tweets that mention climate change. We selected Los Angeles because it declared a climate emergency. Additionally, given how little climate change is tweeted about, we decided to scrape all tweets (no matter the timeframe).   \n",
    "\n",
    "https://github.com/taspinar/twitterscraper/blob/master/README.rst"
   ]
  },
  {
   "cell_type": "markdown",
   "metadata": {},
   "source": [
    "**@LACity**\n",
    "twitterscraper \"climate change from:LACity\" --lang eng -o lacity_tweets.json\n",
    "\n",
    "**@LADOTofficial**\n",
    "twitterscraper \"climate change from:LADOTofficial\" --lang eng -o ladot_tweets.json\n",
    "\n",
    "**@Planning4LA**\n",
    "twitterscraper \"climate change from:Planning4LA\" --lang eng -o laplanning_tweets.json\n",
    "\n",
    "**@lacountyparks**\n",
    "twitterscraper \"climate change from:lacountyparks\" --lang eng -o lacountyparks_tweets.json\n",
    "\n",
    "**@HCIDLA**\n",
    "twitterscraper \"climate change from:HCIDLA\" --lang eng -o HCIDLA_tweets.json"
   ]
  },
  {
   "cell_type": "code",
   "execution_count": 12,
   "metadata": {},
   "outputs": [],
   "source": [
    "def json_to_df_tweets (csv_file):\n",
    "    with open(csv_file) as f:\n",
    "      data = json.load(f)\n",
    "    \n",
    "    d = {'username': [x['username'] for x in data],\n",
    "        'time': [x['timestamp'] for x in data],\n",
    "        'tweet': [x['text'] for x in data],\n",
    "        'likes': [x['likes'] for x in data],\n",
    "        'replies': [x['replies'] for x in data]\n",
    "        }\n",
    "    \n",
    "    df_Test = pd.DataFrame.from_dict(d)\n",
    "    \n",
    "    return df_Test"
   ]
  },
  {
   "cell_type": "code",
   "execution_count": 18,
   "metadata": {},
   "outputs": [],
   "source": [
    "# Twitter data that states \"climate change\"; the scraper loads in requests by user\n",
    "la_metro_tweets = json_to_df_tweets ('cc_test.JSON')\n",
    "lacity_tweets = json_to_df_tweets ('lacity_tweets.json')\n",
    "ladot_tweets = json_to_df_tweets('ladot_tweets.json')\n",
    "laplanning_tweets = json_to_df_tweets('laplanning_tweets.json')\n",
    "laport_tweets = json_to_df_tweets('laport_tweets.json')\n",
    "la_parks_tweets = json_to_df_tweets('lacountyparks_tweets.json')"
   ]
  },
  {
   "cell_type": "markdown",
   "metadata": {},
   "source": [
    "Using the function above \"json_to_df_tweets\" - we'll load all of the LA City tweets with the words \"climate change\" so that we can merge them together in one large df. "
   ]
  },
  {
   "cell_type": "code",
   "execution_count": 19,
   "metadata": {},
   "outputs": [],
   "source": [
    "def combine_dataframe (df1, df2, df3, df4, df5, df6): #this function smooshes all the dataframes into one using .append()\n",
    "    d1 = df1.append(df2)\n",
    "    d2 = d1.append(df3)\n",
    "    d3 = d2.append(df4)\n",
    "    d4 = d3.append(df5)\n",
    "    d5 = d4.append(df6)\n",
    "    return d5.drop_duplicates(subset='tweet', keep=\"first\") #the scraper picked up dups, this rectifies that"
   ]
  },
  {
   "cell_type": "code",
   "execution_count": 20,
   "metadata": {},
   "outputs": [
    {
     "data": {
      "text/html": [
       "<div>\n",
       "<style scoped>\n",
       "    .dataframe tbody tr th:only-of-type {\n",
       "        vertical-align: middle;\n",
       "    }\n",
       "\n",
       "    .dataframe tbody tr th {\n",
       "        vertical-align: top;\n",
       "    }\n",
       "\n",
       "    .dataframe thead th {\n",
       "        text-align: right;\n",
       "    }\n",
       "</style>\n",
       "<table border=\"1\" class=\"dataframe\">\n",
       "  <thead>\n",
       "    <tr style=\"text-align: right;\">\n",
       "      <th></th>\n",
       "      <th>username</th>\n",
       "      <th>time</th>\n",
       "      <th>tweet</th>\n",
       "      <th>likes</th>\n",
       "      <th>replies</th>\n",
       "    </tr>\n",
       "  </thead>\n",
       "  <tbody>\n",
       "    <tr>\n",
       "      <th>0</th>\n",
       "      <td>LADOT</td>\n",
       "      <td>2019-10-10T00:00:31</td>\n",
       "      <td>Today @MayorOfLA Eric Garcetti was elected @c4...</td>\n",
       "      <td>33</td>\n",
       "      <td>5</td>\n",
       "    </tr>\n",
       "    <tr>\n",
       "      <th>2</th>\n",
       "      <td>LADOT</td>\n",
       "      <td>2019-04-29T19:01:08</td>\n",
       "      <td>Excited our @ladottransit is on track to be ze...</td>\n",
       "      <td>20</td>\n",
       "      <td>2</td>\n",
       "    </tr>\n",
       "    <tr>\n",
       "      <th>0</th>\n",
       "      <td>LA Metro</td>\n",
       "      <td>2014-04-01T18:32:47</td>\n",
       "      <td>TranspoNews: should Metro charge for parking a...</td>\n",
       "      <td>0</td>\n",
       "      <td>2</td>\n",
       "    </tr>\n",
       "    <tr>\n",
       "      <th>2</th>\n",
       "      <td>LA Metro</td>\n",
       "      <td>2012-10-24T17:51:30</td>\n",
       "      <td>Transpo headlines: climate change non-issue, d...</td>\n",
       "      <td>0</td>\n",
       "      <td>0</td>\n",
       "    </tr>\n",
       "    <tr>\n",
       "      <th>4</th>\n",
       "      <td>LA Metro</td>\n",
       "      <td>2017-12-13T23:15:15</td>\n",
       "      <td>How We Roll: the future of Metrolink's Claremo...</td>\n",
       "      <td>4</td>\n",
       "      <td>1</td>\n",
       "    </tr>\n",
       "    <tr>\n",
       "      <th>5</th>\n",
       "      <td>LA Metro</td>\n",
       "      <td>2017-08-02T15:41:48</td>\n",
       "      <td>You also asked what you can do to fight climat...</td>\n",
       "      <td>17</td>\n",
       "      <td>1</td>\n",
       "    </tr>\n",
       "    <tr>\n",
       "      <th>6</th>\n",
       "      <td>LA Metro</td>\n",
       "      <td>2017-06-05T04:10:05</td>\n",
       "      <td>Climate change gets its day in the sun, sort o...</td>\n",
       "      <td>6</td>\n",
       "      <td>3</td>\n",
       "    </tr>\n",
       "    <tr>\n",
       "      <th>7</th>\n",
       "      <td>LA Metro</td>\n",
       "      <td>2017-06-03T15:15:18</td>\n",
       "      <td>Climate change gets its day in the sun, sort o...</td>\n",
       "      <td>3</td>\n",
       "      <td>1</td>\n",
       "    </tr>\n",
       "    <tr>\n",
       "      <th>8</th>\n",
       "      <td>LA Metro</td>\n",
       "      <td>2017-06-03T05:30:16</td>\n",
       "      <td>Climate change gets its day in the sun, sort o...</td>\n",
       "      <td>6</td>\n",
       "      <td>0</td>\n",
       "    </tr>\n",
       "    <tr>\n",
       "      <th>9</th>\n",
       "      <td>LA Metro</td>\n",
       "      <td>2017-06-01T20:16:01</td>\n",
       "      <td>Looking for a way to fight climate change? Try...</td>\n",
       "      <td>59</td>\n",
       "      <td>5</td>\n",
       "    </tr>\n",
       "    <tr>\n",
       "      <th>10</th>\n",
       "      <td>LA Metro</td>\n",
       "      <td>2011-08-10T16:43:16</td>\n",
       "      <td>Headlines: cyclist hit twice by same motorist,...</td>\n",
       "      <td>1</td>\n",
       "      <td>0</td>\n",
       "    </tr>\n",
       "    <tr>\n",
       "      <th>12</th>\n",
       "      <td>LA Metro</td>\n",
       "      <td>2016-04-22T19:30:17</td>\n",
       "      <td>On #EarthDay, fight climate change, spare the ...</td>\n",
       "      <td>8</td>\n",
       "      <td>0</td>\n",
       "    </tr>\n",
       "    <tr>\n",
       "      <th>14</th>\n",
       "      <td>LA Metro</td>\n",
       "      <td>2013-11-05T17:15:22</td>\n",
       "      <td>Transpo News: 7th St bike lane in DTLA, Portla...</td>\n",
       "      <td>0</td>\n",
       "      <td>0</td>\n",
       "    </tr>\n",
       "    <tr>\n",
       "      <th>15</th>\n",
       "      <td>LA Metro</td>\n",
       "      <td>2013-10-04T16:18:21</td>\n",
       "      <td>Transpo news: art of transit, while govt shut ...</td>\n",
       "      <td>0</td>\n",
       "      <td>0</td>\n",
       "    </tr>\n",
       "    <tr>\n",
       "      <th>16</th>\n",
       "      <td>LA Metro</td>\n",
       "      <td>2013-09-11T22:03:20</td>\n",
       "      <td>The article by @ryanlizza is about climate cha...</td>\n",
       "      <td>1</td>\n",
       "      <td>0</td>\n",
       "    </tr>\n",
       "    <tr>\n",
       "      <th>17</th>\n",
       "      <td>LA Metro</td>\n",
       "      <td>2013-08-12T18:14:31</td>\n",
       "      <td>Climate change in California; state summarizes...</td>\n",
       "      <td>1</td>\n",
       "      <td>0</td>\n",
       "    </tr>\n",
       "    <tr>\n",
       "      <th>18</th>\n",
       "      <td>LA Metro</td>\n",
       "      <td>2013-05-28T17:37:40</td>\n",
       "      <td>Transpo headlines: NYC bike sharing vs skeptic...</td>\n",
       "      <td>1</td>\n",
       "      <td>0</td>\n",
       "    </tr>\n",
       "    <tr>\n",
       "      <th>19</th>\n",
       "      <td>LA Metro</td>\n",
       "      <td>2013-05-22T17:22:14</td>\n",
       "      <td>Transpo headlines: urban freight woes, upgrade...</td>\n",
       "      <td>1</td>\n",
       "      <td>0</td>\n",
       "    </tr>\n",
       "    <tr>\n",
       "      <th>20</th>\n",
       "      <td>LA Metro</td>\n",
       "      <td>2013-04-17T21:54:17</td>\n",
       "      <td>@CaltransDist7 details major efforts to fight ...</td>\n",
       "      <td>0</td>\n",
       "      <td>0</td>\n",
       "    </tr>\n",
       "    <tr>\n",
       "      <th>21</th>\n",
       "      <td>LA Metro</td>\n",
       "      <td>2015-03-30T19:00:15</td>\n",
       "      <td>TranspoNews: Expo Line accident &amp; rail safety,...</td>\n",
       "      <td>5</td>\n",
       "      <td>0</td>\n",
       "    </tr>\n",
       "    <tr>\n",
       "      <th>22</th>\n",
       "      <td>LA Metro</td>\n",
       "      <td>2014-10-06T15:34:18</td>\n",
       "      <td>TranspoNews: Veep visit, LA vs smog, station r...</td>\n",
       "      <td>1</td>\n",
       "      <td>0</td>\n",
       "    </tr>\n",
       "    <tr>\n",
       "      <th>23</th>\n",
       "      <td>LA Metro</td>\n",
       "      <td>2014-09-26T20:12:40</td>\n",
       "      <td>TranspoNews: Op-Ed wants express buses on Oran...</td>\n",
       "      <td>2</td>\n",
       "      <td>0</td>\n",
       "    </tr>\n",
       "    <tr>\n",
       "      <th>27</th>\n",
       "      <td>LA Metro</td>\n",
       "      <td>2012-01-23T18:06:21</td>\n",
       "      <td>Candidates on climate change, new courthouse n...</td>\n",
       "      <td>0</td>\n",
       "      <td>0</td>\n",
       "    </tr>\n",
       "    <tr>\n",
       "      <th>28</th>\n",
       "      <td>LA Metro</td>\n",
       "      <td>2012-01-09T18:47:24</td>\n",
       "      <td>Today's headlines: Gov. Brown and high-speed r...</td>\n",
       "      <td>0</td>\n",
       "      <td>0</td>\n",
       "    </tr>\n",
       "    <tr>\n",
       "      <th>29</th>\n",
       "      <td>LA Metro</td>\n",
       "      <td>2011-12-22T19:36:45</td>\n",
       "      <td>Gas prices fall again, big oil spill in Nigeri...</td>\n",
       "      <td>0</td>\n",
       "      <td>0</td>\n",
       "    </tr>\n",
       "    <tr>\n",
       "      <th>33</th>\n",
       "      <td>LA Metro</td>\n",
       "      <td>2019-04-19T02:00:35</td>\n",
       "      <td>Join the fight against climate change! This Ea...</td>\n",
       "      <td>80</td>\n",
       "      <td>15</td>\n",
       "    </tr>\n",
       "    <tr>\n",
       "      <th>34</th>\n",
       "      <td>LA Metro</td>\n",
       "      <td>2019-04-11T21:45:15</td>\n",
       "      <td>Driving less helps fight climate change! This ...</td>\n",
       "      <td>22</td>\n",
       "      <td>3</td>\n",
       "    </tr>\n",
       "    <tr>\n",
       "      <th>37</th>\n",
       "      <td>LA Metro</td>\n",
       "      <td>2017-01-25T20:42:50</td>\n",
       "      <td>Worried about climate change? Try taking trans...</td>\n",
       "      <td>29</td>\n",
       "      <td>4</td>\n",
       "    </tr>\n",
       "    <tr>\n",
       "      <th>38</th>\n",
       "      <td>LA Metro</td>\n",
       "      <td>2017-01-18T16:56:18</td>\n",
       "      <td>2016 warmest year on Earth since 1880. Want to...</td>\n",
       "      <td>41</td>\n",
       "      <td>2</td>\n",
       "    </tr>\n",
       "    <tr>\n",
       "      <th>39</th>\n",
       "      <td>LA Metro</td>\n",
       "      <td>2016-12-07T07:30:17</td>\n",
       "      <td>Rain is good. In doses. But what will climate ...</td>\n",
       "      <td>2</td>\n",
       "      <td>0</td>\n",
       "    </tr>\n",
       "    <tr>\n",
       "      <th>...</th>\n",
       "      <td>...</td>\n",
       "      <td>...</td>\n",
       "      <td>...</td>\n",
       "      <td>...</td>\n",
       "      <td>...</td>\n",
       "    </tr>\n",
       "    <tr>\n",
       "      <th>46</th>\n",
       "      <td>LA Metro</td>\n",
       "      <td>2015-11-07T03:30:06</td>\n",
       "      <td>Of Big Oil, climate change, penguins and trans...</td>\n",
       "      <td>6</td>\n",
       "      <td>0</td>\n",
       "    </tr>\n",
       "    <tr>\n",
       "      <th>47</th>\n",
       "      <td>LA Metro</td>\n",
       "      <td>2015-10-27T18:00:09</td>\n",
       "      <td>Of climate change, a Polar adventure and thing...</td>\n",
       "      <td>5</td>\n",
       "      <td>0</td>\n",
       "    </tr>\n",
       "    <tr>\n",
       "      <th>48</th>\n",
       "      <td>LA Metro</td>\n",
       "      <td>2015-04-29T19:13:14</td>\n",
       "      <td>Today's TranspoNews: is climate change killing...</td>\n",
       "      <td>3</td>\n",
       "      <td>0</td>\n",
       "    </tr>\n",
       "    <tr>\n",
       "      <th>53</th>\n",
       "      <td>LA Metro</td>\n",
       "      <td>2020-01-22T18:32:35</td>\n",
       "      <td>Metro News Now: tackling climate change via tr...</td>\n",
       "      <td>42</td>\n",
       "      <td>9</td>\n",
       "    </tr>\n",
       "    <tr>\n",
       "      <th>54</th>\n",
       "      <td>LA Metro</td>\n",
       "      <td>2019-09-11T02:15:03</td>\n",
       "      <td>If you saw “Ice on Fire” tonight by @LeoDiCapr...</td>\n",
       "      <td>52</td>\n",
       "      <td>7</td>\n",
       "    </tr>\n",
       "    <tr>\n",
       "      <th>55</th>\n",
       "      <td>LA Metro</td>\n",
       "      <td>2019-08-01T17:20:15</td>\n",
       "      <td>Climate change is one of the biggest issues we...</td>\n",
       "      <td>14</td>\n",
       "      <td>0</td>\n",
       "    </tr>\n",
       "    <tr>\n",
       "      <th>56</th>\n",
       "      <td>LA Metro</td>\n",
       "      <td>2019-07-29T17:20:12</td>\n",
       "      <td>Leading the way for a greener LA — here’s how ...</td>\n",
       "      <td>32</td>\n",
       "      <td>1</td>\n",
       "    </tr>\n",
       "    <tr>\n",
       "      <th>57</th>\n",
       "      <td>LA Metro</td>\n",
       "      <td>2019-07-26T19:20:07</td>\n",
       "      <td>Leading the way for a greener LA — here's how ...</td>\n",
       "      <td>24</td>\n",
       "      <td>0</td>\n",
       "    </tr>\n",
       "    <tr>\n",
       "      <th>0</th>\n",
       "      <td>City of Los Angeles</td>\n",
       "      <td>2019-03-15T22:41:31</td>\n",
       "      <td>Proud to be a city with youth and leadership c...</td>\n",
       "      <td>8</td>\n",
       "      <td>0</td>\n",
       "    </tr>\n",
       "    <tr>\n",
       "      <th>2</th>\n",
       "      <td>City of Los Angeles</td>\n",
       "      <td>2019-11-05T23:13:28</td>\n",
       "      <td>Learn more about how we're working to fight #C...</td>\n",
       "      <td>5</td>\n",
       "      <td>0</td>\n",
       "    </tr>\n",
       "    <tr>\n",
       "      <th>3</th>\n",
       "      <td>City of Los Angeles</td>\n",
       "      <td>2019-09-05T19:57:02</td>\n",
       "      <td>Our @LACity Energy, Climate Change and Environ...</td>\n",
       "      <td>28</td>\n",
       "      <td>5</td>\n",
       "    </tr>\n",
       "    <tr>\n",
       "      <th>6</th>\n",
       "      <td>City of Los Angeles</td>\n",
       "      <td>2018-08-27T21:35:22</td>\n",
       "      <td>To learn more about our commitment to net zero...</td>\n",
       "      <td>1</td>\n",
       "      <td>0</td>\n",
       "    </tr>\n",
       "    <tr>\n",
       "      <th>7</th>\n",
       "      <td>City of Los Angeles</td>\n",
       "      <td>2018-06-15T21:24:14</td>\n",
       "      <td>Proud to be represented by leadership who stan...</td>\n",
       "      <td>41</td>\n",
       "      <td>1</td>\n",
       "    </tr>\n",
       "    <tr>\n",
       "      <th>10</th>\n",
       "      <td>City of Los Angeles</td>\n",
       "      <td>2018-01-24T20:51:27</td>\n",
       "      <td>From reducing smog to minimizing the impact of...</td>\n",
       "      <td>9</td>\n",
       "      <td>3</td>\n",
       "    </tr>\n",
       "    <tr>\n",
       "      <th>11</th>\n",
       "      <td>City of Los Angeles</td>\n",
       "      <td>2017-12-12T21:23:16</td>\n",
       "      <td>#C40  cities account for 91 affiliated cities,...</td>\n",
       "      <td>17</td>\n",
       "      <td>0</td>\n",
       "    </tr>\n",
       "    <tr>\n",
       "      <th>12</th>\n",
       "      <td>City of Los Angeles</td>\n",
       "      <td>2017-10-26T18:55:40</td>\n",
       "      <td>We're working towards a series of targets rela...</td>\n",
       "      <td>2</td>\n",
       "      <td>0</td>\n",
       "    </tr>\n",
       "    <tr>\n",
       "      <th>13</th>\n",
       "      <td>City of Los Angeles</td>\n",
       "      <td>2017-10-25T20:45:07</td>\n",
       "      <td>We're 1 of 12 big cities that signed 'fossil-f...</td>\n",
       "      <td>3</td>\n",
       "      <td>0</td>\n",
       "    </tr>\n",
       "    <tr>\n",
       "      <th>0</th>\n",
       "      <td>Los Angeles County Parks &amp; Recreation</td>\n",
       "      <td>2019-05-07T19:39:08</td>\n",
       "      <td>Climate change is real and Park Summit attende...</td>\n",
       "      <td>2</td>\n",
       "      <td>0</td>\n",
       "    </tr>\n",
       "    <tr>\n",
       "      <th>2</th>\n",
       "      <td>Los Angeles County Parks &amp; Recreation</td>\n",
       "      <td>2014-11-04T21:13:08</td>\n",
       "      <td>Do #parks help fight #climatechange? #LACounty...</td>\n",
       "      <td>0</td>\n",
       "      <td>0</td>\n",
       "    </tr>\n",
       "    <tr>\n",
       "      <th>3</th>\n",
       "      <td>Los Angeles County Parks &amp; Recreation</td>\n",
       "      <td>2014-08-30T18:24:08</td>\n",
       "      <td>NACPRO @NACoTweets @NRPA shares \"#Parks + #Cli...</td>\n",
       "      <td>1</td>\n",
       "      <td>0</td>\n",
       "    </tr>\n",
       "    <tr>\n",
       "      <th>5</th>\n",
       "      <td>Los Angeles County Parks &amp; Recreation</td>\n",
       "      <td>2014-08-11T14:24:10</td>\n",
       "      <td>How your #LACounty #parks make a difference on...</td>\n",
       "      <td>1</td>\n",
       "      <td>0</td>\n",
       "    </tr>\n",
       "    <tr>\n",
       "      <th>0</th>\n",
       "      <td>Los Angeles City Planning</td>\n",
       "      <td>2018-08-20T22:00:01</td>\n",
       "      <td>Meet your Venice Local Coastal Program team th...</td>\n",
       "      <td>3</td>\n",
       "      <td>0</td>\n",
       "    </tr>\n",
       "    <tr>\n",
       "      <th>2</th>\n",
       "      <td>Los Angeles City Planning</td>\n",
       "      <td>2019-04-19T17:15:00</td>\n",
       "      <td>We're excited to join @LACitySan and our City ...</td>\n",
       "      <td>4</td>\n",
       "      <td>0</td>\n",
       "    </tr>\n",
       "    <tr>\n",
       "      <th>3</th>\n",
       "      <td>Los Angeles City Planning</td>\n",
       "      <td>2019-02-15T19:30:55</td>\n",
       "      <td>#HappeningNow: We're excited to meet with stud...</td>\n",
       "      <td>8</td>\n",
       "      <td>0</td>\n",
       "    </tr>\n",
       "    <tr>\n",
       "      <th>4</th>\n",
       "      <td>Los Angeles City Planning</td>\n",
       "      <td>2018-11-30T02:05:00</td>\n",
       "      <td>Wildfires, mudslides and rain, oh my! #LA has ...</td>\n",
       "      <td>4</td>\n",
       "      <td>0</td>\n",
       "    </tr>\n",
       "    <tr>\n",
       "      <th>8</th>\n",
       "      <td>Los Angeles City Planning</td>\n",
       "      <td>2020-03-02T20:28:31</td>\n",
       "      <td>There were 129% more affordable housing units ...</td>\n",
       "      <td>8</td>\n",
       "      <td>0</td>\n",
       "    </tr>\n",
       "    <tr>\n",
       "      <th>9</th>\n",
       "      <td>Los Angeles City Planning</td>\n",
       "      <td>2020-02-13T02:08:18</td>\n",
       "      <td>We are grateful for city planners who help lea...</td>\n",
       "      <td>8</td>\n",
       "      <td>1</td>\n",
       "    </tr>\n",
       "    <tr>\n",
       "      <th>10</th>\n",
       "      <td>Los Angeles City Planning</td>\n",
       "      <td>2019-08-07T18:32:55</td>\n",
       "      <td>The draft Downtown Community Plan promotes a m...</td>\n",
       "      <td>6</td>\n",
       "      <td>0</td>\n",
       "    </tr>\n",
       "    <tr>\n",
       "      <th>11</th>\n",
       "      <td>Los Angeles City Planning</td>\n",
       "      <td>2019-07-30T17:39:15</td>\n",
       "      <td>#HappeningNow: @LACity Council voted unanimous...</td>\n",
       "      <td>72</td>\n",
       "      <td>2</td>\n",
       "    </tr>\n",
       "    <tr>\n",
       "      <th>0</th>\n",
       "      <td>Port of Los Angeles</td>\n",
       "      <td>2019-11-21T23:26:30</td>\n",
       "      <td>Topic is how tariffs are hurting consumers and...</td>\n",
       "      <td>0</td>\n",
       "      <td>0</td>\n",
       "    </tr>\n",
       "  </tbody>\n",
       "</table>\n",
       "<p>66 rows × 5 columns</p>\n",
       "</div>"
      ],
      "text/plain": [
       "                                 username                 time  \\\n",
       "0                                   LADOT  2019-10-10T00:00:31   \n",
       "2                                   LADOT  2019-04-29T19:01:08   \n",
       "0                                LA Metro  2014-04-01T18:32:47   \n",
       "2                                LA Metro  2012-10-24T17:51:30   \n",
       "4                                LA Metro  2017-12-13T23:15:15   \n",
       "5                                LA Metro  2017-08-02T15:41:48   \n",
       "6                                LA Metro  2017-06-05T04:10:05   \n",
       "7                                LA Metro  2017-06-03T15:15:18   \n",
       "8                                LA Metro  2017-06-03T05:30:16   \n",
       "9                                LA Metro  2017-06-01T20:16:01   \n",
       "10                               LA Metro  2011-08-10T16:43:16   \n",
       "12                               LA Metro  2016-04-22T19:30:17   \n",
       "14                               LA Metro  2013-11-05T17:15:22   \n",
       "15                               LA Metro  2013-10-04T16:18:21   \n",
       "16                               LA Metro  2013-09-11T22:03:20   \n",
       "17                               LA Metro  2013-08-12T18:14:31   \n",
       "18                               LA Metro  2013-05-28T17:37:40   \n",
       "19                               LA Metro  2013-05-22T17:22:14   \n",
       "20                               LA Metro  2013-04-17T21:54:17   \n",
       "21                               LA Metro  2015-03-30T19:00:15   \n",
       "22                               LA Metro  2014-10-06T15:34:18   \n",
       "23                               LA Metro  2014-09-26T20:12:40   \n",
       "27                               LA Metro  2012-01-23T18:06:21   \n",
       "28                               LA Metro  2012-01-09T18:47:24   \n",
       "29                               LA Metro  2011-12-22T19:36:45   \n",
       "33                               LA Metro  2019-04-19T02:00:35   \n",
       "34                               LA Metro  2019-04-11T21:45:15   \n",
       "37                               LA Metro  2017-01-25T20:42:50   \n",
       "38                               LA Metro  2017-01-18T16:56:18   \n",
       "39                               LA Metro  2016-12-07T07:30:17   \n",
       "..                                    ...                  ...   \n",
       "46                               LA Metro  2015-11-07T03:30:06   \n",
       "47                               LA Metro  2015-10-27T18:00:09   \n",
       "48                               LA Metro  2015-04-29T19:13:14   \n",
       "53                               LA Metro  2020-01-22T18:32:35   \n",
       "54                               LA Metro  2019-09-11T02:15:03   \n",
       "55                               LA Metro  2019-08-01T17:20:15   \n",
       "56                               LA Metro  2019-07-29T17:20:12   \n",
       "57                               LA Metro  2019-07-26T19:20:07   \n",
       "0                     City of Los Angeles  2019-03-15T22:41:31   \n",
       "2                     City of Los Angeles  2019-11-05T23:13:28   \n",
       "3                     City of Los Angeles  2019-09-05T19:57:02   \n",
       "6                     City of Los Angeles  2018-08-27T21:35:22   \n",
       "7                     City of Los Angeles  2018-06-15T21:24:14   \n",
       "10                    City of Los Angeles  2018-01-24T20:51:27   \n",
       "11                    City of Los Angeles  2017-12-12T21:23:16   \n",
       "12                    City of Los Angeles  2017-10-26T18:55:40   \n",
       "13                    City of Los Angeles  2017-10-25T20:45:07   \n",
       "0   Los Angeles County Parks & Recreation  2019-05-07T19:39:08   \n",
       "2   Los Angeles County Parks & Recreation  2014-11-04T21:13:08   \n",
       "3   Los Angeles County Parks & Recreation  2014-08-30T18:24:08   \n",
       "5   Los Angeles County Parks & Recreation  2014-08-11T14:24:10   \n",
       "0               Los Angeles City Planning  2018-08-20T22:00:01   \n",
       "2               Los Angeles City Planning  2019-04-19T17:15:00   \n",
       "3               Los Angeles City Planning  2019-02-15T19:30:55   \n",
       "4               Los Angeles City Planning  2018-11-30T02:05:00   \n",
       "8               Los Angeles City Planning  2020-03-02T20:28:31   \n",
       "9               Los Angeles City Planning  2020-02-13T02:08:18   \n",
       "10              Los Angeles City Planning  2019-08-07T18:32:55   \n",
       "11              Los Angeles City Planning  2019-07-30T17:39:15   \n",
       "0                     Port of Los Angeles  2019-11-21T23:26:30   \n",
       "\n",
       "                                                tweet  likes  replies  \n",
       "0   Today @MayorOfLA Eric Garcetti was elected @c4...     33        5  \n",
       "2   Excited our @ladottransit is on track to be ze...     20        2  \n",
       "0   TranspoNews: should Metro charge for parking a...      0        2  \n",
       "2   Transpo headlines: climate change non-issue, d...      0        0  \n",
       "4   How We Roll: the future of Metrolink's Claremo...      4        1  \n",
       "5   You also asked what you can do to fight climat...     17        1  \n",
       "6   Climate change gets its day in the sun, sort o...      6        3  \n",
       "7   Climate change gets its day in the sun, sort o...      3        1  \n",
       "8   Climate change gets its day in the sun, sort o...      6        0  \n",
       "9   Looking for a way to fight climate change? Try...     59        5  \n",
       "10  Headlines: cyclist hit twice by same motorist,...      1        0  \n",
       "12  On #EarthDay, fight climate change, spare the ...      8        0  \n",
       "14  Transpo News: 7th St bike lane in DTLA, Portla...      0        0  \n",
       "15  Transpo news: art of transit, while govt shut ...      0        0  \n",
       "16  The article by @ryanlizza is about climate cha...      1        0  \n",
       "17  Climate change in California; state summarizes...      1        0  \n",
       "18  Transpo headlines: NYC bike sharing vs skeptic...      1        0  \n",
       "19  Transpo headlines: urban freight woes, upgrade...      1        0  \n",
       "20  @CaltransDist7 details major efforts to fight ...      0        0  \n",
       "21  TranspoNews: Expo Line accident & rail safety,...      5        0  \n",
       "22  TranspoNews: Veep visit, LA vs smog, station r...      1        0  \n",
       "23  TranspoNews: Op-Ed wants express buses on Oran...      2        0  \n",
       "27  Candidates on climate change, new courthouse n...      0        0  \n",
       "28  Today's headlines: Gov. Brown and high-speed r...      0        0  \n",
       "29  Gas prices fall again, big oil spill in Nigeri...      0        0  \n",
       "33  Join the fight against climate change! This Ea...     80       15  \n",
       "34  Driving less helps fight climate change! This ...     22        3  \n",
       "37  Worried about climate change? Try taking trans...     29        4  \n",
       "38  2016 warmest year on Earth since 1880. Want to...     41        2  \n",
       "39  Rain is good. In doses. But what will climate ...      2        0  \n",
       "..                                                ...    ...      ...  \n",
       "46  Of Big Oil, climate change, penguins and trans...      6        0  \n",
       "47  Of climate change, a Polar adventure and thing...      5        0  \n",
       "48  Today's TranspoNews: is climate change killing...      3        0  \n",
       "53  Metro News Now: tackling climate change via tr...     42        9  \n",
       "54  If you saw “Ice on Fire” tonight by @LeoDiCapr...     52        7  \n",
       "55  Climate change is one of the biggest issues we...     14        0  \n",
       "56  Leading the way for a greener LA — here’s how ...     32        1  \n",
       "57  Leading the way for a greener LA — here's how ...     24        0  \n",
       "0   Proud to be a city with youth and leadership c...      8        0  \n",
       "2   Learn more about how we're working to fight #C...      5        0  \n",
       "3   Our @LACity Energy, Climate Change and Environ...     28        5  \n",
       "6   To learn more about our commitment to net zero...      1        0  \n",
       "7   Proud to be represented by leadership who stan...     41        1  \n",
       "10  From reducing smog to minimizing the impact of...      9        3  \n",
       "11  #C40  cities account for 91 affiliated cities,...     17        0  \n",
       "12  We're working towards a series of targets rela...      2        0  \n",
       "13  We're 1 of 12 big cities that signed 'fossil-f...      3        0  \n",
       "0   Climate change is real and Park Summit attende...      2        0  \n",
       "2   Do #parks help fight #climatechange? #LACounty...      0        0  \n",
       "3   NACPRO @NACoTweets @NRPA shares \"#Parks + #Cli...      1        0  \n",
       "5   How your #LACounty #parks make a difference on...      1        0  \n",
       "0   Meet your Venice Local Coastal Program team th...      3        0  \n",
       "2   We're excited to join @LACitySan and our City ...      4        0  \n",
       "3   #HappeningNow: We're excited to meet with stud...      8        0  \n",
       "4   Wildfires, mudslides and rain, oh my! #LA has ...      4        0  \n",
       "8   There were 129% more affordable housing units ...      8        0  \n",
       "9   We are grateful for city planners who help lea...      8        1  \n",
       "10  The draft Downtown Community Plan promotes a m...      6        0  \n",
       "11  #HappeningNow: @LACity Council voted unanimous...     72        2  \n",
       "0   Topic is how tariffs are hurting consumers and...      0        0  \n",
       "\n",
       "[66 rows x 5 columns]"
      ]
     },
     "execution_count": 20,
     "metadata": {},
     "output_type": "execute_result"
    }
   ],
   "source": [
    "la_tweets = combine_dataframe(ladot_tweets, la_metro_tweets, lacity_tweets, la_parks_tweets, laplanning_tweets, laport_tweets)\n",
    "la_tweets"
   ]
  },
  {
   "cell_type": "markdown",
   "metadata": {},
   "source": [
    "We have all the tweets from LA city agencies that mention climate change. "
   ]
  },
  {
   "cell_type": "code",
   "execution_count": 21,
   "metadata": {},
   "outputs": [
    {
     "data": {
      "image/png": "[encoded data removed]",
      "text/plain": [
       "<Figure size 432x288 with 1 Axes>"
      ]
     },
     "metadata": {
      "needs_background": "light"
     },
     "output_type": "display_data"
    }
   ],
   "source": [
    "ax = sns.countplot(x='username', data=la_tweets)\n",
    "ax.set_xticklabels(labels=['LADOT', 'Metro', 'City', 'Parks', 'Planning', 'Port'], rotation=30)\n",
    "plt.show()"
   ]
  },
  {
   "cell_type": "code",
   "execution_count": 25,
   "metadata": {},
   "outputs": [
    {
     "data": {
      "image/png": "[encoded data removed]",
      "text/plain": [
       "<Figure size 432x288 with 1 Axes>"
      ]
     },
     "metadata": {
      "needs_background": "light"
     },
     "output_type": "display_data"
    }
   ],
   "source": [
    "ax = sns.scatterplot(x=\"likes\", y=\"replies\", data=la_tweets)"
   ]
  },
  {
   "cell_type": "code",
   "execution_count": 27,
   "metadata": {},
   "outputs": [
    {
     "name": "stdout",
     "output_type": "stream",
     "text": [
      "2019-10-10 00:00:31\n",
      "2019-04-29 19:01:08\n",
      "2014-04-01 18:32:47\n",
      "2012-10-24 17:51:30\n",
      "2017-12-13 23:15:15\n",
      "2017-08-02 15:41:48\n",
      "2017-06-05 04:10:05\n",
      "2017-06-03 15:15:18\n",
      "2017-06-03 05:30:16\n",
      "2017-06-01 20:16:01\n",
      "2011-08-10 16:43:16\n",
      "2016-04-22 19:30:17\n",
      "2013-11-05 17:15:22\n",
      "2013-10-04 16:18:21\n",
      "2013-09-11 22:03:20\n",
      "2013-08-12 18:14:31\n",
      "2013-05-28 17:37:40\n",
      "2013-05-22 17:22:14\n",
      "2013-04-17 21:54:17\n",
      "2015-03-30 19:00:15\n",
      "2014-10-06 15:34:18\n",
      "2014-09-26 20:12:40\n",
      "2012-01-23 18:06:21\n",
      "2012-01-09 18:47:24\n",
      "2011-12-22 19:36:45\n",
      "2019-04-19 02:00:35\n",
      "2019-04-11 21:45:15\n",
      "2017-01-25 20:42:50\n",
      "2017-01-18 16:56:18\n",
      "2016-12-07 07:30:17\n",
      "2016-11-21 21:00:30\n",
      "2016-11-01 21:42:35\n",
      "2016-11-01 21:11:30\n",
      "2016-11-01 16:37:12\n",
      "2016-11-01 07:15:09\n",
      "2015-11-10 09:00:13\n",
      "2015-11-07 03:30:06\n",
      "2015-10-27 18:00:09\n",
      "2015-04-29 19:13:14\n",
      "2020-01-22 18:32:35\n",
      "2019-09-11 02:15:03\n",
      "2019-08-01 17:20:15\n",
      "2019-07-29 17:20:12\n",
      "2019-07-26 19:20:07\n",
      "2019-03-15 22:41:31\n",
      "2019-11-05 23:13:28\n",
      "2019-09-05 19:57:02\n",
      "2018-08-27 21:35:22\n",
      "2018-06-15 21:24:14\n",
      "2018-01-24 20:51:27\n",
      "2017-12-12 21:23:16\n",
      "2017-10-26 18:55:40\n",
      "2017-10-25 20:45:07\n",
      "2019-05-07 19:39:08\n",
      "2014-11-04 21:13:08\n",
      "2014-08-30 18:24:08\n",
      "2014-08-11 14:24:10\n",
      "2018-08-20 22:00:01\n",
      "2019-04-19 17:15:00\n",
      "2019-02-15 19:30:55\n",
      "2018-11-30 02:05:00\n",
      "2020-03-02 20:28:31\n",
      "2020-02-13 02:08:18\n",
      "2019-08-07 18:32:55\n",
      "2019-07-30 17:39:15\n",
      "2019-11-21 23:26:30\n"
     ]
    },
    {
     "data": {
      "text/plain": [
       "username            object\n",
       "time                object\n",
       "tweet               object\n",
       "likes                int64\n",
       "replies              int64\n",
       "date        datetime64[ns]\n",
       "dtype: object"
      ]
     },
     "execution_count": 27,
     "metadata": {},
     "output_type": "execute_result"
    }
   ],
   "source": [
    "date = [] \n",
    "for x in la_tweets['time']: \n",
    "    data = datetime.strptime(x, \"%Y-%m-%dT%H:%M:%S\")\n",
    "    print(data)\n",
    "    date.append(data)\n",
    "    \n",
    "la_tweets[\"date\"] = date   \n",
    "la_tweets.dtypes"
   ]
  },
  {
   "cell_type": "code",
   "execution_count": 31,
   "metadata": {},
   "outputs": [
    {
     "data": {
      "application/vnd.plotly.v1+json": {
       "config": {
        "plotlyServerURL": "https://plot.ly"
       },
       "data": [
        {
         "hoverlabel": {
          "namelength": 0
         },
         "hovertemplate": "username=LADOT<br>date=%{x}<br>likes=%{y}",
         "legendgroup": "username=LADOT",
         "marker": {
          "color": "#636efa",
          "symbol": "circle"
         },
         "mode": "markers",
         "name": "username=LADOT",
         "showlegend": true,
         "type": "scatter",
         "x": [
          "2019-10-10T00:00:31",
          "2019-04-29T19:01:08"
         ],
         "xaxis": "x",
         "y": [
          33,
          20
         ],
         "yaxis": "y"
        },
        {
         "hoverlabel": {
          "namelength": 0
         },
         "hovertemplate": "username=LA Metro<br>date=%{x}<br>likes=%{y}",
         "legendgroup": "username=LA Metro",
         "marker": {
          "color": "#EF553B",
          "symbol": "circle"
         },
         "mode": "markers",
         "name": "username=LA Metro",
         "showlegend": true,
         "type": "scatter",
         "x": [
          "2014-04-01T18:32:47",
          "2012-10-24T17:51:30",
          "2017-12-13T23:15:15",
          "2017-08-02T15:41:48",
          "2017-06-05T04:10:05",
          "2017-06-03T15:15:18",
          "2017-06-03T05:30:16",
          "2017-06-01T20:16:01",
          "2011-08-10T16:43:16",
          "2016-04-22T19:30:17",
          "2013-11-05T17:15:22",
          "2013-10-04T16:18:21",
          "2013-09-11T22:03:20",
          "2013-08-12T18:14:31",
          "2013-05-28T17:37:40",
          "2013-05-22T17:22:14",
          "2013-04-17T21:54:17",
          "2015-03-30T19:00:15",
          "2014-10-06T15:34:18",
          "2014-09-26T20:12:40",
          "2012-01-23T18:06:21",
          "2012-01-09T18:47:24",
          "2011-12-22T19:36:45",
          "2019-04-19T02:00:35",
          "2019-04-11T21:45:15",
          "2017-01-25T20:42:50",
          "2017-01-18T16:56:18",
          "2016-12-07T07:30:17",
          "2016-11-21T21:00:30",
          "2016-11-01T21:42:35",
          "2016-11-01T21:11:30",
          "2016-11-01T16:37:12",
          "2016-11-01T07:15:09",
          "2015-11-10T09:00:13",
          "2015-11-07T03:30:06",
          "2015-10-27T18:00:09",
          "2015-04-29T19:13:14",
          "2020-01-22T18:32:35",
          "2019-09-11T02:15:03",
          "2019-08-01T17:20:15",
          "2019-07-29T17:20:12",
          "2019-07-26T19:20:07"
         ],
         "xaxis": "x",
         "y": [
          0,
          0,
          4,
          17,
          6,
          3,
          6,
          59,
          1,
          8,
          0,
          0,
          1,
          1,
          1,
          1,
          0,
          5,
          1,
          2,
          0,
          0,
          0,
          80,
          22,
          29,
          41,
          2,
          13,
          5,
          11,
          1,
          6,
          2,
          6,
          5,
          3,
          42,
          52,
          14,
          32,
          24
         ],
         "yaxis": "y"
        },
        {
         "hoverlabel": {
          "namelength": 0
         },
         "hovertemplate": "username=City of Los Angeles<br>date=%{x}<br>likes=%{y}",
         "legendgroup": "username=City of Los Angeles",
         "marker": {
          "color": "#00cc96",
          "symbol": "circle"
         },
         "mode": "markers",
         "name": "username=City of Los Angeles",
         "showlegend": true,
         "type": "scatter",
         "x": [
          "2019-03-15T22:41:31",
          "2019-11-05T23:13:28",
          "2019-09-05T19:57:02",
          "2018-08-27T21:35:22",
          "2018-06-15T21:24:14",
          "2018-01-24T20:51:27",
          "2017-12-12T21:23:16",
          "2017-10-26T18:55:40",
          "2017-10-25T20:45:07"
         ],
         "xaxis": "x",
         "y": [
          8,
          5,
          28,
          1,
          41,
          9,
          17,
          2,
          3
         ],
         "yaxis": "y"
        },
        {
         "hoverlabel": {
          "namelength": 0
         },
         "hovertemplate": "username=Los Angeles County Parks & Recreation<br>date=%{x}<br>likes=%{y}",
         "legendgroup": "username=Los Angeles County Parks & Recreation",
         "marker": {
          "color": "#ab63fa",
          "symbol": "circle"
         },
         "mode": "markers",
         "name": "username=Los Angeles County Parks & Recreation",
         "showlegend": true,
         "type": "scatter",
         "x": [
          "2019-05-07T19:39:08",
          "2014-11-04T21:13:08",
          "2014-08-30T18:24:08",
          "2014-08-11T14:24:10"
         ],
         "xaxis": "x",
         "y": [
          2,
          0,
          1,
          1
         ],
         "yaxis": "y"
        },
        {
         "hoverlabel": {
          "namelength": 0
         },
         "hovertemplate": "username=Los Angeles City Planning<br>date=%{x}<br>likes=%{y}",
         "legendgroup": "username=Los Angeles City Planning",
         "marker": {
          "color": "#FFA15A",
          "symbol": "circle"
         },
         "mode": "markers",
         "name": "username=Los Angeles City Planning",
         "showlegend": true,
         "type": "scatter",
         "x": [
          "2018-08-20T22:00:01",
          "2019-04-19T17:15:00",
          "2019-02-15T19:30:55",
          "2018-11-30T02:05:00",
          "2020-03-02T20:28:31",
          "2020-02-13T02:08:18",
          "2019-08-07T18:32:55",
          "2019-07-30T17:39:15"
         ],
         "xaxis": "x",
         "y": [
          3,
          4,
          8,
          4,
          8,
          8,
          6,
          72
         ],
         "yaxis": "y"
        },
        {
         "hoverlabel": {
          "namelength": 0
         },
         "hovertemplate": "username=Port of Los Angeles<br>date=%{x}<br>likes=%{y}",
         "legendgroup": "username=Port of Los Angeles",
         "marker": {
          "color": "#19d3f3",
          "symbol": "circle"
         },
         "mode": "markers",
         "name": "username=Port of Los Angeles",
         "showlegend": true,
         "type": "scatter",
         "x": [
          "2019-11-21T23:26:30"
         ],
         "xaxis": "x",
         "y": [
          0
         ],
         "yaxis": "y"
        }
       ],
       "layout": {
        "height": 600,
        "legend": {
         "tracegroupgap": 0
        },
        "margin": {
         "t": 60
        },
        "template": {
         "data": {
          "bar": [
           {
            "error_x": {
             "color": "#2a3f5f"
            },
            "error_y": {
             "color": "#2a3f5f"
            },
            "marker": {
             "line": {
              "color": "#E5ECF6",
              "width": 0.5
             }
            },
            "type": "bar"
           }
          ],
          "barpolar": [
           {
            "marker": {
             "line": {
              "color": "#E5ECF6",
              "width": 0.5
             }
            },
            "type": "barpolar"
           }
          ],
          "carpet": [
           {
            "aaxis": {
             "endlinecolor": "#2a3f5f",
             "gridcolor": "white",
             "linecolor": "white",
             "minorgridcolor": "white",
             "startlinecolor": "#2a3f5f"
            },
            "baxis": {
             "endlinecolor": "#2a3f5f",
             "gridcolor": "white",
             "linecolor": "white",
             "minorgridcolor": "white",
             "startlinecolor": "#2a3f5f"
            },
            "type": "carpet"
           }
          ],
          "choropleth": [
           {
            "colorbar": {
             "outlinewidth": 0,
             "ticks": ""
            },
            "type": "choropleth"
           }
          ],
          "contour": [
           {
            "colorbar": {
             "outlinewidth": 0,
             "ticks": ""
            },
            "colorscale": [
             [
              0,
              "#0d0887"
             ],
             [
              0.1111111111111111,
              "#46039f"
             ],
             [
              0.2222222222222222,
              "#7201a8"
             ],
             [
              0.3333333333333333,
              "#9c179e"
             ],
             [
              0.4444444444444444,
              "#bd3786"
             ],
             [
              0.5555555555555556,
              "#d8576b"
             ],
             [
              0.6666666666666666,
              "#ed7953"
             ],
             [
              0.7777777777777778,
              "#fb9f3a"
             ],
             [
              0.8888888888888888,
              "#fdca26"
             ],
             [
              1,
              "#f0f921"
             ]
            ],
            "type": "contour"
           }
          ],
          "contourcarpet": [
           {
            "colorbar": {
             "outlinewidth": 0,
             "ticks": ""
            },
            "type": "contourcarpet"
           }
          ],
          "heatmap": [
           {
            "colorbar": {
             "outlinewidth": 0,
             "ticks": ""
            },
            "colorscale": [
             [
              0,
              "#0d0887"
             ],
             [
              0.1111111111111111,
              "#46039f"
             ],
             [
              0.2222222222222222,
              "#7201a8"
             ],
             [
              0.3333333333333333,
              "#9c179e"
             ],
             [
              0.4444444444444444,
              "#bd3786"
             ],
             [
              0.5555555555555556,
              "#d8576b"
             ],
             [
              0.6666666666666666,
              "#ed7953"
             ],
             [
              0.7777777777777778,
              "#fb9f3a"
             ],
             [
              0.8888888888888888,
              "#fdca26"
             ],
             [
              1,
              "#f0f921"
             ]
            ],
            "type": "heatmap"
           }
          ],
          "heatmapgl": [
           {
            "colorbar": {
             "outlinewidth": 0,
             "ticks": ""
            },
            "colorscale": [
             [
              0,
              "#0d0887"
             ],
             [
              0.1111111111111111,
              "#46039f"
             ],
             [
              0.2222222222222222,
              "#7201a8"
             ],
             [
              0.3333333333333333,
              "#9c179e"
             ],
             [
              0.4444444444444444,
              "#bd3786"
             ],
             [
              0.5555555555555556,
              "#d8576b"
             ],
             [
              0.6666666666666666,
              "#ed7953"
             ],
             [
              0.7777777777777778,
              "#fb9f3a"
             ],
             [
              0.8888888888888888,
              "#fdca26"
             ],
             [
              1,
              "#f0f921"
             ]
            ],
            "type": "heatmapgl"
           }
          ],
          "histogram": [
           {
            "marker": {
             "colorbar": {
              "outlinewidth": 0,
              "ticks": ""
             }
            },
            "type": "histogram"
           }
          ],
          "histogram2d": [
           {
            "colorbar": {
             "outlinewidth": 0,
             "ticks": ""
            },
            "colorscale": [
             [
              0,
              "#0d0887"
             ],
             [
              0.1111111111111111,
              "#46039f"
             ],
             [
              0.2222222222222222,
              "#7201a8"
             ],
             [
              0.3333333333333333,
              "#9c179e"
             ],
             [
              0.4444444444444444,
              "#bd3786"
             ],
             [
              0.5555555555555556,
              "#d8576b"
             ],
             [
              0.6666666666666666,
              "#ed7953"
             ],
             [
              0.7777777777777778,
              "#fb9f3a"
             ],
             [
              0.8888888888888888,
              "#fdca26"
             ],
             [
              1,
              "#f0f921"
             ]
            ],
            "type": "histogram2d"
           }
          ],
          "histogram2dcontour": [
           {
            "colorbar": {
             "outlinewidth": 0,
             "ticks": ""
            },
            "colorscale": [
             [
              0,
              "#0d0887"
             ],
             [
              0.1111111111111111,
              "#46039f"
             ],
             [
              0.2222222222222222,
              "#7201a8"
             ],
             [
              0.3333333333333333,
              "#9c179e"
             ],
             [
              0.4444444444444444,
              "#bd3786"
             ],
             [
              0.5555555555555556,
              "#d8576b"
             ],
             [
              0.6666666666666666,
              "#ed7953"
             ],
             [
              0.7777777777777778,
              "#fb9f3a"
             ],
             [
              0.8888888888888888,
              "#fdca26"
             ],
             [
              1,
              "#f0f921"
             ]
            ],
            "type": "histogram2dcontour"
           }
          ],
          "mesh3d": [
           {
            "colorbar": {
             "outlinewidth": 0,
             "ticks": ""
            },
            "type": "mesh3d"
           }
          ],
          "parcoords": [
           {
            "line": {
             "colorbar": {
              "outlinewidth": 0,
              "ticks": ""
             }
            },
            "type": "parcoords"
           }
          ],
          "scatter": [
           {
            "marker": {
             "colorbar": {
              "outlinewidth": 0,
              "ticks": ""
             }
            },
            "type": "scatter"
           }
          ],
          "scatter3d": [
           {
            "line": {
             "colorbar": {
              "outlinewidth": 0,
              "ticks": ""
             }
            },
            "marker": {
             "colorbar": {
              "outlinewidth": 0,
              "ticks": ""
             }
            },
            "type": "scatter3d"
           }
          ],
          "scattercarpet": [
           {
            "marker": {
             "colorbar": {
              "outlinewidth": 0,
              "ticks": ""
             }
            },
            "type": "scattercarpet"
           }
          ],
          "scattergeo": [
           {
            "marker": {
             "colorbar": {
              "outlinewidth": 0,
              "ticks": ""
             }
            },
            "type": "scattergeo"
           }
          ],
          "scattergl": [
           {
            "marker": {
             "colorbar": {
              "outlinewidth": 0,
              "ticks": ""
             }
            },
            "type": "scattergl"
           }
          ],
          "scattermapbox": [
           {
            "marker": {
             "colorbar": {
              "outlinewidth": 0,
              "ticks": ""
             }
            },
            "type": "scattermapbox"
           }
          ],
          "scatterpolar": [
           {
            "marker": {
             "colorbar": {
              "outlinewidth": 0,
              "ticks": ""
             }
            },
            "type": "scatterpolar"
           }
          ],
          "scatterpolargl": [
           {
            "marker": {
             "colorbar": {
              "outlinewidth": 0,
              "ticks": ""
             }
            },
            "type": "scatterpolargl"
           }
          ],
          "scatterternary": [
           {
            "marker": {
             "colorbar": {
              "outlinewidth": 0,
              "ticks": ""
             }
            },
            "type": "scatterternary"
           }
          ],
          "surface": [
           {
            "colorbar": {
             "outlinewidth": 0,
             "ticks": ""
            },
            "colorscale": [
             [
              0,
              "#0d0887"
             ],
             [
              0.1111111111111111,
              "#46039f"
             ],
             [
              0.2222222222222222,
              "#7201a8"
             ],
             [
              0.3333333333333333,
              "#9c179e"
             ],
             [
              0.4444444444444444,
              "#bd3786"
             ],
             [
              0.5555555555555556,
              "#d8576b"
             ],
             [
              0.6666666666666666,
              "#ed7953"
             ],
             [
              0.7777777777777778,
              "#fb9f3a"
             ],
             [
              0.8888888888888888,
              "#fdca26"
             ],
             [
              1,
              "#f0f921"
             ]
            ],
            "type": "surface"
           }
          ],
          "table": [
           {
            "cells": {
             "fill": {
              "color": "#EBF0F8"
             },
             "line": {
              "color": "white"
             }
            },
            "header": {
             "fill": {
              "color": "#C8D4E3"
             },
             "line": {
              "color": "white"
             }
            },
            "type": "table"
           }
          ]
         },
         "layout": {
          "annotationdefaults": {
           "arrowcolor": "#2a3f5f",
           "arrowhead": 0,
           "arrowwidth": 1
          },
          "colorscale": {
           "diverging": [
            [
             0,
             "#8e0152"
            ],
            [
             0.1,
             "#c51b7d"
            ],
            [
             0.2,
             "#de77ae"
            ],
            [
             0.3,
             "#f1b6da"
            ],
            [
             0.4,
             "#fde0ef"
            ],
            [
             0.5,
             "#f7f7f7"
            ],
            [
             0.6,
             "#e6f5d0"
            ],
            [
             0.7,
             "#b8e186"
            ],
            [
             0.8,
             "#7fbc41"
            ],
            [
             0.9,
             "#4d9221"
            ],
            [
             1,
             "#276419"
            ]
           ],
           "sequential": [
            [
             0,
             "#0d0887"
            ],
            [
             0.1111111111111111,
             "#46039f"
            ],
            [
             0.2222222222222222,
             "#7201a8"
            ],
            [
             0.3333333333333333,
             "#9c179e"
            ],
            [
             0.4444444444444444,
             "#bd3786"
            ],
            [
             0.5555555555555556,
             "#d8576b"
            ],
            [
             0.6666666666666666,
             "#ed7953"
            ],
            [
             0.7777777777777778,
             "#fb9f3a"
            ],
            [
             0.8888888888888888,
             "#fdca26"
            ],
            [
             1,
             "#f0f921"
            ]
           ],
           "sequentialminus": [
            [
             0,
             "#0d0887"
            ],
            [
             0.1111111111111111,
             "#46039f"
            ],
            [
             0.2222222222222222,
             "#7201a8"
            ],
            [
             0.3333333333333333,
             "#9c179e"
            ],
            [
             0.4444444444444444,
             "#bd3786"
            ],
            [
             0.5555555555555556,
             "#d8576b"
            ],
            [
             0.6666666666666666,
             "#ed7953"
            ],
            [
             0.7777777777777778,
             "#fb9f3a"
            ],
            [
             0.8888888888888888,
             "#fdca26"
            ],
            [
             1,
             "#f0f921"
            ]
           ]
          },
          "colorway": [
           "#636efa",
           "#EF553B",
           "#00cc96",
           "#ab63fa",
           "#FFA15A",
           "#19d3f3",
           "#FF6692",
           "#B6E880",
           "#FF97FF",
           "#FECB52"
          ],
          "font": {
           "color": "#2a3f5f"
          },
          "geo": {
           "bgcolor": "white",
           "lakecolor": "white",
           "landcolor": "#E5ECF6",
           "showlakes": true,
           "showland": true,
           "subunitcolor": "white"
          },
          "hoverlabel": {
           "align": "left"
          },
          "hovermode": "closest",
          "mapbox": {
           "style": "light"
          },
          "paper_bgcolor": "white",
          "plot_bgcolor": "#E5ECF6",
          "polar": {
           "angularaxis": {
            "gridcolor": "white",
            "linecolor": "white",
            "ticks": ""
           },
           "bgcolor": "#E5ECF6",
           "radialaxis": {
            "gridcolor": "white",
            "linecolor": "white",
            "ticks": ""
           }
          },
          "scene": {
           "xaxis": {
            "backgroundcolor": "#E5ECF6",
            "gridcolor": "white",
            "gridwidth": 2,
            "linecolor": "white",
            "showbackground": true,
            "ticks": "",
            "zerolinecolor": "white"
           },
           "yaxis": {
            "backgroundcolor": "#E5ECF6",
            "gridcolor": "white",
            "gridwidth": 2,
            "linecolor": "white",
            "showbackground": true,
            "ticks": "",
            "zerolinecolor": "white"
           },
           "zaxis": {
            "backgroundcolor": "#E5ECF6",
            "gridcolor": "white",
            "gridwidth": 2,
            "linecolor": "white",
            "showbackground": true,
            "ticks": "",
            "zerolinecolor": "white"
           }
          },
          "shapedefaults": {
           "line": {
            "color": "#2a3f5f"
           }
          },
          "ternary": {
           "aaxis": {
            "gridcolor": "white",
            "linecolor": "white",
            "ticks": ""
           },
           "baxis": {
            "gridcolor": "white",
            "linecolor": "white",
            "ticks": ""
           },
           "bgcolor": "#E5ECF6",
           "caxis": {
            "gridcolor": "white",
            "linecolor": "white",
            "ticks": ""
           }
          },
          "title": {
           "x": 0.05
          },
          "xaxis": {
           "automargin": true,
           "gridcolor": "white",
           "linecolor": "white",
           "ticks": "",
           "zerolinecolor": "white",
           "zerolinewidth": 2
          },
          "yaxis": {
           "automargin": true,
           "gridcolor": "white",
           "linecolor": "white",
           "ticks": "",
           "zerolinecolor": "white",
           "zerolinewidth": 2
          }
         }
        },
        "xaxis": {
         "anchor": "y",
         "domain": [
          0,
          0.98
         ],
         "title": {
          "text": "date"
         }
        },
        "yaxis": {
         "anchor": "x",
         "domain": [
          0,
          1
         ],
         "title": {
          "text": "likes"
         }
        }
       }
      },
      "text/html": [
       "<div>\n",
       "        \n",
       "        \n",
       "            <div id=\"fd17ea79-4872-4f8a-ba36-0a7c5dd70cc8\" class=\"plotly-graph-div\" style=\"height:600px; width:100%;\"></div>\n",
       "            <script type=\"text/javascript\">\n",
       "                require([\"plotly\"], function(Plotly) {\n",
       "                    window.PLOTLYENV=window.PLOTLYENV || {};\n",
       "                    \n",
       "                if (document.getElementById(\"fd17ea79-4872-4f8a-ba36-0a7c5dd70cc8\")) {\n",
       "                    Plotly.newPlot(\n",
       "                        'fd17ea79-4872-4f8a-ba36-0a7c5dd70cc8',\n",
       "                        [{\"hoverlabel\": {\"namelength\": 0}, \"hovertemplate\": \"username=LADOT<br>date=%{x}<br>likes=%{y}\", \"legendgroup\": \"username=LADOT\", \"marker\": {\"color\": \"#636efa\", \"symbol\": \"circle\"}, \"mode\": \"markers\", \"name\": \"username=LADOT\", \"showlegend\": true, \"type\": \"scatter\", \"x\": [\"2019-10-10T00:00:31\", \"2019-04-29T19:01:08\"], \"xaxis\": \"x\", \"y\": [33, 20], \"yaxis\": \"y\"}, {\"hoverlabel\": {\"namelength\": 0}, \"hovertemplate\": \"username=LA Metro<br>date=%{x}<br>likes=%{y}\", \"legendgroup\": \"username=LA Metro\", \"marker\": {\"color\": \"#EF553B\", \"symbol\": \"circle\"}, \"mode\": \"markers\", \"name\": \"username=LA Metro\", \"showlegend\": true, \"type\": \"scatter\", \"x\": [\"2014-04-01T18:32:47\", \"2012-10-24T17:51:30\", \"2017-12-13T23:15:15\", \"2017-08-02T15:41:48\", \"2017-06-05T04:10:05\", \"2017-06-03T15:15:18\", \"2017-06-03T05:30:16\", \"2017-06-01T20:16:01\", \"2011-08-10T16:43:16\", \"2016-04-22T19:30:17\", \"2013-11-05T17:15:22\", \"2013-10-04T16:18:21\", \"2013-09-11T22:03:20\", \"2013-08-12T18:14:31\", \"2013-05-28T17:37:40\", \"2013-05-22T17:22:14\", \"2013-04-17T21:54:17\", \"2015-03-30T19:00:15\", \"2014-10-06T15:34:18\", \"2014-09-26T20:12:40\", \"2012-01-23T18:06:21\", \"2012-01-09T18:47:24\", \"2011-12-22T19:36:45\", \"2019-04-19T02:00:35\", \"2019-04-11T21:45:15\", \"2017-01-25T20:42:50\", \"2017-01-18T16:56:18\", \"2016-12-07T07:30:17\", \"2016-11-21T21:00:30\", \"2016-11-01T21:42:35\", \"2016-11-01T21:11:30\", \"2016-11-01T16:37:12\", \"2016-11-01T07:15:09\", \"2015-11-10T09:00:13\", \"2015-11-07T03:30:06\", \"2015-10-27T18:00:09\", \"2015-04-29T19:13:14\", \"2020-01-22T18:32:35\", \"2019-09-11T02:15:03\", \"2019-08-01T17:20:15\", \"2019-07-29T17:20:12\", \"2019-07-26T19:20:07\"], \"xaxis\": \"x\", \"y\": [0, 0, 4, 17, 6, 3, 6, 59, 1, 8, 0, 0, 1, 1, 1, 1, 0, 5, 1, 2, 0, 0, 0, 80, 22, 29, 41, 2, 13, 5, 11, 1, 6, 2, 6, 5, 3, 42, 52, 14, 32, 24], \"yaxis\": \"y\"}, {\"hoverlabel\": {\"namelength\": 0}, \"hovertemplate\": \"username=City of Los Angeles<br>date=%{x}<br>likes=%{y}\", \"legendgroup\": \"username=City of Los Angeles\", \"marker\": {\"color\": \"#00cc96\", \"symbol\": \"circle\"}, \"mode\": \"markers\", \"name\": \"username=City of Los Angeles\", \"showlegend\": true, \"type\": \"scatter\", \"x\": [\"2019-03-15T22:41:31\", \"2019-11-05T23:13:28\", \"2019-09-05T19:57:02\", \"2018-08-27T21:35:22\", \"2018-06-15T21:24:14\", \"2018-01-24T20:51:27\", \"2017-12-12T21:23:16\", \"2017-10-26T18:55:40\", \"2017-10-25T20:45:07\"], \"xaxis\": \"x\", \"y\": [8, 5, 28, 1, 41, 9, 17, 2, 3], \"yaxis\": \"y\"}, {\"hoverlabel\": {\"namelength\": 0}, \"hovertemplate\": \"username=Los Angeles County Parks & Recreation<br>date=%{x}<br>likes=%{y}\", \"legendgroup\": \"username=Los Angeles County Parks & Recreation\", \"marker\": {\"color\": \"#ab63fa\", \"symbol\": \"circle\"}, \"mode\": \"markers\", \"name\": \"username=Los Angeles County Parks & Recreation\", \"showlegend\": true, \"type\": \"scatter\", \"x\": [\"2019-05-07T19:39:08\", \"2014-11-04T21:13:08\", \"2014-08-30T18:24:08\", \"2014-08-11T14:24:10\"], \"xaxis\": \"x\", \"y\": [2, 0, 1, 1], \"yaxis\": \"y\"}, {\"hoverlabel\": {\"namelength\": 0}, \"hovertemplate\": \"username=Los Angeles City Planning<br>date=%{x}<br>likes=%{y}\", \"legendgroup\": \"username=Los Angeles City Planning\", \"marker\": {\"color\": \"#FFA15A\", \"symbol\": \"circle\"}, \"mode\": \"markers\", \"name\": \"username=Los Angeles City Planning\", \"showlegend\": true, \"type\": \"scatter\", \"x\": [\"2018-08-20T22:00:01\", \"2019-04-19T17:15:00\", \"2019-02-15T19:30:55\", \"2018-11-30T02:05:00\", \"2020-03-02T20:28:31\", \"2020-02-13T02:08:18\", \"2019-08-07T18:32:55\", \"2019-07-30T17:39:15\"], \"xaxis\": \"x\", \"y\": [3, 4, 8, 4, 8, 8, 6, 72], \"yaxis\": \"y\"}, {\"hoverlabel\": {\"namelength\": 0}, \"hovertemplate\": \"username=Port of Los Angeles<br>date=%{x}<br>likes=%{y}\", \"legendgroup\": \"username=Port of Los Angeles\", \"marker\": {\"color\": \"#19d3f3\", \"symbol\": \"circle\"}, \"mode\": \"markers\", \"name\": \"username=Port of Los Angeles\", \"showlegend\": true, \"type\": \"scatter\", \"x\": [\"2019-11-21T23:26:30\"], \"xaxis\": \"x\", \"y\": [0], \"yaxis\": \"y\"}],\n",
       "                        {\"height\": 600, \"legend\": {\"tracegroupgap\": 0}, \"margin\": {\"t\": 60}, \"template\": {\"data\": {\"bar\": [{\"error_x\": {\"color\": \"#2a3f5f\"}, \"error_y\": {\"color\": \"#2a3f5f\"}, \"marker\": {\"line\": {\"color\": \"#E5ECF6\", \"width\": 0.5}}, \"type\": \"bar\"}], \"barpolar\": [{\"marker\": {\"line\": {\"color\": \"#E5ECF6\", \"width\": 0.5}}, \"type\": \"barpolar\"}], \"carpet\": [{\"aaxis\": {\"endlinecolor\": \"#2a3f5f\", \"gridcolor\": \"white\", \"linecolor\": \"white\", \"minorgridcolor\": \"white\", \"startlinecolor\": \"#2a3f5f\"}, \"baxis\": {\"endlinecolor\": \"#2a3f5f\", \"gridcolor\": \"white\", \"linecolor\": \"white\", \"minorgridcolor\": \"white\", \"startlinecolor\": \"#2a3f5f\"}, \"type\": \"carpet\"}], \"choropleth\": [{\"colorbar\": {\"outlinewidth\": 0, \"ticks\": \"\"}, \"type\": \"choropleth\"}], \"contour\": [{\"colorbar\": {\"outlinewidth\": 0, \"ticks\": \"\"}, \"colorscale\": [[0.0, \"#0d0887\"], [0.1111111111111111, \"#46039f\"], [0.2222222222222222, \"#7201a8\"], [0.3333333333333333, \"#9c179e\"], [0.4444444444444444, \"#bd3786\"], [0.5555555555555556, \"#d8576b\"], [0.6666666666666666, \"#ed7953\"], [0.7777777777777778, \"#fb9f3a\"], [0.8888888888888888, \"#fdca26\"], [1.0, \"#f0f921\"]], \"type\": \"contour\"}], \"contourcarpet\": [{\"colorbar\": {\"outlinewidth\": 0, \"ticks\": \"\"}, \"type\": \"contourcarpet\"}], \"heatmap\": [{\"colorbar\": {\"outlinewidth\": 0, \"ticks\": \"\"}, \"colorscale\": [[0.0, \"#0d0887\"], [0.1111111111111111, \"#46039f\"], [0.2222222222222222, \"#7201a8\"], [0.3333333333333333, \"#9c179e\"], [0.4444444444444444, \"#bd3786\"], [0.5555555555555556, \"#d8576b\"], [0.6666666666666666, \"#ed7953\"], [0.7777777777777778, \"#fb9f3a\"], [0.8888888888888888, \"#fdca26\"], [1.0, \"#f0f921\"]], \"type\": \"heatmap\"}], \"heatmapgl\": [{\"colorbar\": {\"outlinewidth\": 0, \"ticks\": \"\"}, \"colorscale\": [[0.0, \"#0d0887\"], [0.1111111111111111, \"#46039f\"], [0.2222222222222222, \"#7201a8\"], [0.3333333333333333, \"#9c179e\"], [0.4444444444444444, \"#bd3786\"], [0.5555555555555556, \"#d8576b\"], [0.6666666666666666, \"#ed7953\"], [0.7777777777777778, \"#fb9f3a\"], [0.8888888888888888, \"#fdca26\"], [1.0, \"#f0f921\"]], \"type\": \"heatmapgl\"}], \"histogram\": [{\"marker\": {\"colorbar\": {\"outlinewidth\": 0, \"ticks\": \"\"}}, \"type\": \"histogram\"}], \"histogram2d\": [{\"colorbar\": {\"outlinewidth\": 0, \"ticks\": \"\"}, \"colorscale\": [[0.0, \"#0d0887\"], [0.1111111111111111, \"#46039f\"], [0.2222222222222222, \"#7201a8\"], [0.3333333333333333, \"#9c179e\"], [0.4444444444444444, \"#bd3786\"], [0.5555555555555556, \"#d8576b\"], [0.6666666666666666, \"#ed7953\"], [0.7777777777777778, \"#fb9f3a\"], [0.8888888888888888, \"#fdca26\"], [1.0, \"#f0f921\"]], \"type\": \"histogram2d\"}], \"histogram2dcontour\": [{\"colorbar\": {\"outlinewidth\": 0, \"ticks\": \"\"}, \"colorscale\": [[0.0, \"#0d0887\"], [0.1111111111111111, \"#46039f\"], [0.2222222222222222, \"#7201a8\"], [0.3333333333333333, \"#9c179e\"], [0.4444444444444444, \"#bd3786\"], [0.5555555555555556, \"#d8576b\"], [0.6666666666666666, \"#ed7953\"], [0.7777777777777778, \"#fb9f3a\"], [0.8888888888888888, \"#fdca26\"], [1.0, \"#f0f921\"]], \"type\": \"histogram2dcontour\"}], \"mesh3d\": [{\"colorbar\": {\"outlinewidth\": 0, \"ticks\": \"\"}, \"type\": \"mesh3d\"}], \"parcoords\": [{\"line\": {\"colorbar\": {\"outlinewidth\": 0, \"ticks\": \"\"}}, \"type\": \"parcoords\"}], \"scatter\": [{\"marker\": {\"colorbar\": {\"outlinewidth\": 0, \"ticks\": \"\"}}, \"type\": \"scatter\"}], \"scatter3d\": [{\"line\": {\"colorbar\": {\"outlinewidth\": 0, \"ticks\": \"\"}}, \"marker\": {\"colorbar\": {\"outlinewidth\": 0, \"ticks\": \"\"}}, \"type\": \"scatter3d\"}], \"scattercarpet\": [{\"marker\": {\"colorbar\": {\"outlinewidth\": 0, \"ticks\": \"\"}}, \"type\": \"scattercarpet\"}], \"scattergeo\": [{\"marker\": {\"colorbar\": {\"outlinewidth\": 0, \"ticks\": \"\"}}, \"type\": \"scattergeo\"}], \"scattergl\": [{\"marker\": {\"colorbar\": {\"outlinewidth\": 0, \"ticks\": \"\"}}, \"type\": \"scattergl\"}], \"scattermapbox\": [{\"marker\": {\"colorbar\": {\"outlinewidth\": 0, \"ticks\": \"\"}}, \"type\": \"scattermapbox\"}], \"scatterpolar\": [{\"marker\": {\"colorbar\": {\"outlinewidth\": 0, \"ticks\": \"\"}}, \"type\": \"scatterpolar\"}], \"scatterpolargl\": [{\"marker\": {\"colorbar\": {\"outlinewidth\": 0, \"ticks\": \"\"}}, \"type\": \"scatterpolargl\"}], \"scatterternary\": [{\"marker\": {\"colorbar\": {\"outlinewidth\": 0, \"ticks\": \"\"}}, \"type\": \"scatterternary\"}], \"surface\": [{\"colorbar\": {\"outlinewidth\": 0, \"ticks\": \"\"}, \"colorscale\": [[0.0, \"#0d0887\"], [0.1111111111111111, \"#46039f\"], [0.2222222222222222, \"#7201a8\"], [0.3333333333333333, \"#9c179e\"], [0.4444444444444444, \"#bd3786\"], [0.5555555555555556, \"#d8576b\"], [0.6666666666666666, \"#ed7953\"], [0.7777777777777778, \"#fb9f3a\"], [0.8888888888888888, \"#fdca26\"], [1.0, \"#f0f921\"]], \"type\": \"surface\"}], \"table\": [{\"cells\": {\"fill\": {\"color\": \"#EBF0F8\"}, \"line\": {\"color\": \"white\"}}, \"header\": {\"fill\": {\"color\": \"#C8D4E3\"}, \"line\": {\"color\": \"white\"}}, \"type\": \"table\"}]}, \"layout\": {\"annotationdefaults\": {\"arrowcolor\": \"#2a3f5f\", \"arrowhead\": 0, \"arrowwidth\": 1}, \"colorscale\": {\"diverging\": [[0, \"#8e0152\"], [0.1, \"#c51b7d\"], [0.2, \"#de77ae\"], [0.3, \"#f1b6da\"], [0.4, \"#fde0ef\"], [0.5, \"#f7f7f7\"], [0.6, \"#e6f5d0\"], [0.7, \"#b8e186\"], [0.8, \"#7fbc41\"], [0.9, \"#4d9221\"], [1, \"#276419\"]], \"sequential\": [[0.0, \"#0d0887\"], [0.1111111111111111, \"#46039f\"], [0.2222222222222222, \"#7201a8\"], [0.3333333333333333, \"#9c179e\"], [0.4444444444444444, \"#bd3786\"], [0.5555555555555556, \"#d8576b\"], [0.6666666666666666, \"#ed7953\"], [0.7777777777777778, \"#fb9f3a\"], [0.8888888888888888, \"#fdca26\"], [1.0, \"#f0f921\"]], \"sequentialminus\": [[0.0, \"#0d0887\"], [0.1111111111111111, \"#46039f\"], [0.2222222222222222, \"#7201a8\"], [0.3333333333333333, \"#9c179e\"], [0.4444444444444444, \"#bd3786\"], [0.5555555555555556, \"#d8576b\"], [0.6666666666666666, \"#ed7953\"], [0.7777777777777778, \"#fb9f3a\"], [0.8888888888888888, \"#fdca26\"], [1.0, \"#f0f921\"]]}, \"colorway\": [\"#636efa\", \"#EF553B\", \"#00cc96\", \"#ab63fa\", \"#FFA15A\", \"#19d3f3\", \"#FF6692\", \"#B6E880\", \"#FF97FF\", \"#FECB52\"], \"font\": {\"color\": \"#2a3f5f\"}, \"geo\": {\"bgcolor\": \"white\", \"lakecolor\": \"white\", \"landcolor\": \"#E5ECF6\", \"showlakes\": true, \"showland\": true, \"subunitcolor\": \"white\"}, \"hoverlabel\": {\"align\": \"left\"}, \"hovermode\": \"closest\", \"mapbox\": {\"style\": \"light\"}, \"paper_bgcolor\": \"white\", \"plot_bgcolor\": \"#E5ECF6\", \"polar\": {\"angularaxis\": {\"gridcolor\": \"white\", \"linecolor\": \"white\", \"ticks\": \"\"}, \"bgcolor\": \"#E5ECF6\", \"radialaxis\": {\"gridcolor\": \"white\", \"linecolor\": \"white\", \"ticks\": \"\"}}, \"scene\": {\"xaxis\": {\"backgroundcolor\": \"#E5ECF6\", \"gridcolor\": \"white\", \"gridwidth\": 2, \"linecolor\": \"white\", \"showbackground\": true, \"ticks\": \"\", \"zerolinecolor\": \"white\"}, \"yaxis\": {\"backgroundcolor\": \"#E5ECF6\", \"gridcolor\": \"white\", \"gridwidth\": 2, \"linecolor\": \"white\", \"showbackground\": true, \"ticks\": \"\", \"zerolinecolor\": \"white\"}, \"zaxis\": {\"backgroundcolor\": \"#E5ECF6\", \"gridcolor\": \"white\", \"gridwidth\": 2, \"linecolor\": \"white\", \"showbackground\": true, \"ticks\": \"\", \"zerolinecolor\": \"white\"}}, \"shapedefaults\": {\"line\": {\"color\": \"#2a3f5f\"}}, \"ternary\": {\"aaxis\": {\"gridcolor\": \"white\", \"linecolor\": \"white\", \"ticks\": \"\"}, \"baxis\": {\"gridcolor\": \"white\", \"linecolor\": \"white\", \"ticks\": \"\"}, \"bgcolor\": \"#E5ECF6\", \"caxis\": {\"gridcolor\": \"white\", \"linecolor\": \"white\", \"ticks\": \"\"}}, \"title\": {\"x\": 0.05}, \"xaxis\": {\"automargin\": true, \"gridcolor\": \"white\", \"linecolor\": \"white\", \"ticks\": \"\", \"zerolinecolor\": \"white\", \"zerolinewidth\": 2}, \"yaxis\": {\"automargin\": true, \"gridcolor\": \"white\", \"linecolor\": \"white\", \"ticks\": \"\", \"zerolinecolor\": \"white\", \"zerolinewidth\": 2}}}, \"xaxis\": {\"anchor\": \"y\", \"domain\": [0.0, 0.98], \"title\": {\"text\": \"date\"}}, \"yaxis\": {\"anchor\": \"x\", \"domain\": [0.0, 1.0], \"title\": {\"text\": \"likes\"}}},\n",
       "                        {\"responsive\": true}\n",
       "                    ).then(function(){\n",
       "                            \n",
       "var gd = document.getElementById('fd17ea79-4872-4f8a-ba36-0a7c5dd70cc8');\n",
       "var x = new MutationObserver(function (mutations, observer) {{\n",
       "        var display = window.getComputedStyle(gd).display;\n",
       "        if (!display || display === 'none') {{\n",
       "            console.log([gd, 'removed!']);\n",
       "            Plotly.purge(gd);\n",
       "            observer.disconnect();\n",
       "        }}\n",
       "}});\n",
       "\n",
       "// Listen for the removal of the full notebook cells\n",
       "var notebookContainer = gd.closest('#notebook-container');\n",
       "if (notebookContainer) {{\n",
       "    x.observe(notebookContainer, {childList: true});\n",
       "}}\n",
       "\n",
       "// Listen for the clearing of the current output cell\n",
       "var outputEl = gd.closest('.output');\n",
       "if (outputEl) {{\n",
       "    x.observe(outputEl, {childList: true});\n",
       "}}\n",
       "\n",
       "                        })\n",
       "                };\n",
       "                });\n",
       "            </script>\n",
       "        </div>"
      ]
     },
     "metadata": {},
     "output_type": "display_data"
    }
   ],
   "source": [
    "import plotly.express as px\n",
    "\n",
    "fig = px.scatter(la_tweets, x='date', y='likes', color=\"username\")\n",
    "fig.show()"
   ]
  },
  {
   "cell_type": "code",
   "execution_count": 33,
   "metadata": {},
   "outputs": [
    {
     "data": {
      "application/vnd.plotly.v1+json": {
       "config": {
        "plotlyServerURL": "https://plot.ly"
       },
       "data": [
        {
         "hoverlabel": {
          "namelength": 0
         },
         "hovertemplate": "username=LADOT<br>date=%{x}<br>replies=%{y}",
         "legendgroup": "username=LADOT",
         "marker": {
          "color": "#636efa",
          "symbol": "circle"
         },
         "mode": "markers",
         "name": "username=LADOT",
         "showlegend": true,
         "type": "scatter",
         "x": [
          "2019-10-10T00:00:31",
          "2019-04-29T19:01:08"
         ],
         "xaxis": "x",
         "y": [
          5,
          2
         ],
         "yaxis": "y"
        },
        {
         "hoverlabel": {
          "namelength": 0
         },
         "hovertemplate": "username=LA Metro<br>date=%{x}<br>replies=%{y}",
         "legendgroup": "username=LA Metro",
         "marker": {
          "color": "#EF553B",
          "symbol": "circle"
         },
         "mode": "markers",
         "name": "username=LA Metro",
         "showlegend": true,
         "type": "scatter",
         "x": [
          "2014-04-01T18:32:47",
          "2012-10-24T17:51:30",
          "2017-12-13T23:15:15",
          "2017-08-02T15:41:48",
          "2017-06-05T04:10:05",
          "2017-06-03T15:15:18",
          "2017-06-03T05:30:16",
          "2017-06-01T20:16:01",
          "2011-08-10T16:43:16",
          "2016-04-22T19:30:17",
          "2013-11-05T17:15:22",
          "2013-10-04T16:18:21",
          "2013-09-11T22:03:20",
          "2013-08-12T18:14:31",
          "2013-05-28T17:37:40",
          "2013-05-22T17:22:14",
          "2013-04-17T21:54:17",
          "2015-03-30T19:00:15",
          "2014-10-06T15:34:18",
          "2014-09-26T20:12:40",
          "2012-01-23T18:06:21",
          "2012-01-09T18:47:24",
          "2011-12-22T19:36:45",
          "2019-04-19T02:00:35",
          "2019-04-11T21:45:15",
          "2017-01-25T20:42:50",
          "2017-01-18T16:56:18",
          "2016-12-07T07:30:17",
          "2016-11-21T21:00:30",
          "2016-11-01T21:42:35",
          "2016-11-01T21:11:30",
          "2016-11-01T16:37:12",
          "2016-11-01T07:15:09",
          "2015-11-10T09:00:13",
          "2015-11-07T03:30:06",
          "2015-10-27T18:00:09",
          "2015-04-29T19:13:14",
          "2020-01-22T18:32:35",
          "2019-09-11T02:15:03",
          "2019-08-01T17:20:15",
          "2019-07-29T17:20:12",
          "2019-07-26T19:20:07"
         ],
         "xaxis": "x",
         "y": [
          2,
          0,
          1,
          1,
          3,
          1,
          0,
          5,
          0,
          0,
          0,
          0,
          0,
          0,
          0,
          0,
          0,
          0,
          0,
          0,
          0,
          0,
          0,
          15,
          3,
          4,
          2,
          0,
          0,
          0,
          1,
          0,
          0,
          0,
          0,
          0,
          0,
          9,
          7,
          0,
          1,
          0
         ],
         "yaxis": "y"
        },
        {
         "hoverlabel": {
          "namelength": 0
         },
         "hovertemplate": "username=City of Los Angeles<br>date=%{x}<br>replies=%{y}",
         "legendgroup": "username=City of Los Angeles",
         "marker": {
          "color": "#00cc96",
          "symbol": "circle"
         },
         "mode": "markers",
         "name": "username=City of Los Angeles",
         "showlegend": true,
         "type": "scatter",
         "x": [
          "2019-03-15T22:41:31",
          "2019-11-05T23:13:28",
          "2019-09-05T19:57:02",
          "2018-08-27T21:35:22",
          "2018-06-15T21:24:14",
          "2018-01-24T20:51:27",
          "2017-12-12T21:23:16",
          "2017-10-26T18:55:40",
          "2017-10-25T20:45:07"
         ],
         "xaxis": "x",
         "y": [
          0,
          0,
          5,
          0,
          1,
          3,
          0,
          0,
          0
         ],
         "yaxis": "y"
        },
        {
         "hoverlabel": {
          "namelength": 0
         },
         "hovertemplate": "username=Los Angeles County Parks & Recreation<br>date=%{x}<br>replies=%{y}",
         "legendgroup": "username=Los Angeles County Parks & Recreation",
         "marker": {
          "color": "#ab63fa",
          "symbol": "circle"
         },
         "mode": "markers",
         "name": "username=Los Angeles County Parks & Recreation",
         "showlegend": true,
         "type": "scatter",
         "x": [
          "2019-05-07T19:39:08",
          "2014-11-04T21:13:08",
          "2014-08-30T18:24:08",
          "2014-08-11T14:24:10"
         ],
         "xaxis": "x",
         "y": [
          0,
          0,
          0,
          0
         ],
         "yaxis": "y"
        },
        {
         "hoverlabel": {
          "namelength": 0
         },
         "hovertemplate": "username=Los Angeles City Planning<br>date=%{x}<br>replies=%{y}",
         "legendgroup": "username=Los Angeles City Planning",
         "marker": {
          "color": "#FFA15A",
          "symbol": "circle"
         },
         "mode": "markers",
         "name": "username=Los Angeles City Planning",
         "showlegend": true,
         "type": "scatter",
         "x": [
          "2018-08-20T22:00:01",
          "2019-04-19T17:15:00",
          "2019-02-15T19:30:55",
          "2018-11-30T02:05:00",
          "2020-03-02T20:28:31",
          "2020-02-13T02:08:18",
          "2019-08-07T18:32:55",
          "2019-07-30T17:39:15"
         ],
         "xaxis": "x",
         "y": [
          0,
          0,
          0,
          0,
          0,
          1,
          0,
          2
         ],
         "yaxis": "y"
        },
        {
         "hoverlabel": {
          "namelength": 0
         },
         "hovertemplate": "username=Port of Los Angeles<br>date=%{x}<br>replies=%{y}",
         "legendgroup": "username=Port of Los Angeles",
         "marker": {
          "color": "#19d3f3",
          "symbol": "circle"
         },
         "mode": "markers",
         "name": "username=Port of Los Angeles",
         "showlegend": true,
         "type": "scatter",
         "x": [
          "2019-11-21T23:26:30"
         ],
         "xaxis": "x",
         "y": [
          0
         ],
         "yaxis": "y"
        }
       ],
       "layout": {
        "height": 600,
        "legend": {
         "tracegroupgap": 0
        },
        "margin": {
         "t": 60
        },
        "template": {
         "data": {
          "bar": [
           {
            "error_x": {
             "color": "#2a3f5f"
            },
            "error_y": {
             "color": "#2a3f5f"
            },
            "marker": {
             "line": {
              "color": "#E5ECF6",
              "width": 0.5
             }
            },
            "type": "bar"
           }
          ],
          "barpolar": [
           {
            "marker": {
             "line": {
              "color": "#E5ECF6",
              "width": 0.5
             }
            },
            "type": "barpolar"
           }
          ],
          "carpet": [
           {
            "aaxis": {
             "endlinecolor": "#2a3f5f",
             "gridcolor": "white",
             "linecolor": "white",
             "minorgridcolor": "white",
             "startlinecolor": "#2a3f5f"
            },
            "baxis": {
             "endlinecolor": "#2a3f5f",
             "gridcolor": "white",
             "linecolor": "white",
             "minorgridcolor": "white",
             "startlinecolor": "#2a3f5f"
            },
            "type": "carpet"
           }
          ],
          "choropleth": [
           {
            "colorbar": {
             "outlinewidth": 0,
             "ticks": ""
            },
            "type": "choropleth"
           }
          ],
          "contour": [
           {
            "colorbar": {
             "outlinewidth": 0,
             "ticks": ""
            },
            "colorscale": [
             [
              0,
              "#0d0887"
             ],
             [
              0.1111111111111111,
              "#46039f"
             ],
             [
              0.2222222222222222,
              "#7201a8"
             ],
             [
              0.3333333333333333,
              "#9c179e"
             ],
             [
              0.4444444444444444,
              "#bd3786"
             ],
             [
              0.5555555555555556,
              "#d8576b"
             ],
             [
              0.6666666666666666,
              "#ed7953"
             ],
             [
              0.7777777777777778,
              "#fb9f3a"
             ],
             [
              0.8888888888888888,
              "#fdca26"
             ],
             [
              1,
              "#f0f921"
             ]
            ],
            "type": "contour"
           }
          ],
          "contourcarpet": [
           {
            "colorbar": {
             "outlinewidth": 0,
             "ticks": ""
            },
            "type": "contourcarpet"
           }
          ],
          "heatmap": [
           {
            "colorbar": {
             "outlinewidth": 0,
             "ticks": ""
            },
            "colorscale": [
             [
              0,
              "#0d0887"
             ],
             [
              0.1111111111111111,
              "#46039f"
             ],
             [
              0.2222222222222222,
              "#7201a8"
             ],
             [
              0.3333333333333333,
              "#9c179e"
             ],
             [
              0.4444444444444444,
              "#bd3786"
             ],
             [
              0.5555555555555556,
              "#d8576b"
             ],
             [
              0.6666666666666666,
              "#ed7953"
             ],
             [
              0.7777777777777778,
              "#fb9f3a"
             ],
             [
              0.8888888888888888,
              "#fdca26"
             ],
             [
              1,
              "#f0f921"
             ]
            ],
            "type": "heatmap"
           }
          ],
          "heatmapgl": [
           {
            "colorbar": {
             "outlinewidth": 0,
             "ticks": ""
            },
            "colorscale": [
             [
              0,
              "#0d0887"
             ],
             [
              0.1111111111111111,
              "#46039f"
             ],
             [
              0.2222222222222222,
              "#7201a8"
             ],
             [
              0.3333333333333333,
              "#9c179e"
             ],
             [
              0.4444444444444444,
              "#bd3786"
             ],
             [
              0.5555555555555556,
              "#d8576b"
             ],
             [
              0.6666666666666666,
              "#ed7953"
             ],
             [
              0.7777777777777778,
              "#fb9f3a"
             ],
             [
              0.8888888888888888,
              "#fdca26"
             ],
             [
              1,
              "#f0f921"
             ]
            ],
            "type": "heatmapgl"
           }
          ],
          "histogram": [
           {
            "marker": {
             "colorbar": {
              "outlinewidth": 0,
              "ticks": ""
             }
            },
            "type": "histogram"
           }
          ],
          "histogram2d": [
           {
            "colorbar": {
             "outlinewidth": 0,
             "ticks": ""
            },
            "colorscale": [
             [
              0,
              "#0d0887"
             ],
             [
              0.1111111111111111,
              "#46039f"
             ],
             [
              0.2222222222222222,
              "#7201a8"
             ],
             [
              0.3333333333333333,
              "#9c179e"
             ],
             [
              0.4444444444444444,
              "#bd3786"
             ],
             [
              0.5555555555555556,
              "#d8576b"
             ],
             [
              0.6666666666666666,
              "#ed7953"
             ],
             [
              0.7777777777777778,
              "#fb9f3a"
             ],
             [
              0.8888888888888888,
              "#fdca26"
             ],
             [
              1,
              "#f0f921"
             ]
            ],
            "type": "histogram2d"
           }
          ],
          "histogram2dcontour": [
           {
            "colorbar": {
             "outlinewidth": 0,
             "ticks": ""
            },
            "colorscale": [
             [
              0,
              "#0d0887"
             ],
             [
              0.1111111111111111,
              "#46039f"
             ],
             [
              0.2222222222222222,
              "#7201a8"
             ],
             [
              0.3333333333333333,
              "#9c179e"
             ],
             [
              0.4444444444444444,
              "#bd3786"
             ],
             [
              0.5555555555555556,
              "#d8576b"
             ],
             [
              0.6666666666666666,
              "#ed7953"
             ],
             [
              0.7777777777777778,
              "#fb9f3a"
             ],
             [
              0.8888888888888888,
              "#fdca26"
             ],
             [
              1,
              "#f0f921"
             ]
            ],
            "type": "histogram2dcontour"
           }
          ],
          "mesh3d": [
           {
            "colorbar": {
             "outlinewidth": 0,
             "ticks": ""
            },
            "type": "mesh3d"
           }
          ],
          "parcoords": [
           {
            "line": {
             "colorbar": {
              "outlinewidth": 0,
              "ticks": ""
             }
            },
            "type": "parcoords"
           }
          ],
          "scatter": [
           {
            "marker": {
             "colorbar": {
              "outlinewidth": 0,
              "ticks": ""
             }
            },
            "type": "scatter"
           }
          ],
          "scatter3d": [
           {
            "line": {
             "colorbar": {
              "outlinewidth": 0,
              "ticks": ""
             }
            },
            "marker": {
             "colorbar": {
              "outlinewidth": 0,
              "ticks": ""
             }
            },
            "type": "scatter3d"
           }
          ],
          "scattercarpet": [
           {
            "marker": {
             "colorbar": {
              "outlinewidth": 0,
              "ticks": ""
             }
            },
            "type": "scattercarpet"
           }
          ],
          "scattergeo": [
           {
            "marker": {
             "colorbar": {
              "outlinewidth": 0,
              "ticks": ""
             }
            },
            "type": "scattergeo"
           }
          ],
          "scattergl": [
           {
            "marker": {
             "colorbar": {
              "outlinewidth": 0,
              "ticks": ""
             }
            },
            "type": "scattergl"
           }
          ],
          "scattermapbox": [
           {
            "marker": {
             "colorbar": {
              "outlinewidth": 0,
              "ticks": ""
             }
            },
            "type": "scattermapbox"
           }
          ],
          "scatterpolar": [
           {
            "marker": {
             "colorbar": {
              "outlinewidth": 0,
              "ticks": ""
             }
            },
            "type": "scatterpolar"
           }
          ],
          "scatterpolargl": [
           {
            "marker": {
             "colorbar": {
              "outlinewidth": 0,
              "ticks": ""
             }
            },
            "type": "scatterpolargl"
           }
          ],
          "scatterternary": [
           {
            "marker": {
             "colorbar": {
              "outlinewidth": 0,
              "ticks": ""
             }
            },
            "type": "scatterternary"
           }
          ],
          "surface": [
           {
            "colorbar": {
             "outlinewidth": 0,
             "ticks": ""
            },
            "colorscale": [
             [
              0,
              "#0d0887"
             ],
             [
              0.1111111111111111,
              "#46039f"
             ],
             [
              0.2222222222222222,
              "#7201a8"
             ],
             [
              0.3333333333333333,
              "#9c179e"
             ],
             [
              0.4444444444444444,
              "#bd3786"
             ],
             [
              0.5555555555555556,
              "#d8576b"
             ],
             [
              0.6666666666666666,
              "#ed7953"
             ],
             [
              0.7777777777777778,
              "#fb9f3a"
             ],
             [
              0.8888888888888888,
              "#fdca26"
             ],
             [
              1,
              "#f0f921"
             ]
            ],
            "type": "surface"
           }
          ],
          "table": [
           {
            "cells": {
             "fill": {
              "color": "#EBF0F8"
             },
             "line": {
              "color": "white"
             }
            },
            "header": {
             "fill": {
              "color": "#C8D4E3"
             },
             "line": {
              "color": "white"
             }
            },
            "type": "table"
           }
          ]
         },
         "layout": {
          "annotationdefaults": {
           "arrowcolor": "#2a3f5f",
           "arrowhead": 0,
           "arrowwidth": 1
          },
          "colorscale": {
           "diverging": [
            [
             0,
             "#8e0152"
            ],
            [
             0.1,
             "#c51b7d"
            ],
            [
             0.2,
             "#de77ae"
            ],
            [
             0.3,
             "#f1b6da"
            ],
            [
             0.4,
             "#fde0ef"
            ],
            [
             0.5,
             "#f7f7f7"
            ],
            [
             0.6,
             "#e6f5d0"
            ],
            [
             0.7,
             "#b8e186"
            ],
            [
             0.8,
             "#7fbc41"
            ],
            [
             0.9,
             "#4d9221"
            ],
            [
             1,
             "#276419"
            ]
           ],
           "sequential": [
            [
             0,
             "#0d0887"
            ],
            [
             0.1111111111111111,
             "#46039f"
            ],
            [
             0.2222222222222222,
             "#7201a8"
            ],
            [
             0.3333333333333333,
             "#9c179e"
            ],
            [
             0.4444444444444444,
             "#bd3786"
            ],
            [
             0.5555555555555556,
             "#d8576b"
            ],
            [
             0.6666666666666666,
             "#ed7953"
            ],
            [
             0.7777777777777778,
             "#fb9f3a"
            ],
            [
             0.8888888888888888,
             "#fdca26"
            ],
            [
             1,
             "#f0f921"
            ]
           ],
           "sequentialminus": [
            [
             0,
             "#0d0887"
            ],
            [
             0.1111111111111111,
             "#46039f"
            ],
            [
             0.2222222222222222,
             "#7201a8"
            ],
            [
             0.3333333333333333,
             "#9c179e"
            ],
            [
             0.4444444444444444,
             "#bd3786"
            ],
            [
             0.5555555555555556,
             "#d8576b"
            ],
            [
             0.6666666666666666,
             "#ed7953"
            ],
            [
             0.7777777777777778,
             "#fb9f3a"
            ],
            [
             0.8888888888888888,
             "#fdca26"
            ],
            [
             1,
             "#f0f921"
            ]
           ]
          },
          "colorway": [
           "#636efa",
           "#EF553B",
           "#00cc96",
           "#ab63fa",
           "#FFA15A",
           "#19d3f3",
           "#FF6692",
           "#B6E880",
           "#FF97FF",
           "#FECB52"
          ],
          "font": {
           "color": "#2a3f5f"
          },
          "geo": {
           "bgcolor": "white",
           "lakecolor": "white",
           "landcolor": "#E5ECF6",
           "showlakes": true,
           "showland": true,
           "subunitcolor": "white"
          },
          "hoverlabel": {
           "align": "left"
          },
          "hovermode": "closest",
          "mapbox": {
           "style": "light"
          },
          "paper_bgcolor": "white",
          "plot_bgcolor": "#E5ECF6",
          "polar": {
           "angularaxis": {
            "gridcolor": "white",
            "linecolor": "white",
            "ticks": ""
           },
           "bgcolor": "#E5ECF6",
           "radialaxis": {
            "gridcolor": "white",
            "linecolor": "white",
            "ticks": ""
           }
          },
          "scene": {
           "xaxis": {
            "backgroundcolor": "#E5ECF6",
            "gridcolor": "white",
            "gridwidth": 2,
            "linecolor": "white",
            "showbackground": true,
            "ticks": "",
            "zerolinecolor": "white"
           },
           "yaxis": {
            "backgroundcolor": "#E5ECF6",
            "gridcolor": "white",
            "gridwidth": 2,
            "linecolor": "white",
            "showbackground": true,
            "ticks": "",
            "zerolinecolor": "white"
           },
           "zaxis": {
            "backgroundcolor": "#E5ECF6",
            "gridcolor": "white",
            "gridwidth": 2,
            "linecolor": "white",
            "showbackground": true,
            "ticks": "",
            "zerolinecolor": "white"
           }
          },
          "shapedefaults": {
           "line": {
            "color": "#2a3f5f"
           }
          },
          "ternary": {
           "aaxis": {
            "gridcolor": "white",
            "linecolor": "white",
            "ticks": ""
           },
           "baxis": {
            "gridcolor": "white",
            "linecolor": "white",
            "ticks": ""
           },
           "bgcolor": "#E5ECF6",
           "caxis": {
            "gridcolor": "white",
            "linecolor": "white",
            "ticks": ""
           }
          },
          "title": {
           "x": 0.05
          },
          "xaxis": {
           "automargin": true,
           "gridcolor": "white",
           "linecolor": "white",
           "ticks": "",
           "zerolinecolor": "white",
           "zerolinewidth": 2
          },
          "yaxis": {
           "automargin": true,
           "gridcolor": "white",
           "linecolor": "white",
           "ticks": "",
           "zerolinecolor": "white",
           "zerolinewidth": 2
          }
         }
        },
        "xaxis": {
         "anchor": "y",
         "domain": [
          0,
          0.98
         ],
         "title": {
          "text": "date"
         }
        },
        "yaxis": {
         "anchor": "x",
         "domain": [
          0,
          1
         ],
         "title": {
          "text": "replies"
         }
        }
       }
      },
      "text/html": [
       "<div>\n",
       "        \n",
       "        \n",
       "            <div id=\"bd1570db-0a07-43bb-b086-3d1356468c63\" class=\"plotly-graph-div\" style=\"height:600px; width:100%;\"></div>\n",
       "            <script type=\"text/javascript\">\n",
       "                require([\"plotly\"], function(Plotly) {\n",
       "                    window.PLOTLYENV=window.PLOTLYENV || {};\n",
       "                    \n",
       "                if (document.getElementById(\"bd1570db-0a07-43bb-b086-3d1356468c63\")) {\n",
       "                    Plotly.newPlot(\n",
       "                        'bd1570db-0a07-43bb-b086-3d1356468c63',\n",
       "                        [{\"hoverlabel\": {\"namelength\": 0}, \"hovertemplate\": \"username=LADOT<br>date=%{x}<br>replies=%{y}\", \"legendgroup\": \"username=LADOT\", \"marker\": {\"color\": \"#636efa\", \"symbol\": \"circle\"}, \"mode\": \"markers\", \"name\": \"username=LADOT\", \"showlegend\": true, \"type\": \"scatter\", \"x\": [\"2019-10-10T00:00:31\", \"2019-04-29T19:01:08\"], \"xaxis\": \"x\", \"y\": [5, 2], \"yaxis\": \"y\"}, {\"hoverlabel\": {\"namelength\": 0}, \"hovertemplate\": \"username=LA Metro<br>date=%{x}<br>replies=%{y}\", \"legendgroup\": \"username=LA Metro\", \"marker\": {\"color\": \"#EF553B\", \"symbol\": \"circle\"}, \"mode\": \"markers\", \"name\": \"username=LA Metro\", \"showlegend\": true, \"type\": \"scatter\", \"x\": [\"2014-04-01T18:32:47\", \"2012-10-24T17:51:30\", \"2017-12-13T23:15:15\", \"2017-08-02T15:41:48\", \"2017-06-05T04:10:05\", \"2017-06-03T15:15:18\", \"2017-06-03T05:30:16\", \"2017-06-01T20:16:01\", \"2011-08-10T16:43:16\", \"2016-04-22T19:30:17\", \"2013-11-05T17:15:22\", \"2013-10-04T16:18:21\", \"2013-09-11T22:03:20\", \"2013-08-12T18:14:31\", \"2013-05-28T17:37:40\", \"2013-05-22T17:22:14\", \"2013-04-17T21:54:17\", \"2015-03-30T19:00:15\", \"2014-10-06T15:34:18\", \"2014-09-26T20:12:40\", \"2012-01-23T18:06:21\", \"2012-01-09T18:47:24\", \"2011-12-22T19:36:45\", \"2019-04-19T02:00:35\", \"2019-04-11T21:45:15\", \"2017-01-25T20:42:50\", \"2017-01-18T16:56:18\", \"2016-12-07T07:30:17\", \"2016-11-21T21:00:30\", \"2016-11-01T21:42:35\", \"2016-11-01T21:11:30\", \"2016-11-01T16:37:12\", \"2016-11-01T07:15:09\", \"2015-11-10T09:00:13\", \"2015-11-07T03:30:06\", \"2015-10-27T18:00:09\", \"2015-04-29T19:13:14\", \"2020-01-22T18:32:35\", \"2019-09-11T02:15:03\", \"2019-08-01T17:20:15\", \"2019-07-29T17:20:12\", \"2019-07-26T19:20:07\"], \"xaxis\": \"x\", \"y\": [2, 0, 1, 1, 3, 1, 0, 5, 0, 0, 0, 0, 0, 0, 0, 0, 0, 0, 0, 0, 0, 0, 0, 15, 3, 4, 2, 0, 0, 0, 1, 0, 0, 0, 0, 0, 0, 9, 7, 0, 1, 0], \"yaxis\": \"y\"}, {\"hoverlabel\": {\"namelength\": 0}, \"hovertemplate\": \"username=City of Los Angeles<br>date=%{x}<br>replies=%{y}\", \"legendgroup\": \"username=City of Los Angeles\", \"marker\": {\"color\": \"#00cc96\", \"symbol\": \"circle\"}, \"mode\": \"markers\", \"name\": \"username=City of Los Angeles\", \"showlegend\": true, \"type\": \"scatter\", \"x\": [\"2019-03-15T22:41:31\", \"2019-11-05T23:13:28\", \"2019-09-05T19:57:02\", \"2018-08-27T21:35:22\", \"2018-06-15T21:24:14\", \"2018-01-24T20:51:27\", \"2017-12-12T21:23:16\", \"2017-10-26T18:55:40\", \"2017-10-25T20:45:07\"], \"xaxis\": \"x\", \"y\": [0, 0, 5, 0, 1, 3, 0, 0, 0], \"yaxis\": \"y\"}, {\"hoverlabel\": {\"namelength\": 0}, \"hovertemplate\": \"username=Los Angeles County Parks & Recreation<br>date=%{x}<br>replies=%{y}\", \"legendgroup\": \"username=Los Angeles County Parks & Recreation\", \"marker\": {\"color\": \"#ab63fa\", \"symbol\": \"circle\"}, \"mode\": \"markers\", \"name\": \"username=Los Angeles County Parks & Recreation\", \"showlegend\": true, \"type\": \"scatter\", \"x\": [\"2019-05-07T19:39:08\", \"2014-11-04T21:13:08\", \"2014-08-30T18:24:08\", \"2014-08-11T14:24:10\"], \"xaxis\": \"x\", \"y\": [0, 0, 0, 0], \"yaxis\": \"y\"}, {\"hoverlabel\": {\"namelength\": 0}, \"hovertemplate\": \"username=Los Angeles City Planning<br>date=%{x}<br>replies=%{y}\", \"legendgroup\": \"username=Los Angeles City Planning\", \"marker\": {\"color\": \"#FFA15A\", \"symbol\": \"circle\"}, \"mode\": \"markers\", \"name\": \"username=Los Angeles City Planning\", \"showlegend\": true, \"type\": \"scatter\", \"x\": [\"2018-08-20T22:00:01\", \"2019-04-19T17:15:00\", \"2019-02-15T19:30:55\", \"2018-11-30T02:05:00\", \"2020-03-02T20:28:31\", \"2020-02-13T02:08:18\", \"2019-08-07T18:32:55\", \"2019-07-30T17:39:15\"], \"xaxis\": \"x\", \"y\": [0, 0, 0, 0, 0, 1, 0, 2], \"yaxis\": \"y\"}, {\"hoverlabel\": {\"namelength\": 0}, \"hovertemplate\": \"username=Port of Los Angeles<br>date=%{x}<br>replies=%{y}\", \"legendgroup\": \"username=Port of Los Angeles\", \"marker\": {\"color\": \"#19d3f3\", \"symbol\": \"circle\"}, \"mode\": \"markers\", \"name\": \"username=Port of Los Angeles\", \"showlegend\": true, \"type\": \"scatter\", \"x\": [\"2019-11-21T23:26:30\"], \"xaxis\": \"x\", \"y\": [0], \"yaxis\": \"y\"}],\n",
       "                        {\"height\": 600, \"legend\": {\"tracegroupgap\": 0}, \"margin\": {\"t\": 60}, \"template\": {\"data\": {\"bar\": [{\"error_x\": {\"color\": \"#2a3f5f\"}, \"error_y\": {\"color\": \"#2a3f5f\"}, \"marker\": {\"line\": {\"color\": \"#E5ECF6\", \"width\": 0.5}}, \"type\": \"bar\"}], \"barpolar\": [{\"marker\": {\"line\": {\"color\": \"#E5ECF6\", \"width\": 0.5}}, \"type\": \"barpolar\"}], \"carpet\": [{\"aaxis\": {\"endlinecolor\": \"#2a3f5f\", \"gridcolor\": \"white\", \"linecolor\": \"white\", \"minorgridcolor\": \"white\", \"startlinecolor\": \"#2a3f5f\"}, \"baxis\": {\"endlinecolor\": \"#2a3f5f\", \"gridcolor\": \"white\", \"linecolor\": \"white\", \"minorgridcolor\": \"white\", \"startlinecolor\": \"#2a3f5f\"}, \"type\": \"carpet\"}], \"choropleth\": [{\"colorbar\": {\"outlinewidth\": 0, \"ticks\": \"\"}, \"type\": \"choropleth\"}], \"contour\": [{\"colorbar\": {\"outlinewidth\": 0, \"ticks\": \"\"}, \"colorscale\": [[0.0, \"#0d0887\"], [0.1111111111111111, \"#46039f\"], [0.2222222222222222, \"#7201a8\"], [0.3333333333333333, \"#9c179e\"], [0.4444444444444444, \"#bd3786\"], [0.5555555555555556, \"#d8576b\"], [0.6666666666666666, \"#ed7953\"], [0.7777777777777778, \"#fb9f3a\"], [0.8888888888888888, \"#fdca26\"], [1.0, \"#f0f921\"]], \"type\": \"contour\"}], \"contourcarpet\": [{\"colorbar\": {\"outlinewidth\": 0, \"ticks\": \"\"}, \"type\": \"contourcarpet\"}], \"heatmap\": [{\"colorbar\": {\"outlinewidth\": 0, \"ticks\": \"\"}, \"colorscale\": [[0.0, \"#0d0887\"], [0.1111111111111111, \"#46039f\"], [0.2222222222222222, \"#7201a8\"], [0.3333333333333333, \"#9c179e\"], [0.4444444444444444, \"#bd3786\"], [0.5555555555555556, \"#d8576b\"], [0.6666666666666666, \"#ed7953\"], [0.7777777777777778, \"#fb9f3a\"], [0.8888888888888888, \"#fdca26\"], [1.0, \"#f0f921\"]], \"type\": \"heatmap\"}], \"heatmapgl\": [{\"colorbar\": {\"outlinewidth\": 0, \"ticks\": \"\"}, \"colorscale\": [[0.0, \"#0d0887\"], [0.1111111111111111, \"#46039f\"], [0.2222222222222222, \"#7201a8\"], [0.3333333333333333, \"#9c179e\"], [0.4444444444444444, \"#bd3786\"], [0.5555555555555556, \"#d8576b\"], [0.6666666666666666, \"#ed7953\"], [0.7777777777777778, \"#fb9f3a\"], [0.8888888888888888, \"#fdca26\"], [1.0, \"#f0f921\"]], \"type\": \"heatmapgl\"}], \"histogram\": [{\"marker\": {\"colorbar\": {\"outlinewidth\": 0, \"ticks\": \"\"}}, \"type\": \"histogram\"}], \"histogram2d\": [{\"colorbar\": {\"outlinewidth\": 0, \"ticks\": \"\"}, \"colorscale\": [[0.0, \"#0d0887\"], [0.1111111111111111, \"#46039f\"], [0.2222222222222222, \"#7201a8\"], [0.3333333333333333, \"#9c179e\"], [0.4444444444444444, \"#bd3786\"], [0.5555555555555556, \"#d8576b\"], [0.6666666666666666, \"#ed7953\"], [0.7777777777777778, \"#fb9f3a\"], [0.8888888888888888, \"#fdca26\"], [1.0, \"#f0f921\"]], \"type\": \"histogram2d\"}], \"histogram2dcontour\": [{\"colorbar\": {\"outlinewidth\": 0, \"ticks\": \"\"}, \"colorscale\": [[0.0, \"#0d0887\"], [0.1111111111111111, \"#46039f\"], [0.2222222222222222, \"#7201a8\"], [0.3333333333333333, \"#9c179e\"], [0.4444444444444444, \"#bd3786\"], [0.5555555555555556, \"#d8576b\"], [0.6666666666666666, \"#ed7953\"], [0.7777777777777778, \"#fb9f3a\"], [0.8888888888888888, \"#fdca26\"], [1.0, \"#f0f921\"]], \"type\": \"histogram2dcontour\"}], \"mesh3d\": [{\"colorbar\": {\"outlinewidth\": 0, \"ticks\": \"\"}, \"type\": \"mesh3d\"}], \"parcoords\": [{\"line\": {\"colorbar\": {\"outlinewidth\": 0, \"ticks\": \"\"}}, \"type\": \"parcoords\"}], \"scatter\": [{\"marker\": {\"colorbar\": {\"outlinewidth\": 0, \"ticks\": \"\"}}, \"type\": \"scatter\"}], \"scatter3d\": [{\"line\": {\"colorbar\": {\"outlinewidth\": 0, \"ticks\": \"\"}}, \"marker\": {\"colorbar\": {\"outlinewidth\": 0, \"ticks\": \"\"}}, \"type\": \"scatter3d\"}], \"scattercarpet\": [{\"marker\": {\"colorbar\": {\"outlinewidth\": 0, \"ticks\": \"\"}}, \"type\": \"scattercarpet\"}], \"scattergeo\": [{\"marker\": {\"colorbar\": {\"outlinewidth\": 0, \"ticks\": \"\"}}, \"type\": \"scattergeo\"}], \"scattergl\": [{\"marker\": {\"colorbar\": {\"outlinewidth\": 0, \"ticks\": \"\"}}, \"type\": \"scattergl\"}], \"scattermapbox\": [{\"marker\": {\"colorbar\": {\"outlinewidth\": 0, \"ticks\": \"\"}}, \"type\": \"scattermapbox\"}], \"scatterpolar\": [{\"marker\": {\"colorbar\": {\"outlinewidth\": 0, \"ticks\": \"\"}}, \"type\": \"scatterpolar\"}], \"scatterpolargl\": [{\"marker\": {\"colorbar\": {\"outlinewidth\": 0, \"ticks\": \"\"}}, \"type\": \"scatterpolargl\"}], \"scatterternary\": [{\"marker\": {\"colorbar\": {\"outlinewidth\": 0, \"ticks\": \"\"}}, \"type\": \"scatterternary\"}], \"surface\": [{\"colorbar\": {\"outlinewidth\": 0, \"ticks\": \"\"}, \"colorscale\": [[0.0, \"#0d0887\"], [0.1111111111111111, \"#46039f\"], [0.2222222222222222, \"#7201a8\"], [0.3333333333333333, \"#9c179e\"], [0.4444444444444444, \"#bd3786\"], [0.5555555555555556, \"#d8576b\"], [0.6666666666666666, \"#ed7953\"], [0.7777777777777778, \"#fb9f3a\"], [0.8888888888888888, \"#fdca26\"], [1.0, \"#f0f921\"]], \"type\": \"surface\"}], \"table\": [{\"cells\": {\"fill\": {\"color\": \"#EBF0F8\"}, \"line\": {\"color\": \"white\"}}, \"header\": {\"fill\": {\"color\": \"#C8D4E3\"}, \"line\": {\"color\": \"white\"}}, \"type\": \"table\"}]}, \"layout\": {\"annotationdefaults\": {\"arrowcolor\": \"#2a3f5f\", \"arrowhead\": 0, \"arrowwidth\": 1}, \"colorscale\": {\"diverging\": [[0, \"#8e0152\"], [0.1, \"#c51b7d\"], [0.2, \"#de77ae\"], [0.3, \"#f1b6da\"], [0.4, \"#fde0ef\"], [0.5, \"#f7f7f7\"], [0.6, \"#e6f5d0\"], [0.7, \"#b8e186\"], [0.8, \"#7fbc41\"], [0.9, \"#4d9221\"], [1, \"#276419\"]], \"sequential\": [[0.0, \"#0d0887\"], [0.1111111111111111, \"#46039f\"], [0.2222222222222222, \"#7201a8\"], [0.3333333333333333, \"#9c179e\"], [0.4444444444444444, \"#bd3786\"], [0.5555555555555556, \"#d8576b\"], [0.6666666666666666, \"#ed7953\"], [0.7777777777777778, \"#fb9f3a\"], [0.8888888888888888, \"#fdca26\"], [1.0, \"#f0f921\"]], \"sequentialminus\": [[0.0, \"#0d0887\"], [0.1111111111111111, \"#46039f\"], [0.2222222222222222, \"#7201a8\"], [0.3333333333333333, \"#9c179e\"], [0.4444444444444444, \"#bd3786\"], [0.5555555555555556, \"#d8576b\"], [0.6666666666666666, \"#ed7953\"], [0.7777777777777778, \"#fb9f3a\"], [0.8888888888888888, \"#fdca26\"], [1.0, \"#f0f921\"]]}, \"colorway\": [\"#636efa\", \"#EF553B\", \"#00cc96\", \"#ab63fa\", \"#FFA15A\", \"#19d3f3\", \"#FF6692\", \"#B6E880\", \"#FF97FF\", \"#FECB52\"], \"font\": {\"color\": \"#2a3f5f\"}, \"geo\": {\"bgcolor\": \"white\", \"lakecolor\": \"white\", \"landcolor\": \"#E5ECF6\", \"showlakes\": true, \"showland\": true, \"subunitcolor\": \"white\"}, \"hoverlabel\": {\"align\": \"left\"}, \"hovermode\": \"closest\", \"mapbox\": {\"style\": \"light\"}, \"paper_bgcolor\": \"white\", \"plot_bgcolor\": \"#E5ECF6\", \"polar\": {\"angularaxis\": {\"gridcolor\": \"white\", \"linecolor\": \"white\", \"ticks\": \"\"}, \"bgcolor\": \"#E5ECF6\", \"radialaxis\": {\"gridcolor\": \"white\", \"linecolor\": \"white\", \"ticks\": \"\"}}, \"scene\": {\"xaxis\": {\"backgroundcolor\": \"#E5ECF6\", \"gridcolor\": \"white\", \"gridwidth\": 2, \"linecolor\": \"white\", \"showbackground\": true, \"ticks\": \"\", \"zerolinecolor\": \"white\"}, \"yaxis\": {\"backgroundcolor\": \"#E5ECF6\", \"gridcolor\": \"white\", \"gridwidth\": 2, \"linecolor\": \"white\", \"showbackground\": true, \"ticks\": \"\", \"zerolinecolor\": \"white\"}, \"zaxis\": {\"backgroundcolor\": \"#E5ECF6\", \"gridcolor\": \"white\", \"gridwidth\": 2, \"linecolor\": \"white\", \"showbackground\": true, \"ticks\": \"\", \"zerolinecolor\": \"white\"}}, \"shapedefaults\": {\"line\": {\"color\": \"#2a3f5f\"}}, \"ternary\": {\"aaxis\": {\"gridcolor\": \"white\", \"linecolor\": \"white\", \"ticks\": \"\"}, \"baxis\": {\"gridcolor\": \"white\", \"linecolor\": \"white\", \"ticks\": \"\"}, \"bgcolor\": \"#E5ECF6\", \"caxis\": {\"gridcolor\": \"white\", \"linecolor\": \"white\", \"ticks\": \"\"}}, \"title\": {\"x\": 0.05}, \"xaxis\": {\"automargin\": true, \"gridcolor\": \"white\", \"linecolor\": \"white\", \"ticks\": \"\", \"zerolinecolor\": \"white\", \"zerolinewidth\": 2}, \"yaxis\": {\"automargin\": true, \"gridcolor\": \"white\", \"linecolor\": \"white\", \"ticks\": \"\", \"zerolinecolor\": \"white\", \"zerolinewidth\": 2}}}, \"xaxis\": {\"anchor\": \"y\", \"domain\": [0.0, 0.98], \"title\": {\"text\": \"date\"}}, \"yaxis\": {\"anchor\": \"x\", \"domain\": [0.0, 1.0], \"title\": {\"text\": \"replies\"}}},\n",
       "                        {\"responsive\": true}\n",
       "                    ).then(function(){\n",
       "                            \n",
       "var gd = document.getElementById('bd1570db-0a07-43bb-b086-3d1356468c63');\n",
       "var x = new MutationObserver(function (mutations, observer) {{\n",
       "        var display = window.getComputedStyle(gd).display;\n",
       "        if (!display || display === 'none') {{\n",
       "            console.log([gd, 'removed!']);\n",
       "            Plotly.purge(gd);\n",
       "            observer.disconnect();\n",
       "        }}\n",
       "}});\n",
       "\n",
       "// Listen for the removal of the full notebook cells\n",
       "var notebookContainer = gd.closest('#notebook-container');\n",
       "if (notebookContainer) {{\n",
       "    x.observe(notebookContainer, {childList: true});\n",
       "}}\n",
       "\n",
       "// Listen for the clearing of the current output cell\n",
       "var outputEl = gd.closest('.output');\n",
       "if (outputEl) {{\n",
       "    x.observe(outputEl, {childList: true});\n",
       "}}\n",
       "\n",
       "                        })\n",
       "                };\n",
       "                });\n",
       "            </script>\n",
       "        </div>"
      ]
     },
     "metadata": {},
     "output_type": "display_data"
    }
   ],
   "source": [
    "fig = px.scatter(la_tweets, x='date', y = 'replies', color=\"username\")\n",
    "fig.show()"
   ]
  },
  {
   "cell_type": "code",
   "execution_count": null,
   "metadata": {},
   "outputs": [],
   "source": []
  }
 ],
 "metadata": {
  "kernelspec": {
   "display_name": "Python 3",
   "language": "python",
   "name": "python3"
  },
  "language_info": {
   "codemirror_mode": {
    "name": "ipython",
    "version": 3
   },
   "file_extension": ".py",
   "mimetype": "text/x-python",
   "name": "python",
   "nbconvert_exporter": "python",
   "pygments_lexer": "ipython3",
   "version": "3.6.9"
  }
 },
 "nbformat": 4,
 "nbformat_minor": 2
}
