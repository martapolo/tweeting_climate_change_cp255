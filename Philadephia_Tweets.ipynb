{
 "cells": [
  {
   "cell_type": "code",
   "execution_count": 2,
   "metadata": {},
   "outputs": [],
   "source": [
    "import numpy as np\n",
    "import pandas as pd\n",
    "import matplotlib.pyplot as plt\n",
    "import matplotlib as mpl\n",
    "import json      # library for working with JSON-formatted text strings\n",
    "import pprint as pp    # library for cleanly printing Python data structures\n",
    "import seaborn as sns\n",
    "from datetime import datetime"
   ]
  },
  {
   "cell_type": "markdown",
   "metadata": {},
   "source": [
    "This notebook loads in the Philadelphia Twitter Data from twitterscraper. We searched only for \"climate change.\" The selected Twitter accounts are below; however several did not have any tweets that mention climate change. We selected Philadelphia because it has not declared a climate emergency. Additionally, given how little climate change is tweeted about, we decided to scrape all tweets (no matter the timeframe).   \n",
    "\n",
    "https://github.com/taspinar/twitterscraper/blob/master/README.rst\n",
    "\n",
    "**@PhiladelphiaGov**\n",
    "twitterscraper \"climate change from:PhiladelphiaGov\" --lang eng -o phila_gov_tweets.json\n",
    "\n",
    "**@SEPTA (0 Tweets)**\n",
    "twitterscraper \"climate change from:SEPTA\" --lang eng -o phila_sep_tweets.json\n",
    "\n",
    "**@PhilaParkandRec** \n",
    "twitterscraper \"climate change from:PhilaParkandRec\" --lang eng -o phila_park_tweets.json\n",
    "\n",
    "**@PhilaHsgAuthPHA (0 Tweets)**\n",
    "twitterscraper \"climate change from:PhilaHsgAuthPHA\" --lang eng -o PhilaHsgAuthPHA.json\n",
    "\n",
    "**@PhilaOEM (0 Tweets)**\n",
    "twitterscraper \"climate change from:PhilaOEM\" --lang eng -o phila_oem.json\n"
   ]
  },
  {
   "cell_type": "code",
   "execution_count": 3,
   "metadata": {},
   "outputs": [],
   "source": [
    "def json_to_df_tweets (csv_file):\n",
    "    with open(csv_file) as f:\n",
    "      data = json.load(f)\n",
    "    \n",
    "    d = {'username': [x['username'] for x in data],\n",
    "        'time': [x['timestamp'] for x in data],\n",
    "        'tweet': [x['text'] for x in data],\n",
    "        'likes': [x['likes'] for x in data],\n",
    "        'replies': [x['replies'] for x in data]\n",
    "        }\n",
    "    \n",
    "    df_Test = pd.DataFrame.from_dict(d)\n",
    "    \n",
    "    return df_Test"
   ]
  },
  {
   "cell_type": "code",
   "execution_count": 4,
   "metadata": {},
   "outputs": [],
   "source": [
    "#The files are obtained using twitterscraper; only two agencies actually tweeted \"climate change\"\n",
    "philadelphiagov_tweets = json_to_df_tweets ('phila_gov_tweets.json')\n",
    "philapark_tweets = json_to_df_tweets ('phila_park_tweets.json')"
   ]
  },
  {
   "cell_type": "code",
   "execution_count": 5,
   "metadata": {},
   "outputs": [],
   "source": [
    "def combine_dataframe (df1, df2): #this function puts all the dataframes into one using .append()\n",
    "    d1 = df1.append(df2)\n",
    "    return d1.drop_duplicates(subset='tweet', keep=\"first\") #the scraper picked up retweets, this rectifies that"
   ]
  },
  {
   "cell_type": "code",
   "execution_count": 6,
   "metadata": {},
   "outputs": [
    {
     "data": {
      "text/html": [
       "<div>\n",
       "<style scoped>\n",
       "    .dataframe tbody tr th:only-of-type {\n",
       "        vertical-align: middle;\n",
       "    }\n",
       "\n",
       "    .dataframe tbody tr th {\n",
       "        vertical-align: top;\n",
       "    }\n",
       "\n",
       "    .dataframe thead th {\n",
       "        text-align: right;\n",
       "    }\n",
       "</style>\n",
       "<table border=\"1\" class=\"dataframe\">\n",
       "  <thead>\n",
       "    <tr style=\"text-align: right;\">\n",
       "      <th></th>\n",
       "      <th>username</th>\n",
       "      <th>time</th>\n",
       "      <th>tweet</th>\n",
       "      <th>likes</th>\n",
       "      <th>replies</th>\n",
       "    </tr>\n",
       "  </thead>\n",
       "  <tbody>\n",
       "    <tr>\n",
       "      <th>0</th>\n",
       "      <td>City of Philadelphia</td>\n",
       "      <td>2015-08-25T17:02:57</td>\n",
       "      <td>Philadelphia, Los Angeles, Houston Mayors laun...</td>\n",
       "      <td>0</td>\n",
       "      <td>0</td>\n",
       "    </tr>\n",
       "    <tr>\n",
       "      <th>2</th>\n",
       "      <td>City of Philadelphia</td>\n",
       "      <td>2016-12-07T17:30:17</td>\n",
       "      <td>ICYMI: @PhillyMayor joined an open letter urgi...</td>\n",
       "      <td>5</td>\n",
       "      <td>1</td>\n",
       "    </tr>\n",
       "    <tr>\n",
       "      <th>4</th>\n",
       "      <td>City of Philadelphia</td>\n",
       "      <td>2014-02-05T21:34:18</td>\n",
       "      <td>Mayor Nutter has been in South Africa this wee...</td>\n",
       "      <td>2</td>\n",
       "      <td>0</td>\n",
       "    </tr>\n",
       "    <tr>\n",
       "      <th>5</th>\n",
       "      <td>City of Philadelphia</td>\n",
       "      <td>2014-02-05T15:06:11</td>\n",
       "      <td>Mayor @Michael_Nutter at @c40cities, \"Climate ...</td>\n",
       "      <td>2</td>\n",
       "      <td>1</td>\n",
       "    </tr>\n",
       "    <tr>\n",
       "      <th>8</th>\n",
       "      <td>City of Philadelphia</td>\n",
       "      <td>2018-10-30T15:00:49</td>\n",
       "      <td>\"Philadelphia has been announced as a winner o...</td>\n",
       "      <td>21</td>\n",
       "      <td>2</td>\n",
       "    </tr>\n",
       "    <tr>\n",
       "      <th>9</th>\n",
       "      <td>City of Philadelphia</td>\n",
       "      <td>2018-10-22T22:00:39</td>\n",
       "      <td>How is action on climate change and sustainabi...</td>\n",
       "      <td>5</td>\n",
       "      <td>0</td>\n",
       "    </tr>\n",
       "    <tr>\n",
       "      <th>12</th>\n",
       "      <td>City of Philadelphia</td>\n",
       "      <td>2018-08-31T19:46:41</td>\n",
       "      <td>Philly is the cradle of liberty. We’re staying...</td>\n",
       "      <td>5</td>\n",
       "      <td>0</td>\n",
       "    </tr>\n",
       "    <tr>\n",
       "      <th>13</th>\n",
       "      <td>City of Philadelphia</td>\n",
       "      <td>2018-08-16T18:30:11</td>\n",
       "      <td>Did you know that Philadelphia hosts content, ...</td>\n",
       "      <td>24</td>\n",
       "      <td>1</td>\n",
       "    </tr>\n",
       "    <tr>\n",
       "      <th>14</th>\n",
       "      <td>City of Philadelphia</td>\n",
       "      <td>2018-08-06T23:30:05</td>\n",
       "      <td>Climate change is real. We're getting more rai...</td>\n",
       "      <td>245</td>\n",
       "      <td>15</td>\n",
       "    </tr>\n",
       "    <tr>\n",
       "      <th>18</th>\n",
       "      <td>City of Philadelphia</td>\n",
       "      <td>2018-01-09T19:00:15</td>\n",
       "      <td>Climate change is real. Philadelphia has commi...</td>\n",
       "      <td>28</td>\n",
       "      <td>1</td>\n",
       "    </tr>\n",
       "    <tr>\n",
       "      <th>19</th>\n",
       "      <td>City of Philadelphia</td>\n",
       "      <td>2017-12-20T17:00:56</td>\n",
       "      <td>No matter what happens in Washington, Philadel...</td>\n",
       "      <td>36</td>\n",
       "      <td>2</td>\n",
       "    </tr>\n",
       "    <tr>\n",
       "      <th>20</th>\n",
       "      <td>City of Philadelphia</td>\n",
       "      <td>2017-07-06T19:30:10</td>\n",
       "      <td>Climate change is real and Philadelphia is pre...</td>\n",
       "      <td>17</td>\n",
       "      <td>0</td>\n",
       "    </tr>\n",
       "    <tr>\n",
       "      <th>21</th>\n",
       "      <td>City of Philadelphia</td>\n",
       "      <td>2017-06-28T14:25:16</td>\n",
       "      <td>The City is now hosting content, including inf...</td>\n",
       "      <td>68</td>\n",
       "      <td>3</td>\n",
       "    </tr>\n",
       "    <tr>\n",
       "      <th>22</th>\n",
       "      <td>City of Philadelphia</td>\n",
       "      <td>2017-06-01T20:39:10</td>\n",
       "      <td>Despite White House decision to leave Paris Ac...</td>\n",
       "      <td>244</td>\n",
       "      <td>7</td>\n",
       "    </tr>\n",
       "    <tr>\n",
       "      <th>28</th>\n",
       "      <td>City of Philadelphia</td>\n",
       "      <td>2019-12-31T15:25:03</td>\n",
       "      <td>Experts say that carbon emissions need to be d...</td>\n",
       "      <td>14</td>\n",
       "      <td>0</td>\n",
       "    </tr>\n",
       "    <tr>\n",
       "      <th>29</th>\n",
       "      <td>City of Philadelphia</td>\n",
       "      <td>2019-10-26T21:10:05</td>\n",
       "      <td>By 2020, 22% of the electricity used in city b...</td>\n",
       "      <td>38</td>\n",
       "      <td>1</td>\n",
       "    </tr>\n",
       "    <tr>\n",
       "      <th>30</th>\n",
       "      <td>City of Philadelphia</td>\n",
       "      <td>2019-10-23T15:30:29</td>\n",
       "      <td>As a leader in the fight against climate chang...</td>\n",
       "      <td>10</td>\n",
       "      <td>2</td>\n",
       "    </tr>\n",
       "    <tr>\n",
       "      <th>31</th>\n",
       "      <td>City of Philadelphia</td>\n",
       "      <td>2019-10-15T17:35:05</td>\n",
       "      <td>Are you ready to join us in the fight against ...</td>\n",
       "      <td>5</td>\n",
       "      <td>0</td>\n",
       "    </tr>\n",
       "    <tr>\n",
       "      <th>32</th>\n",
       "      <td>City of Philadelphia</td>\n",
       "      <td>2019-10-10T23:00:33</td>\n",
       "      <td>Check out what @PhillyMayor's climate change s...</td>\n",
       "      <td>11</td>\n",
       "      <td>0</td>\n",
       "    </tr>\n",
       "    <tr>\n",
       "      <th>33</th>\n",
       "      <td>City of Philadelphia</td>\n",
       "      <td>2019-10-08T15:15:07</td>\n",
       "      <td>Is your organization looking to step-up in the...</td>\n",
       "      <td>10</td>\n",
       "      <td>1</td>\n",
       "    </tr>\n",
       "    <tr>\n",
       "      <th>0</th>\n",
       "      <td>Philadelphia Parks &amp; Recreation</td>\n",
       "      <td>2016-07-12T16:15:14</td>\n",
       "      <td>How is #climatechange impacting the local land...</td>\n",
       "      <td>4</td>\n",
       "      <td>0</td>\n",
       "    </tr>\n",
       "  </tbody>\n",
       "</table>\n",
       "</div>"
      ],
      "text/plain": [
       "                           username                 time  \\\n",
       "0              City of Philadelphia  2015-08-25T17:02:57   \n",
       "2              City of Philadelphia  2016-12-07T17:30:17   \n",
       "4              City of Philadelphia  2014-02-05T21:34:18   \n",
       "5              City of Philadelphia  2014-02-05T15:06:11   \n",
       "8              City of Philadelphia  2018-10-30T15:00:49   \n",
       "9              City of Philadelphia  2018-10-22T22:00:39   \n",
       "12             City of Philadelphia  2018-08-31T19:46:41   \n",
       "13             City of Philadelphia  2018-08-16T18:30:11   \n",
       "14             City of Philadelphia  2018-08-06T23:30:05   \n",
       "18             City of Philadelphia  2018-01-09T19:00:15   \n",
       "19             City of Philadelphia  2017-12-20T17:00:56   \n",
       "20             City of Philadelphia  2017-07-06T19:30:10   \n",
       "21             City of Philadelphia  2017-06-28T14:25:16   \n",
       "22             City of Philadelphia  2017-06-01T20:39:10   \n",
       "28             City of Philadelphia  2019-12-31T15:25:03   \n",
       "29             City of Philadelphia  2019-10-26T21:10:05   \n",
       "30             City of Philadelphia  2019-10-23T15:30:29   \n",
       "31             City of Philadelphia  2019-10-15T17:35:05   \n",
       "32             City of Philadelphia  2019-10-10T23:00:33   \n",
       "33             City of Philadelphia  2019-10-08T15:15:07   \n",
       "0   Philadelphia Parks & Recreation  2016-07-12T16:15:14   \n",
       "\n",
       "                                                tweet  likes  replies  \n",
       "0   Philadelphia, Los Angeles, Houston Mayors laun...      0        0  \n",
       "2   ICYMI: @PhillyMayor joined an open letter urgi...      5        1  \n",
       "4   Mayor Nutter has been in South Africa this wee...      2        0  \n",
       "5   Mayor @Michael_Nutter at @c40cities, \"Climate ...      2        1  \n",
       "8   \"Philadelphia has been announced as a winner o...     21        2  \n",
       "9   How is action on climate change and sustainabi...      5        0  \n",
       "12  Philly is the cradle of liberty. We’re staying...      5        0  \n",
       "13  Did you know that Philadelphia hosts content, ...     24        1  \n",
       "14  Climate change is real. We're getting more rai...    245       15  \n",
       "18  Climate change is real. Philadelphia has commi...     28        1  \n",
       "19  No matter what happens in Washington, Philadel...     36        2  \n",
       "20  Climate change is real and Philadelphia is pre...     17        0  \n",
       "21  The City is now hosting content, including inf...     68        3  \n",
       "22  Despite White House decision to leave Paris Ac...    244        7  \n",
       "28  Experts say that carbon emissions need to be d...     14        0  \n",
       "29  By 2020, 22% of the electricity used in city b...     38        1  \n",
       "30  As a leader in the fight against climate chang...     10        2  \n",
       "31  Are you ready to join us in the fight against ...      5        0  \n",
       "32  Check out what @PhillyMayor's climate change s...     11        0  \n",
       "33  Is your organization looking to step-up in the...     10        1  \n",
       "0   How is #climatechange impacting the local land...      4        0  "
      ]
     },
     "execution_count": 6,
     "metadata": {},
     "output_type": "execute_result"
    }
   ],
   "source": [
    "phila_tweets = combine_dataframe(philadelphiagov_tweets, philapark_tweets) \n",
    "phila_tweets"
   ]
  },
  {
   "cell_type": "markdown",
   "metadata": {},
   "source": [
    "These are all the tweets that mention climate change from Philadelphia. "
   ]
  },
  {
   "cell_type": "code",
   "execution_count": 7,
   "metadata": {},
   "outputs": [
    {
     "data": {
      "image/png": "[encoded data removed]",
      "text/plain": [
       "<Figure size 432x288 with 1 Axes>"
      ]
     },
     "metadata": {
      "needs_background": "light"
     },
     "output_type": "display_data"
    }
   ],
   "source": [
    "ax = sns.countplot(x='username', data=phila_tweets)\n",
    "plt.show()"
   ]
  },
  {
   "cell_type": "code",
   "execution_count": 8,
   "metadata": {},
   "outputs": [
    {
     "name": "stdout",
     "output_type": "stream",
     "text": [
      "2015-08-25 17:02:57\n",
      "2016-12-07 17:30:17\n",
      "2014-02-05 21:34:18\n",
      "2014-02-05 15:06:11\n",
      "2018-10-30 15:00:49\n",
      "2018-10-22 22:00:39\n",
      "2018-08-31 19:46:41\n",
      "2018-08-16 18:30:11\n",
      "2018-08-06 23:30:05\n",
      "2018-01-09 19:00:15\n",
      "2017-12-20 17:00:56\n",
      "2017-07-06 19:30:10\n",
      "2017-06-28 14:25:16\n",
      "2017-06-01 20:39:10\n",
      "2019-12-31 15:25:03\n",
      "2019-10-26 21:10:05\n",
      "2019-10-23 15:30:29\n",
      "2019-10-15 17:35:05\n",
      "2019-10-10 23:00:33\n",
      "2019-10-08 15:15:07\n",
      "2016-07-12 16:15:14\n"
     ]
    }
   ],
   "source": [
    "for x in phila_tweets['time']:\n",
    "    print (datetime.strptime(x, \"%Y-%m-%dT%H:%M:%S\")) #'%Y-%m-%dT%H::%M::%S.%f'))"
   ]
  },
  {
   "cell_type": "code",
   "execution_count": 9,
   "metadata": {},
   "outputs": [
    {
     "name": "stdout",
     "output_type": "stream",
     "text": [
      "2015-08-25 17:02:57\n",
      "2016-12-07 17:30:17\n",
      "2014-02-05 21:34:18\n",
      "2014-02-05 15:06:11\n",
      "2018-10-30 15:00:49\n",
      "2018-10-22 22:00:39\n",
      "2018-08-31 19:46:41\n",
      "2018-08-16 18:30:11\n",
      "2018-08-06 23:30:05\n",
      "2018-01-09 19:00:15\n",
      "2017-12-20 17:00:56\n",
      "2017-07-06 19:30:10\n",
      "2017-06-28 14:25:16\n",
      "2017-06-01 20:39:10\n",
      "2019-12-31 15:25:03\n",
      "2019-10-26 21:10:05\n",
      "2019-10-23 15:30:29\n",
      "2019-10-15 17:35:05\n",
      "2019-10-10 23:00:33\n",
      "2019-10-08 15:15:07\n",
      "2016-07-12 16:15:14\n"
     ]
    },
    {
     "data": {
      "text/html": [
       "<div>\n",
       "<style scoped>\n",
       "    .dataframe tbody tr th:only-of-type {\n",
       "        vertical-align: middle;\n",
       "    }\n",
       "\n",
       "    .dataframe tbody tr th {\n",
       "        vertical-align: top;\n",
       "    }\n",
       "\n",
       "    .dataframe thead th {\n",
       "        text-align: right;\n",
       "    }\n",
       "</style>\n",
       "<table border=\"1\" class=\"dataframe\">\n",
       "  <thead>\n",
       "    <tr style=\"text-align: right;\">\n",
       "      <th></th>\n",
       "      <th>username</th>\n",
       "      <th>time</th>\n",
       "      <th>tweet</th>\n",
       "      <th>likes</th>\n",
       "      <th>replies</th>\n",
       "      <th>date</th>\n",
       "    </tr>\n",
       "  </thead>\n",
       "  <tbody>\n",
       "    <tr>\n",
       "      <th>0</th>\n",
       "      <td>City of Philadelphia</td>\n",
       "      <td>2015-08-25T17:02:57</td>\n",
       "      <td>Philadelphia, Los Angeles, Houston Mayors laun...</td>\n",
       "      <td>0</td>\n",
       "      <td>0</td>\n",
       "      <td>2015-08-25 17:02:57</td>\n",
       "    </tr>\n",
       "    <tr>\n",
       "      <th>2</th>\n",
       "      <td>City of Philadelphia</td>\n",
       "      <td>2016-12-07T17:30:17</td>\n",
       "      <td>ICYMI: @PhillyMayor joined an open letter urgi...</td>\n",
       "      <td>5</td>\n",
       "      <td>1</td>\n",
       "      <td>2016-12-07 17:30:17</td>\n",
       "    </tr>\n",
       "    <tr>\n",
       "      <th>4</th>\n",
       "      <td>City of Philadelphia</td>\n",
       "      <td>2014-02-05T21:34:18</td>\n",
       "      <td>Mayor Nutter has been in South Africa this wee...</td>\n",
       "      <td>2</td>\n",
       "      <td>0</td>\n",
       "      <td>2014-02-05 21:34:18</td>\n",
       "    </tr>\n",
       "    <tr>\n",
       "      <th>5</th>\n",
       "      <td>City of Philadelphia</td>\n",
       "      <td>2014-02-05T15:06:11</td>\n",
       "      <td>Mayor @Michael_Nutter at @c40cities, \"Climate ...</td>\n",
       "      <td>2</td>\n",
       "      <td>1</td>\n",
       "      <td>2014-02-05 15:06:11</td>\n",
       "    </tr>\n",
       "    <tr>\n",
       "      <th>8</th>\n",
       "      <td>City of Philadelphia</td>\n",
       "      <td>2018-10-30T15:00:49</td>\n",
       "      <td>\"Philadelphia has been announced as a winner o...</td>\n",
       "      <td>21</td>\n",
       "      <td>2</td>\n",
       "      <td>2018-10-30 15:00:49</td>\n",
       "    </tr>\n",
       "    <tr>\n",
       "      <th>9</th>\n",
       "      <td>City of Philadelphia</td>\n",
       "      <td>2018-10-22T22:00:39</td>\n",
       "      <td>How is action on climate change and sustainabi...</td>\n",
       "      <td>5</td>\n",
       "      <td>0</td>\n",
       "      <td>2018-10-22 22:00:39</td>\n",
       "    </tr>\n",
       "    <tr>\n",
       "      <th>12</th>\n",
       "      <td>City of Philadelphia</td>\n",
       "      <td>2018-08-31T19:46:41</td>\n",
       "      <td>Philly is the cradle of liberty. We’re staying...</td>\n",
       "      <td>5</td>\n",
       "      <td>0</td>\n",
       "      <td>2018-08-31 19:46:41</td>\n",
       "    </tr>\n",
       "    <tr>\n",
       "      <th>13</th>\n",
       "      <td>City of Philadelphia</td>\n",
       "      <td>2018-08-16T18:30:11</td>\n",
       "      <td>Did you know that Philadelphia hosts content, ...</td>\n",
       "      <td>24</td>\n",
       "      <td>1</td>\n",
       "      <td>2018-08-16 18:30:11</td>\n",
       "    </tr>\n",
       "    <tr>\n",
       "      <th>14</th>\n",
       "      <td>City of Philadelphia</td>\n",
       "      <td>2018-08-06T23:30:05</td>\n",
       "      <td>Climate change is real. We're getting more rai...</td>\n",
       "      <td>245</td>\n",
       "      <td>15</td>\n",
       "      <td>2018-08-06 23:30:05</td>\n",
       "    </tr>\n",
       "    <tr>\n",
       "      <th>18</th>\n",
       "      <td>City of Philadelphia</td>\n",
       "      <td>2018-01-09T19:00:15</td>\n",
       "      <td>Climate change is real. Philadelphia has commi...</td>\n",
       "      <td>28</td>\n",
       "      <td>1</td>\n",
       "      <td>2018-01-09 19:00:15</td>\n",
       "    </tr>\n",
       "    <tr>\n",
       "      <th>19</th>\n",
       "      <td>City of Philadelphia</td>\n",
       "      <td>2017-12-20T17:00:56</td>\n",
       "      <td>No matter what happens in Washington, Philadel...</td>\n",
       "      <td>36</td>\n",
       "      <td>2</td>\n",
       "      <td>2017-12-20 17:00:56</td>\n",
       "    </tr>\n",
       "    <tr>\n",
       "      <th>20</th>\n",
       "      <td>City of Philadelphia</td>\n",
       "      <td>2017-07-06T19:30:10</td>\n",
       "      <td>Climate change is real and Philadelphia is pre...</td>\n",
       "      <td>17</td>\n",
       "      <td>0</td>\n",
       "      <td>2017-07-06 19:30:10</td>\n",
       "    </tr>\n",
       "    <tr>\n",
       "      <th>21</th>\n",
       "      <td>City of Philadelphia</td>\n",
       "      <td>2017-06-28T14:25:16</td>\n",
       "      <td>The City is now hosting content, including inf...</td>\n",
       "      <td>68</td>\n",
       "      <td>3</td>\n",
       "      <td>2017-06-28 14:25:16</td>\n",
       "    </tr>\n",
       "    <tr>\n",
       "      <th>22</th>\n",
       "      <td>City of Philadelphia</td>\n",
       "      <td>2017-06-01T20:39:10</td>\n",
       "      <td>Despite White House decision to leave Paris Ac...</td>\n",
       "      <td>244</td>\n",
       "      <td>7</td>\n",
       "      <td>2017-06-01 20:39:10</td>\n",
       "    </tr>\n",
       "    <tr>\n",
       "      <th>28</th>\n",
       "      <td>City of Philadelphia</td>\n",
       "      <td>2019-12-31T15:25:03</td>\n",
       "      <td>Experts say that carbon emissions need to be d...</td>\n",
       "      <td>14</td>\n",
       "      <td>0</td>\n",
       "      <td>2019-12-31 15:25:03</td>\n",
       "    </tr>\n",
       "    <tr>\n",
       "      <th>29</th>\n",
       "      <td>City of Philadelphia</td>\n",
       "      <td>2019-10-26T21:10:05</td>\n",
       "      <td>By 2020, 22% of the electricity used in city b...</td>\n",
       "      <td>38</td>\n",
       "      <td>1</td>\n",
       "      <td>2019-10-26 21:10:05</td>\n",
       "    </tr>\n",
       "    <tr>\n",
       "      <th>30</th>\n",
       "      <td>City of Philadelphia</td>\n",
       "      <td>2019-10-23T15:30:29</td>\n",
       "      <td>As a leader in the fight against climate chang...</td>\n",
       "      <td>10</td>\n",
       "      <td>2</td>\n",
       "      <td>2019-10-23 15:30:29</td>\n",
       "    </tr>\n",
       "    <tr>\n",
       "      <th>31</th>\n",
       "      <td>City of Philadelphia</td>\n",
       "      <td>2019-10-15T17:35:05</td>\n",
       "      <td>Are you ready to join us in the fight against ...</td>\n",
       "      <td>5</td>\n",
       "      <td>0</td>\n",
       "      <td>2019-10-15 17:35:05</td>\n",
       "    </tr>\n",
       "    <tr>\n",
       "      <th>32</th>\n",
       "      <td>City of Philadelphia</td>\n",
       "      <td>2019-10-10T23:00:33</td>\n",
       "      <td>Check out what @PhillyMayor's climate change s...</td>\n",
       "      <td>11</td>\n",
       "      <td>0</td>\n",
       "      <td>2019-10-10 23:00:33</td>\n",
       "    </tr>\n",
       "    <tr>\n",
       "      <th>33</th>\n",
       "      <td>City of Philadelphia</td>\n",
       "      <td>2019-10-08T15:15:07</td>\n",
       "      <td>Is your organization looking to step-up in the...</td>\n",
       "      <td>10</td>\n",
       "      <td>1</td>\n",
       "      <td>2019-10-08 15:15:07</td>\n",
       "    </tr>\n",
       "    <tr>\n",
       "      <th>0</th>\n",
       "      <td>Philadelphia Parks &amp; Recreation</td>\n",
       "      <td>2016-07-12T16:15:14</td>\n",
       "      <td>How is #climatechange impacting the local land...</td>\n",
       "      <td>4</td>\n",
       "      <td>0</td>\n",
       "      <td>2016-07-12 16:15:14</td>\n",
       "    </tr>\n",
       "  </tbody>\n",
       "</table>\n",
       "</div>"
      ],
      "text/plain": [
       "                           username                 time  \\\n",
       "0              City of Philadelphia  2015-08-25T17:02:57   \n",
       "2              City of Philadelphia  2016-12-07T17:30:17   \n",
       "4              City of Philadelphia  2014-02-05T21:34:18   \n",
       "5              City of Philadelphia  2014-02-05T15:06:11   \n",
       "8              City of Philadelphia  2018-10-30T15:00:49   \n",
       "9              City of Philadelphia  2018-10-22T22:00:39   \n",
       "12             City of Philadelphia  2018-08-31T19:46:41   \n",
       "13             City of Philadelphia  2018-08-16T18:30:11   \n",
       "14             City of Philadelphia  2018-08-06T23:30:05   \n",
       "18             City of Philadelphia  2018-01-09T19:00:15   \n",
       "19             City of Philadelphia  2017-12-20T17:00:56   \n",
       "20             City of Philadelphia  2017-07-06T19:30:10   \n",
       "21             City of Philadelphia  2017-06-28T14:25:16   \n",
       "22             City of Philadelphia  2017-06-01T20:39:10   \n",
       "28             City of Philadelphia  2019-12-31T15:25:03   \n",
       "29             City of Philadelphia  2019-10-26T21:10:05   \n",
       "30             City of Philadelphia  2019-10-23T15:30:29   \n",
       "31             City of Philadelphia  2019-10-15T17:35:05   \n",
       "32             City of Philadelphia  2019-10-10T23:00:33   \n",
       "33             City of Philadelphia  2019-10-08T15:15:07   \n",
       "0   Philadelphia Parks & Recreation  2016-07-12T16:15:14   \n",
       "\n",
       "                                                tweet  likes  replies  \\\n",
       "0   Philadelphia, Los Angeles, Houston Mayors laun...      0        0   \n",
       "2   ICYMI: @PhillyMayor joined an open letter urgi...      5        1   \n",
       "4   Mayor Nutter has been in South Africa this wee...      2        0   \n",
       "5   Mayor @Michael_Nutter at @c40cities, \"Climate ...      2        1   \n",
       "8   \"Philadelphia has been announced as a winner o...     21        2   \n",
       "9   How is action on climate change and sustainabi...      5        0   \n",
       "12  Philly is the cradle of liberty. We’re staying...      5        0   \n",
       "13  Did you know that Philadelphia hosts content, ...     24        1   \n",
       "14  Climate change is real. We're getting more rai...    245       15   \n",
       "18  Climate change is real. Philadelphia has commi...     28        1   \n",
       "19  No matter what happens in Washington, Philadel...     36        2   \n",
       "20  Climate change is real and Philadelphia is pre...     17        0   \n",
       "21  The City is now hosting content, including inf...     68        3   \n",
       "22  Despite White House decision to leave Paris Ac...    244        7   \n",
       "28  Experts say that carbon emissions need to be d...     14        0   \n",
       "29  By 2020, 22% of the electricity used in city b...     38        1   \n",
       "30  As a leader in the fight against climate chang...     10        2   \n",
       "31  Are you ready to join us in the fight against ...      5        0   \n",
       "32  Check out what @PhillyMayor's climate change s...     11        0   \n",
       "33  Is your organization looking to step-up in the...     10        1   \n",
       "0   How is #climatechange impacting the local land...      4        0   \n",
       "\n",
       "                  date  \n",
       "0  2015-08-25 17:02:57  \n",
       "2  2016-12-07 17:30:17  \n",
       "4  2014-02-05 21:34:18  \n",
       "5  2014-02-05 15:06:11  \n",
       "8  2018-10-30 15:00:49  \n",
       "9  2018-10-22 22:00:39  \n",
       "12 2018-08-31 19:46:41  \n",
       "13 2018-08-16 18:30:11  \n",
       "14 2018-08-06 23:30:05  \n",
       "18 2018-01-09 19:00:15  \n",
       "19 2017-12-20 17:00:56  \n",
       "20 2017-07-06 19:30:10  \n",
       "21 2017-06-28 14:25:16  \n",
       "22 2017-06-01 20:39:10  \n",
       "28 2019-12-31 15:25:03  \n",
       "29 2019-10-26 21:10:05  \n",
       "30 2019-10-23 15:30:29  \n",
       "31 2019-10-15 17:35:05  \n",
       "32 2019-10-10 23:00:33  \n",
       "33 2019-10-08 15:15:07  \n",
       "0  2016-07-12 16:15:14  "
      ]
     },
     "execution_count": 9,
     "metadata": {},
     "output_type": "execute_result"
    }
   ],
   "source": [
    "# Generate result using pandas \n",
    "date = [] \n",
    "for x in phila_tweets['time']: \n",
    "    data = datetime.strptime(x, \"%Y-%m-%dT%H:%M:%S\")\n",
    "    print(data)\n",
    "    date.append(data)\n",
    "    \n",
    "phila_tweets[\"date\"] = date   \n",
    "phila_tweets"
   ]
  },
  {
   "cell_type": "code",
   "execution_count": 10,
   "metadata": {},
   "outputs": [
    {
     "data": {
      "image/png": "[encoded data removed]",
      "text/plain": [
       "<Figure size 432x288 with 1 Axes>"
      ]
     },
     "metadata": {
      "needs_background": "light"
     },
     "output_type": "display_data"
    }
   ],
   "source": [
    "ax = sns.scatterplot(x=\"likes\", y=\"replies\", data=phila_tweets)"
   ]
  },
  {
   "cell_type": "code",
   "execution_count": 11,
   "metadata": {},
   "outputs": [],
   "source": [
    "import plotly.express as px"
   ]
  },
  {
   "cell_type": "code",
   "execution_count": 15,
   "metadata": {},
   "outputs": [
    {
     "data": {
      "application/vnd.plotly.v1+json": {
       "config": {
        "plotlyServerURL": "https://plot.ly"
       },
       "data": [
        {
         "hoverlabel": {
          "namelength": 0
         },
         "hovertemplate": "username=City of Philadelphia<br>date=%{x}",
         "legendgroup": "username=City of Philadelphia",
         "marker": {
          "color": "#636efa",
          "symbol": "circle"
         },
         "mode": "markers",
         "name": "username=City of Philadelphia",
         "showlegend": true,
         "type": "scatter",
         "x": [
          "2015-08-25T17:02:57",
          "2016-12-07T17:30:17",
          "2014-02-05T21:34:18",
          "2014-02-05T15:06:11",
          "2018-10-30T15:00:49",
          "2018-10-22T22:00:39",
          "2018-08-31T19:46:41",
          "2018-08-16T18:30:11",
          "2018-08-06T23:30:05",
          "2018-01-09T19:00:15",
          "2017-12-20T17:00:56",
          "2017-07-06T19:30:10",
          "2017-06-28T14:25:16",
          "2017-06-01T20:39:10",
          "2019-12-31T15:25:03",
          "2019-10-26T21:10:05",
          "2019-10-23T15:30:29",
          "2019-10-15T17:35:05",
          "2019-10-10T23:00:33",
          "2019-10-08T15:15:07"
         ],
         "xaxis": "x",
         "yaxis": "y"
        },
        {
         "hoverlabel": {
          "namelength": 0
         },
         "hovertemplate": "username=Philadelphia Parks & Recreation<br>date=%{x}",
         "legendgroup": "username=Philadelphia Parks & Recreation",
         "marker": {
          "color": "#EF553B",
          "symbol": "circle"
         },
         "mode": "markers",
         "name": "username=Philadelphia Parks & Recreation",
         "showlegend": true,
         "type": "scatter",
         "x": [
          "2016-07-12T16:15:14"
         ],
         "xaxis": "x",
         "yaxis": "y"
        }
       ],
       "layout": {
        "height": 600,
        "legend": {
         "tracegroupgap": 0
        },
        "margin": {
         "t": 60
        },
        "template": {
         "data": {
          "bar": [
           {
            "error_x": {
             "color": "#2a3f5f"
            },
            "error_y": {
             "color": "#2a3f5f"
            },
            "marker": {
             "line": {
              "color": "#E5ECF6",
              "width": 0.5
             }
            },
            "type": "bar"
           }
          ],
          "barpolar": [
           {
            "marker": {
             "line": {
              "color": "#E5ECF6",
              "width": 0.5
             }
            },
            "type": "barpolar"
           }
          ],
          "carpet": [
           {
            "aaxis": {
             "endlinecolor": "#2a3f5f",
             "gridcolor": "white",
             "linecolor": "white",
             "minorgridcolor": "white",
             "startlinecolor": "#2a3f5f"
            },
            "baxis": {
             "endlinecolor": "#2a3f5f",
             "gridcolor": "white",
             "linecolor": "white",
             "minorgridcolor": "white",
             "startlinecolor": "#2a3f5f"
            },
            "type": "carpet"
           }
          ],
          "choropleth": [
           {
            "colorbar": {
             "outlinewidth": 0,
             "ticks": ""
            },
            "type": "choropleth"
           }
          ],
          "contour": [
           {
            "colorbar": {
             "outlinewidth": 0,
             "ticks": ""
            },
            "colorscale": [
             [
              0,
              "#0d0887"
             ],
             [
              0.1111111111111111,
              "#46039f"
             ],
             [
              0.2222222222222222,
              "#7201a8"
             ],
             [
              0.3333333333333333,
              "#9c179e"
             ],
             [
              0.4444444444444444,
              "#bd3786"
             ],
             [
              0.5555555555555556,
              "#d8576b"
             ],
             [
              0.6666666666666666,
              "#ed7953"
             ],
             [
              0.7777777777777778,
              "#fb9f3a"
             ],
             [
              0.8888888888888888,
              "#fdca26"
             ],
             [
              1,
              "#f0f921"
             ]
            ],
            "type": "contour"
           }
          ],
          "contourcarpet": [
           {
            "colorbar": {
             "outlinewidth": 0,
             "ticks": ""
            },
            "type": "contourcarpet"
           }
          ],
          "heatmap": [
           {
            "colorbar": {
             "outlinewidth": 0,
             "ticks": ""
            },
            "colorscale": [
             [
              0,
              "#0d0887"
             ],
             [
              0.1111111111111111,
              "#46039f"
             ],
             [
              0.2222222222222222,
              "#7201a8"
             ],
             [
              0.3333333333333333,
              "#9c179e"
             ],
             [
              0.4444444444444444,
              "#bd3786"
             ],
             [
              0.5555555555555556,
              "#d8576b"
             ],
             [
              0.6666666666666666,
              "#ed7953"
             ],
             [
              0.7777777777777778,
              "#fb9f3a"
             ],
             [
              0.8888888888888888,
              "#fdca26"
             ],
             [
              1,
              "#f0f921"
             ]
            ],
            "type": "heatmap"
           }
          ],
          "heatmapgl": [
           {
            "colorbar": {
             "outlinewidth": 0,
             "ticks": ""
            },
            "colorscale": [
             [
              0,
              "#0d0887"
             ],
             [
              0.1111111111111111,
              "#46039f"
             ],
             [
              0.2222222222222222,
              "#7201a8"
             ],
             [
              0.3333333333333333,
              "#9c179e"
             ],
             [
              0.4444444444444444,
              "#bd3786"
             ],
             [
              0.5555555555555556,
              "#d8576b"
             ],
             [
              0.6666666666666666,
              "#ed7953"
             ],
             [
              0.7777777777777778,
              "#fb9f3a"
             ],
             [
              0.8888888888888888,
              "#fdca26"
             ],
             [
              1,
              "#f0f921"
             ]
            ],
            "type": "heatmapgl"
           }
          ],
          "histogram": [
           {
            "marker": {
             "colorbar": {
              "outlinewidth": 0,
              "ticks": ""
             }
            },
            "type": "histogram"
           }
          ],
          "histogram2d": [
           {
            "colorbar": {
             "outlinewidth": 0,
             "ticks": ""
            },
            "colorscale": [
             [
              0,
              "#0d0887"
             ],
             [
              0.1111111111111111,
              "#46039f"
             ],
             [
              0.2222222222222222,
              "#7201a8"
             ],
             [
              0.3333333333333333,
              "#9c179e"
             ],
             [
              0.4444444444444444,
              "#bd3786"
             ],
             [
              0.5555555555555556,
              "#d8576b"
             ],
             [
              0.6666666666666666,
              "#ed7953"
             ],
             [
              0.7777777777777778,
              "#fb9f3a"
             ],
             [
              0.8888888888888888,
              "#fdca26"
             ],
             [
              1,
              "#f0f921"
             ]
            ],
            "type": "histogram2d"
           }
          ],
          "histogram2dcontour": [
           {
            "colorbar": {
             "outlinewidth": 0,
             "ticks": ""
            },
            "colorscale": [
             [
              0,
              "#0d0887"
             ],
             [
              0.1111111111111111,
              "#46039f"
             ],
             [
              0.2222222222222222,
              "#7201a8"
             ],
             [
              0.3333333333333333,
              "#9c179e"
             ],
             [
              0.4444444444444444,
              "#bd3786"
             ],
             [
              0.5555555555555556,
              "#d8576b"
             ],
             [
              0.6666666666666666,
              "#ed7953"
             ],
             [
              0.7777777777777778,
              "#fb9f3a"
             ],
             [
              0.8888888888888888,
              "#fdca26"
             ],
             [
              1,
              "#f0f921"
             ]
            ],
            "type": "histogram2dcontour"
           }
          ],
          "mesh3d": [
           {
            "colorbar": {
             "outlinewidth": 0,
             "ticks": ""
            },
            "type": "mesh3d"
           }
          ],
          "parcoords": [
           {
            "line": {
             "colorbar": {
              "outlinewidth": 0,
              "ticks": ""
             }
            },
            "type": "parcoords"
           }
          ],
          "scatter": [
           {
            "marker": {
             "colorbar": {
              "outlinewidth": 0,
              "ticks": ""
             }
            },
            "type": "scatter"
           }
          ],
          "scatter3d": [
           {
            "line": {
             "colorbar": {
              "outlinewidth": 0,
              "ticks": ""
             }
            },
            "marker": {
             "colorbar": {
              "outlinewidth": 0,
              "ticks": ""
             }
            },
            "type": "scatter3d"
           }
          ],
          "scattercarpet": [
           {
            "marker": {
             "colorbar": {
              "outlinewidth": 0,
              "ticks": ""
             }
            },
            "type": "scattercarpet"
           }
          ],
          "scattergeo": [
           {
            "marker": {
             "colorbar": {
              "outlinewidth": 0,
              "ticks": ""
             }
            },
            "type": "scattergeo"
           }
          ],
          "scattergl": [
           {
            "marker": {
             "colorbar": {
              "outlinewidth": 0,
              "ticks": ""
             }
            },
            "type": "scattergl"
           }
          ],
          "scattermapbox": [
           {
            "marker": {
             "colorbar": {
              "outlinewidth": 0,
              "ticks": ""
             }
            },
            "type": "scattermapbox"
           }
          ],
          "scatterpolar": [
           {
            "marker": {
             "colorbar": {
              "outlinewidth": 0,
              "ticks": ""
             }
            },
            "type": "scatterpolar"
           }
          ],
          "scatterpolargl": [
           {
            "marker": {
             "colorbar": {
              "outlinewidth": 0,
              "ticks": ""
             }
            },
            "type": "scatterpolargl"
           }
          ],
          "scatterternary": [
           {
            "marker": {
             "colorbar": {
              "outlinewidth": 0,
              "ticks": ""
             }
            },
            "type": "scatterternary"
           }
          ],
          "surface": [
           {
            "colorbar": {
             "outlinewidth": 0,
             "ticks": ""
            },
            "colorscale": [
             [
              0,
              "#0d0887"
             ],
             [
              0.1111111111111111,
              "#46039f"
             ],
             [
              0.2222222222222222,
              "#7201a8"
             ],
             [
              0.3333333333333333,
              "#9c179e"
             ],
             [
              0.4444444444444444,
              "#bd3786"
             ],
             [
              0.5555555555555556,
              "#d8576b"
             ],
             [
              0.6666666666666666,
              "#ed7953"
             ],
             [
              0.7777777777777778,
              "#fb9f3a"
             ],
             [
              0.8888888888888888,
              "#fdca26"
             ],
             [
              1,
              "#f0f921"
             ]
            ],
            "type": "surface"
           }
          ],
          "table": [
           {
            "cells": {
             "fill": {
              "color": "#EBF0F8"
             },
             "line": {
              "color": "white"
             }
            },
            "header": {
             "fill": {
              "color": "#C8D4E3"
             },
             "line": {
              "color": "white"
             }
            },
            "type": "table"
           }
          ]
         },
         "layout": {
          "annotationdefaults": {
           "arrowcolor": "#2a3f5f",
           "arrowhead": 0,
           "arrowwidth": 1
          },
          "colorscale": {
           "diverging": [
            [
             0,
             "#8e0152"
            ],
            [
             0.1,
             "#c51b7d"
            ],
            [
             0.2,
             "#de77ae"
            ],
            [
             0.3,
             "#f1b6da"
            ],
            [
             0.4,
             "#fde0ef"
            ],
            [
             0.5,
             "#f7f7f7"
            ],
            [
             0.6,
             "#e6f5d0"
            ],
            [
             0.7,
             "#b8e186"
            ],
            [
             0.8,
             "#7fbc41"
            ],
            [
             0.9,
             "#4d9221"
            ],
            [
             1,
             "#276419"
            ]
           ],
           "sequential": [
            [
             0,
             "#0d0887"
            ],
            [
             0.1111111111111111,
             "#46039f"
            ],
            [
             0.2222222222222222,
             "#7201a8"
            ],
            [
             0.3333333333333333,
             "#9c179e"
            ],
            [
             0.4444444444444444,
             "#bd3786"
            ],
            [
             0.5555555555555556,
             "#d8576b"
            ],
            [
             0.6666666666666666,
             "#ed7953"
            ],
            [
             0.7777777777777778,
             "#fb9f3a"
            ],
            [
             0.8888888888888888,
             "#fdca26"
            ],
            [
             1,
             "#f0f921"
            ]
           ],
           "sequentialminus": [
            [
             0,
             "#0d0887"
            ],
            [
             0.1111111111111111,
             "#46039f"
            ],
            [
             0.2222222222222222,
             "#7201a8"
            ],
            [
             0.3333333333333333,
             "#9c179e"
            ],
            [
             0.4444444444444444,
             "#bd3786"
            ],
            [
             0.5555555555555556,
             "#d8576b"
            ],
            [
             0.6666666666666666,
             "#ed7953"
            ],
            [
             0.7777777777777778,
             "#fb9f3a"
            ],
            [
             0.8888888888888888,
             "#fdca26"
            ],
            [
             1,
             "#f0f921"
            ]
           ]
          },
          "colorway": [
           "#636efa",
           "#EF553B",
           "#00cc96",
           "#ab63fa",
           "#FFA15A",
           "#19d3f3",
           "#FF6692",
           "#B6E880",
           "#FF97FF",
           "#FECB52"
          ],
          "font": {
           "color": "#2a3f5f"
          },
          "geo": {
           "bgcolor": "white",
           "lakecolor": "white",
           "landcolor": "#E5ECF6",
           "showlakes": true,
           "showland": true,
           "subunitcolor": "white"
          },
          "hoverlabel": {
           "align": "left"
          },
          "hovermode": "closest",
          "mapbox": {
           "style": "light"
          },
          "paper_bgcolor": "white",
          "plot_bgcolor": "#E5ECF6",
          "polar": {
           "angularaxis": {
            "gridcolor": "white",
            "linecolor": "white",
            "ticks": ""
           },
           "bgcolor": "#E5ECF6",
           "radialaxis": {
            "gridcolor": "white",
            "linecolor": "white",
            "ticks": ""
           }
          },
          "scene": {
           "xaxis": {
            "backgroundcolor": "#E5ECF6",
            "gridcolor": "white",
            "gridwidth": 2,
            "linecolor": "white",
            "showbackground": true,
            "ticks": "",
            "zerolinecolor": "white"
           },
           "yaxis": {
            "backgroundcolor": "#E5ECF6",
            "gridcolor": "white",
            "gridwidth": 2,
            "linecolor": "white",
            "showbackground": true,
            "ticks": "",
            "zerolinecolor": "white"
           },
           "zaxis": {
            "backgroundcolor": "#E5ECF6",
            "gridcolor": "white",
            "gridwidth": 2,
            "linecolor": "white",
            "showbackground": true,
            "ticks": "",
            "zerolinecolor": "white"
           }
          },
          "shapedefaults": {
           "line": {
            "color": "#2a3f5f"
           }
          },
          "ternary": {
           "aaxis": {
            "gridcolor": "white",
            "linecolor": "white",
            "ticks": ""
           },
           "baxis": {
            "gridcolor": "white",
            "linecolor": "white",
            "ticks": ""
           },
           "bgcolor": "#E5ECF6",
           "caxis": {
            "gridcolor": "white",
            "linecolor": "white",
            "ticks": ""
           }
          },
          "title": {
           "x": 0.05
          },
          "xaxis": {
           "automargin": true,
           "gridcolor": "white",
           "linecolor": "white",
           "ticks": "",
           "zerolinecolor": "white",
           "zerolinewidth": 2
          },
          "yaxis": {
           "automargin": true,
           "gridcolor": "white",
           "linecolor": "white",
           "ticks": "",
           "zerolinecolor": "white",
           "zerolinewidth": 2
          }
         }
        },
        "xaxis": {
         "anchor": "y",
         "domain": [
          0,
          0.98
         ],
         "title": {
          "text": "date"
         }
        },
        "yaxis": {
         "anchor": "x",
         "domain": [
          0,
          1
         ]
        }
       }
      },
      "text/html": [
       "<div>\n",
       "        \n",
       "        \n",
       "            <div id=\"22e4609b-1cda-48e2-a47f-aa6ea04df4ed\" class=\"plotly-graph-div\" style=\"height:600px; width:100%;\"></div>\n",
       "            <script type=\"text/javascript\">\n",
       "                require([\"plotly\"], function(Plotly) {\n",
       "                    window.PLOTLYENV=window.PLOTLYENV || {};\n",
       "                    \n",
       "                if (document.getElementById(\"22e4609b-1cda-48e2-a47f-aa6ea04df4ed\")) {\n",
       "                    Plotly.newPlot(\n",
       "                        '22e4609b-1cda-48e2-a47f-aa6ea04df4ed',\n",
       "                        [{\"hoverlabel\": {\"namelength\": 0}, \"hovertemplate\": \"username=City of Philadelphia<br>date=%{x}\", \"legendgroup\": \"username=City of Philadelphia\", \"marker\": {\"color\": \"#636efa\", \"symbol\": \"circle\"}, \"mode\": \"markers\", \"name\": \"username=City of Philadelphia\", \"showlegend\": true, \"type\": \"scatter\", \"x\": [\"2015-08-25T17:02:57\", \"2016-12-07T17:30:17\", \"2014-02-05T21:34:18\", \"2014-02-05T15:06:11\", \"2018-10-30T15:00:49\", \"2018-10-22T22:00:39\", \"2018-08-31T19:46:41\", \"2018-08-16T18:30:11\", \"2018-08-06T23:30:05\", \"2018-01-09T19:00:15\", \"2017-12-20T17:00:56\", \"2017-07-06T19:30:10\", \"2017-06-28T14:25:16\", \"2017-06-01T20:39:10\", \"2019-12-31T15:25:03\", \"2019-10-26T21:10:05\", \"2019-10-23T15:30:29\", \"2019-10-15T17:35:05\", \"2019-10-10T23:00:33\", \"2019-10-08T15:15:07\"], \"xaxis\": \"x\", \"yaxis\": \"y\"}, {\"hoverlabel\": {\"namelength\": 0}, \"hovertemplate\": \"username=Philadelphia Parks & Recreation<br>date=%{x}\", \"legendgroup\": \"username=Philadelphia Parks & Recreation\", \"marker\": {\"color\": \"#EF553B\", \"symbol\": \"circle\"}, \"mode\": \"markers\", \"name\": \"username=Philadelphia Parks & Recreation\", \"showlegend\": true, \"type\": \"scatter\", \"x\": [\"2016-07-12T16:15:14\"], \"xaxis\": \"x\", \"yaxis\": \"y\"}],\n",
       "                        {\"height\": 600, \"legend\": {\"tracegroupgap\": 0}, \"margin\": {\"t\": 60}, \"template\": {\"data\": {\"bar\": [{\"error_x\": {\"color\": \"#2a3f5f\"}, \"error_y\": {\"color\": \"#2a3f5f\"}, \"marker\": {\"line\": {\"color\": \"#E5ECF6\", \"width\": 0.5}}, \"type\": \"bar\"}], \"barpolar\": [{\"marker\": {\"line\": {\"color\": \"#E5ECF6\", \"width\": 0.5}}, \"type\": \"barpolar\"}], \"carpet\": [{\"aaxis\": {\"endlinecolor\": \"#2a3f5f\", \"gridcolor\": \"white\", \"linecolor\": \"white\", \"minorgridcolor\": \"white\", \"startlinecolor\": \"#2a3f5f\"}, \"baxis\": {\"endlinecolor\": \"#2a3f5f\", \"gridcolor\": \"white\", \"linecolor\": \"white\", \"minorgridcolor\": \"white\", \"startlinecolor\": \"#2a3f5f\"}, \"type\": \"carpet\"}], \"choropleth\": [{\"colorbar\": {\"outlinewidth\": 0, \"ticks\": \"\"}, \"type\": \"choropleth\"}], \"contour\": [{\"colorbar\": {\"outlinewidth\": 0, \"ticks\": \"\"}, \"colorscale\": [[0.0, \"#0d0887\"], [0.1111111111111111, \"#46039f\"], [0.2222222222222222, \"#7201a8\"], [0.3333333333333333, \"#9c179e\"], [0.4444444444444444, \"#bd3786\"], [0.5555555555555556, \"#d8576b\"], [0.6666666666666666, \"#ed7953\"], [0.7777777777777778, \"#fb9f3a\"], [0.8888888888888888, \"#fdca26\"], [1.0, \"#f0f921\"]], \"type\": \"contour\"}], \"contourcarpet\": [{\"colorbar\": {\"outlinewidth\": 0, \"ticks\": \"\"}, \"type\": \"contourcarpet\"}], \"heatmap\": [{\"colorbar\": {\"outlinewidth\": 0, \"ticks\": \"\"}, \"colorscale\": [[0.0, \"#0d0887\"], [0.1111111111111111, \"#46039f\"], [0.2222222222222222, \"#7201a8\"], [0.3333333333333333, \"#9c179e\"], [0.4444444444444444, \"#bd3786\"], [0.5555555555555556, \"#d8576b\"], [0.6666666666666666, \"#ed7953\"], [0.7777777777777778, \"#fb9f3a\"], [0.8888888888888888, \"#fdca26\"], [1.0, \"#f0f921\"]], \"type\": \"heatmap\"}], \"heatmapgl\": [{\"colorbar\": {\"outlinewidth\": 0, \"ticks\": \"\"}, \"colorscale\": [[0.0, \"#0d0887\"], [0.1111111111111111, \"#46039f\"], [0.2222222222222222, \"#7201a8\"], [0.3333333333333333, \"#9c179e\"], [0.4444444444444444, \"#bd3786\"], [0.5555555555555556, \"#d8576b\"], [0.6666666666666666, \"#ed7953\"], [0.7777777777777778, \"#fb9f3a\"], [0.8888888888888888, \"#fdca26\"], [1.0, \"#f0f921\"]], \"type\": \"heatmapgl\"}], \"histogram\": [{\"marker\": {\"colorbar\": {\"outlinewidth\": 0, \"ticks\": \"\"}}, \"type\": \"histogram\"}], \"histogram2d\": [{\"colorbar\": {\"outlinewidth\": 0, \"ticks\": \"\"}, \"colorscale\": [[0.0, \"#0d0887\"], [0.1111111111111111, \"#46039f\"], [0.2222222222222222, \"#7201a8\"], [0.3333333333333333, \"#9c179e\"], [0.4444444444444444, \"#bd3786\"], [0.5555555555555556, \"#d8576b\"], [0.6666666666666666, \"#ed7953\"], [0.7777777777777778, \"#fb9f3a\"], [0.8888888888888888, \"#fdca26\"], [1.0, \"#f0f921\"]], \"type\": \"histogram2d\"}], \"histogram2dcontour\": [{\"colorbar\": {\"outlinewidth\": 0, \"ticks\": \"\"}, \"colorscale\": [[0.0, \"#0d0887\"], [0.1111111111111111, \"#46039f\"], [0.2222222222222222, \"#7201a8\"], [0.3333333333333333, \"#9c179e\"], [0.4444444444444444, \"#bd3786\"], [0.5555555555555556, \"#d8576b\"], [0.6666666666666666, \"#ed7953\"], [0.7777777777777778, \"#fb9f3a\"], [0.8888888888888888, \"#fdca26\"], [1.0, \"#f0f921\"]], \"type\": \"histogram2dcontour\"}], \"mesh3d\": [{\"colorbar\": {\"outlinewidth\": 0, \"ticks\": \"\"}, \"type\": \"mesh3d\"}], \"parcoords\": [{\"line\": {\"colorbar\": {\"outlinewidth\": 0, \"ticks\": \"\"}}, \"type\": \"parcoords\"}], \"scatter\": [{\"marker\": {\"colorbar\": {\"outlinewidth\": 0, \"ticks\": \"\"}}, \"type\": \"scatter\"}], \"scatter3d\": [{\"line\": {\"colorbar\": {\"outlinewidth\": 0, \"ticks\": \"\"}}, \"marker\": {\"colorbar\": {\"outlinewidth\": 0, \"ticks\": \"\"}}, \"type\": \"scatter3d\"}], \"scattercarpet\": [{\"marker\": {\"colorbar\": {\"outlinewidth\": 0, \"ticks\": \"\"}}, \"type\": \"scattercarpet\"}], \"scattergeo\": [{\"marker\": {\"colorbar\": {\"outlinewidth\": 0, \"ticks\": \"\"}}, \"type\": \"scattergeo\"}], \"scattergl\": [{\"marker\": {\"colorbar\": {\"outlinewidth\": 0, \"ticks\": \"\"}}, \"type\": \"scattergl\"}], \"scattermapbox\": [{\"marker\": {\"colorbar\": {\"outlinewidth\": 0, \"ticks\": \"\"}}, \"type\": \"scattermapbox\"}], \"scatterpolar\": [{\"marker\": {\"colorbar\": {\"outlinewidth\": 0, \"ticks\": \"\"}}, \"type\": \"scatterpolar\"}], \"scatterpolargl\": [{\"marker\": {\"colorbar\": {\"outlinewidth\": 0, \"ticks\": \"\"}}, \"type\": \"scatterpolargl\"}], \"scatterternary\": [{\"marker\": {\"colorbar\": {\"outlinewidth\": 0, \"ticks\": \"\"}}, \"type\": \"scatterternary\"}], \"surface\": [{\"colorbar\": {\"outlinewidth\": 0, \"ticks\": \"\"}, \"colorscale\": [[0.0, \"#0d0887\"], [0.1111111111111111, \"#46039f\"], [0.2222222222222222, \"#7201a8\"], [0.3333333333333333, \"#9c179e\"], [0.4444444444444444, \"#bd3786\"], [0.5555555555555556, \"#d8576b\"], [0.6666666666666666, \"#ed7953\"], [0.7777777777777778, \"#fb9f3a\"], [0.8888888888888888, \"#fdca26\"], [1.0, \"#f0f921\"]], \"type\": \"surface\"}], \"table\": [{\"cells\": {\"fill\": {\"color\": \"#EBF0F8\"}, \"line\": {\"color\": \"white\"}}, \"header\": {\"fill\": {\"color\": \"#C8D4E3\"}, \"line\": {\"color\": \"white\"}}, \"type\": \"table\"}]}, \"layout\": {\"annotationdefaults\": {\"arrowcolor\": \"#2a3f5f\", \"arrowhead\": 0, \"arrowwidth\": 1}, \"colorscale\": {\"diverging\": [[0, \"#8e0152\"], [0.1, \"#c51b7d\"], [0.2, \"#de77ae\"], [0.3, \"#f1b6da\"], [0.4, \"#fde0ef\"], [0.5, \"#f7f7f7\"], [0.6, \"#e6f5d0\"], [0.7, \"#b8e186\"], [0.8, \"#7fbc41\"], [0.9, \"#4d9221\"], [1, \"#276419\"]], \"sequential\": [[0.0, \"#0d0887\"], [0.1111111111111111, \"#46039f\"], [0.2222222222222222, \"#7201a8\"], [0.3333333333333333, \"#9c179e\"], [0.4444444444444444, \"#bd3786\"], [0.5555555555555556, \"#d8576b\"], [0.6666666666666666, \"#ed7953\"], [0.7777777777777778, \"#fb9f3a\"], [0.8888888888888888, \"#fdca26\"], [1.0, \"#f0f921\"]], \"sequentialminus\": [[0.0, \"#0d0887\"], [0.1111111111111111, \"#46039f\"], [0.2222222222222222, \"#7201a8\"], [0.3333333333333333, \"#9c179e\"], [0.4444444444444444, \"#bd3786\"], [0.5555555555555556, \"#d8576b\"], [0.6666666666666666, \"#ed7953\"], [0.7777777777777778, \"#fb9f3a\"], [0.8888888888888888, \"#fdca26\"], [1.0, \"#f0f921\"]]}, \"colorway\": [\"#636efa\", \"#EF553B\", \"#00cc96\", \"#ab63fa\", \"#FFA15A\", \"#19d3f3\", \"#FF6692\", \"#B6E880\", \"#FF97FF\", \"#FECB52\"], \"font\": {\"color\": \"#2a3f5f\"}, \"geo\": {\"bgcolor\": \"white\", \"lakecolor\": \"white\", \"landcolor\": \"#E5ECF6\", \"showlakes\": true, \"showland\": true, \"subunitcolor\": \"white\"}, \"hoverlabel\": {\"align\": \"left\"}, \"hovermode\": \"closest\", \"mapbox\": {\"style\": \"light\"}, \"paper_bgcolor\": \"white\", \"plot_bgcolor\": \"#E5ECF6\", \"polar\": {\"angularaxis\": {\"gridcolor\": \"white\", \"linecolor\": \"white\", \"ticks\": \"\"}, \"bgcolor\": \"#E5ECF6\", \"radialaxis\": {\"gridcolor\": \"white\", \"linecolor\": \"white\", \"ticks\": \"\"}}, \"scene\": {\"xaxis\": {\"backgroundcolor\": \"#E5ECF6\", \"gridcolor\": \"white\", \"gridwidth\": 2, \"linecolor\": \"white\", \"showbackground\": true, \"ticks\": \"\", \"zerolinecolor\": \"white\"}, \"yaxis\": {\"backgroundcolor\": \"#E5ECF6\", \"gridcolor\": \"white\", \"gridwidth\": 2, \"linecolor\": \"white\", \"showbackground\": true, \"ticks\": \"\", \"zerolinecolor\": \"white\"}, \"zaxis\": {\"backgroundcolor\": \"#E5ECF6\", \"gridcolor\": \"white\", \"gridwidth\": 2, \"linecolor\": \"white\", \"showbackground\": true, \"ticks\": \"\", \"zerolinecolor\": \"white\"}}, \"shapedefaults\": {\"line\": {\"color\": \"#2a3f5f\"}}, \"ternary\": {\"aaxis\": {\"gridcolor\": \"white\", \"linecolor\": \"white\", \"ticks\": \"\"}, \"baxis\": {\"gridcolor\": \"white\", \"linecolor\": \"white\", \"ticks\": \"\"}, \"bgcolor\": \"#E5ECF6\", \"caxis\": {\"gridcolor\": \"white\", \"linecolor\": \"white\", \"ticks\": \"\"}}, \"title\": {\"x\": 0.05}, \"xaxis\": {\"automargin\": true, \"gridcolor\": \"white\", \"linecolor\": \"white\", \"ticks\": \"\", \"zerolinecolor\": \"white\", \"zerolinewidth\": 2}, \"yaxis\": {\"automargin\": true, \"gridcolor\": \"white\", \"linecolor\": \"white\", \"ticks\": \"\", \"zerolinecolor\": \"white\", \"zerolinewidth\": 2}}}, \"xaxis\": {\"anchor\": \"y\", \"domain\": [0.0, 0.98], \"title\": {\"text\": \"date\"}}, \"yaxis\": {\"anchor\": \"x\", \"domain\": [0.0, 1.0]}},\n",
       "                        {\"responsive\": true}\n",
       "                    ).then(function(){\n",
       "                            \n",
       "var gd = document.getElementById('22e4609b-1cda-48e2-a47f-aa6ea04df4ed');\n",
       "var x = new MutationObserver(function (mutations, observer) {{\n",
       "        var display = window.getComputedStyle(gd).display;\n",
       "        if (!display || display === 'none') {{\n",
       "            console.log([gd, 'removed!']);\n",
       "            Plotly.purge(gd);\n",
       "            observer.disconnect();\n",
       "        }}\n",
       "}});\n",
       "\n",
       "// Listen for the removal of the full notebook cells\n",
       "var notebookContainer = gd.closest('#notebook-container');\n",
       "if (notebookContainer) {{\n",
       "    x.observe(notebookContainer, {childList: true});\n",
       "}}\n",
       "\n",
       "// Listen for the clearing of the current output cell\n",
       "var outputEl = gd.closest('.output');\n",
       "if (outputEl) {{\n",
       "    x.observe(outputEl, {childList: true});\n",
       "}}\n",
       "\n",
       "                        })\n",
       "                };\n",
       "                });\n",
       "            </script>\n",
       "        </div>"
      ]
     },
     "metadata": {},
     "output_type": "display_data"
    }
   ],
   "source": [
    "fig = px.scatter(phila_tweets, x='date', color='username')\n",
    "fig.show()"
   ]
  },
  {
   "cell_type": "code",
   "execution_count": null,
   "metadata": {},
   "outputs": [],
   "source": []
  }
 ],
 "metadata": {
  "kernelspec": {
   "display_name": "Python 3",
   "language": "python",
   "name": "python3"
  },
  "language_info": {
   "codemirror_mode": {
    "name": "ipython",
    "version": 3
   },
   "file_extension": ".py",
   "mimetype": "text/x-python",
   "name": "python",
   "nbconvert_exporter": "python",
   "pygments_lexer": "ipython3",
   "version": "3.6.9"
  }
 },
 "nbformat": 4,
 "nbformat_minor": 2
}
