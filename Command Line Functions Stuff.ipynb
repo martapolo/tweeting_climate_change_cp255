{
 "cells": [
  {
   "cell_type": "code",
   "execution_count": null,
   "metadata": {},
   "outputs": [],
   "source": [
    "import numpy as np\n",
    "import pandas as pd\n",
    "import matplotlib.pyplot as plt\n",
    "import matplotlib as mpl\n",
    "import json      # library for working with JSON-formatted text strings\n",
    "import pprint as pp    # library for cleanly printing Python data structures\n",
    "import seaborn as sns\n",
    "\n",
    "\n",
    "# This is a basic test for https://github.com/taspinar/twitterscraper. Using the demo data looking at all tweets re. Trump. \n",
    "\n",
    "# twitterscraper \"climate change from:metrolosangeles\" --lang en -o cc_test.JSON -l 100"
   ]
  },
  {
   "cell_type": "code",
   "execution_count": 23,
   "metadata": {},
   "outputs": [],
   "source": [
    "#FUNCTION JSON TO DATAFRAME\n",
    "def json_to_df_tweets (csv_file):\n",
    "    with open(csv_file) as f:\n",
    "      data = json.load(f)\n",
    "    \n",
    "    d = {'username': [x['username'] for x in data],\n",
    "        'time': [x['timestamp'] for x in data],\n",
    "        'tweet': [x['text'] for x in data],\n",
    "        'likes': [x['likes'] for x in data],\n",
    "        'replies': [x['replies'] for x in data]\n",
    "        }\n",
    "    \n",
    "    df_Test = pd.DataFrame.from_dict(d)\n",
    "    \n",
    "    return df_Test"
   ]
  },
  {
   "cell_type": "code",
   "execution_count": null,
   "metadata": {},
   "outputs": [],
   "source": [
    "#### ~~~~~~ DONT USE THIS ONE ANYMORE ~~~~~~~~\n",
    "\n",
    "#FUNCTION: TWITTERSCRAPER TO JSON file\n",
    "\n",
    "#  THIS IS THE ONE WTIH KEYWORDS \n",
    "\n",
    "def twitterscraper(usernames, keywords, city):\n",
    "    string = 'twitterscraper \"'+ keywords+' '+usernames+'\" --lang en -o '+city+'.JSON' \n",
    "    return print(string)\n",
    "\n",
    "def frommer(account):\n",
    "    account = account.lower()\n",
    "    string = 'OR from:'+account\n",
    "    return print(string)\n",
    "\n",
    "#FOR EACH CITY FOLLOW THESE STEPS TO MAKE 1 JSON FILE:\n",
    "\n",
    "##### Step 1: frommer the twitter accounts \n",
    "\n",
    "for account in [\"SeattleOPCD\", \"CityofSeattle\", \"seattledot\", \"SeattleOSE\", \"kcmetrobus\"]:\n",
    "    frommer(account)\n",
    "\n",
    "##### Step 2 - update username/keywords \n",
    "\n",
    "# usernames - use the frommer output cut & paste:\n",
    "#iesernames = \"from:seattleopcd OR from:cityofseattle OR from:seattledot OR from:seattleose OR from:kcmetrobus\"   \n",
    "\n",
    "# NO KEYWORDS ANYMORE same keywords everytime\n",
    "keywords = \"climate change OR global warming OR sea level rise OR greenhouse gas OR resilience OR sustainability OR sustainable OR carbon OR emissions\"\n",
    "\n",
    "##### Step 3 - twitterscraper them w/city name\n",
    "\n",
    "twitterscraper(usernames, keywords, \"seattle-3\")"
   ]
  },
  {
   "cell_type": "code",
   "execution_count": 34,
   "metadata": {},
   "outputs": [
    {
     "name": "stdout",
     "output_type": "stream",
     "text": [
      "OR from:seattleopcd\n",
      "OR from:cityofseattle\n",
      "OR from:seattledot\n",
      "OR from:seattleose\n",
      "OR from:kcmetrobus\n",
      " twitterscraper \" from:seattleopcd OR from:cityofseattle OR from:seattledot OR from:seattleose OR from:kcmetrobus\" --lang en -o seattle.JSON\n"
     ]
    }
   ],
   "source": [
    "# USE THIS ONE !!!!!!!!!!\n",
    "\n",
    "#FUNCTION: TWITTERSCRAPER TO JSON file\n",
    "\n",
    "#THIS IS THE ONE GOOD ONE WTIHOUT KEYWORDS - USE THIS ONE \n",
    "\n",
    "def twitterscraper(usernames, city):\n",
    "    string = ' twitterscraper \" '+ usernames+'\" --lang en -o '+city+'.JSON' \n",
    "    return print(string)\n",
    "\n",
    "def frommer(account):\n",
    "    account = account.lower()\n",
    "    string = 'OR from:'+account\n",
    "    return print(string)\n",
    "\n",
    "#FOR EACH CITY FOLLOW THESE STEPS TO MAKE 1 JSON FILE:\n",
    "\n",
    "##### Step 1: frommer the twitter accounts \n",
    "\n",
    "for account in [\"SeattleOPCD\", \"CityofSeattle\", \"seattledot\", \"SeattleOSE\", \"kcmetrobus\"]:\n",
    "    frommer(account)\n",
    "\n",
    "##### Step 2 - update usernames w/frommer output\n",
    "\n",
    "# usernames - use the frommer output cut & paste:\n",
    "#ie usernames = \"from:seattleopcd OR from:cityofseattle OR from:seattledot OR from:seattleose OR from:kcmetrobus\"   \n",
    "\n",
    "##### Step 3 - twitterscraper them w/city name\n",
    "\n",
    "twitterscraper(usernames, \"seattle\")\n",
    "\n",
    "\n",
    "#OUTPUT SHOULD BE SOMETHING LIKE:\n",
    "# twitterscraper \" from:seattleopcd OR from:cityofseattle OR from:seattledot OR from:seattleose OR from:kcmetrobus\" --lang en -o seattle---.JSON\n"
   ]
  },
  {
   "cell_type": "code",
   "execution_count": 1,
   "metadata": {},
   "outputs": [
    {
     "ename": "NameError",
     "evalue": "name 'json_to_df_tweets' is not defined",
     "output_type": "error",
     "traceback": [
      "\u001b[1;31m---------------------------------------------------------------------------\u001b[0m",
      "\u001b[1;31mNameError\u001b[0m                                 Traceback (most recent call last)",
      "\u001b[1;32m<ipython-input-1-47a9ab255a73>\u001b[0m in \u001b[0;36m<module>\u001b[1;34m\u001b[0m\n\u001b[0;32m      1\u001b[0m \u001b[1;31m# JSON TO DATAFRAME FUNCTION\u001b[0m\u001b[1;33m\u001b[0m\u001b[1;33m\u001b[0m\u001b[1;33m\u001b[0m\u001b[0m\n\u001b[1;32m----> 2\u001b[1;33m \u001b[0mseattle\u001b[0m \u001b[1;33m=\u001b[0m \u001b[0mjson_to_df_tweets\u001b[0m\u001b[1;33m(\u001b[0m\u001b[1;34m'seattle.JSON'\u001b[0m\u001b[1;33m)\u001b[0m\u001b[1;33m\u001b[0m\u001b[1;33m\u001b[0m\u001b[0m\n\u001b[0m\u001b[0;32m      3\u001b[0m \u001b[0mprint\u001b[0m\u001b[1;33m(\u001b[0m\u001b[0mseattle\u001b[0m\u001b[1;33m)\u001b[0m\u001b[1;33m\u001b[0m\u001b[1;33m\u001b[0m\u001b[0m\n\u001b[0;32m      4\u001b[0m \u001b[1;33m\u001b[0m\u001b[0m\n\u001b[0;32m      5\u001b[0m \u001b[0mseattle\u001b[0m \u001b[1;33m=\u001b[0m \u001b[0mseattle\u001b[0m\u001b[1;33m.\u001b[0m\u001b[0mloc\u001b[0m\u001b[1;33m[\u001b[0m\u001b[1;33m(\u001b[0m\u001b[0mseattle\u001b[0m\u001b[1;33m[\u001b[0m\u001b[1;34m'tweet'\u001b[0m\u001b[1;33m]\u001b[0m\u001b[1;33m.\u001b[0m\u001b[0mstr\u001b[0m\u001b[1;33m.\u001b[0m\u001b[0mcontains\u001b[0m\u001b[1;33m(\u001b[0m\u001b[1;34m'COVID'\u001b[0m\u001b[1;33m)\u001b[0m\u001b[1;33m)\u001b[0m\u001b[1;33m]\u001b[0m\u001b[1;33m\u001b[0m\u001b[1;33m\u001b[0m\u001b[0m\n",
      "\u001b[1;31mNameError\u001b[0m: name 'json_to_df_tweets' is not defined"
     ]
    }
   ],
   "source": [
    "# JSON TO DATAFRAME FUNCTION\n",
    "seattle = json_to_df_tweets('seattle.JSON')\n",
    "print(seattle)\n",
    "\n",
    "seattle = seattle.loc[(seattle['tweet'].str.contains('COVID'))]\n",
    "seattle"
   ]
  },
  {
   "cell_type": "code",
   "execution_count": 25,
   "metadata": {},
   "outputs": [
    {
     "ename": "SyntaxError",
     "evalue": "EOF while scanning triple-quoted string literal (<ipython-input-25-d2543d61cef0>, line 32)",
     "output_type": "error",
     "traceback": [
      "\u001b[1;36m  File \u001b[1;32m\"<ipython-input-25-d2543d61cef0>\"\u001b[1;36m, line \u001b[1;32m32\u001b[0m\n\u001b[1;33m    twitterscraper(usernames, keywords, \"seattle-3\")\u001b[0m\n\u001b[1;37m                                                    \n^\u001b[0m\n\u001b[1;31mSyntaxError\u001b[0m\u001b[1;31m:\u001b[0m EOF while scanning triple-quoted string literal\n"
     ]
    }
   ],
   "source": [
    "\"\"\"\n",
    "IGNORE FOR NOW MOSTLY, I don't know what this one is different but keeping it for a minute\n",
    "\n",
    "FUNCTIONS\n",
    "\n",
    "def twitterscraper(usernames, keywords, city):\n",
    "    string = 'twitterscraper \"'+ keywords+' '+usernames+'\" --lang en -o '+city+'.JSON -l 1000' \n",
    "    return print(string)\n",
    "\n",
    "def frommer(account):\n",
    "    account = account.lower()\n",
    "    string = 'OR from:'+account\n",
    "    return print(string)\n",
    "\n",
    "#FOR EACH CITY FOLLOW THESE STEPS TO MAKE 1 JSON FILE:\n",
    "\n",
    "##### Step 1: frommer the twitter accounts \n",
    "\n",
    "for account in [\"SeattleOPCD\", \"CityofSeattle\", \"seattledot\", \"SeattleOSE\", \"kcmetrobus\"]:\n",
    "    frommer(account)\n",
    "\n",
    "##### Step 2 - update username/keywords \n",
    "\n",
    "# usernames - use the frommer output cut & paste:\n",
    "usernames = \"from:seattleopcd OR from:cityofseattle OR from:seattledot OR from:seattleose OR from:kcmetrobus\"   \n",
    "\n",
    "# same keywords everytime\n",
    "keywords = \"climate change OR global warming OR sea level rise OR greenhouse gas OR resilience OR sustainability OR sustainable OR carbon OR emissions\"\n",
    "\n",
    "##### Step 3 - twitterscraper them w/city name\n",
    "\n",
    "twitterscraper(usernames, keywords, \"seattle-3\")"
   ]
  }
 ],
 "metadata": {
  "kernelspec": {
   "display_name": "Python 3",
   "language": "python",
   "name": "python3"
  },
  "language_info": {
   "codemirror_mode": {
    "name": "ipython",
    "version": 3
   },
   "file_extension": ".py",
   "mimetype": "text/x-python",
   "name": "python",
   "nbconvert_exporter": "python",
   "pygments_lexer": "ipython3",
   "version": "3.7.4"
  }
 },
 "nbformat": 4,
 "nbformat_minor": 2
}
